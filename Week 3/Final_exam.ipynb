{
  "cells": [
    {
      "cell_type": "markdown",
      "source": [
        "# Final Exam\n",
        "\n",
        "Each problem below is worth 6 points. Overall the Python problems are worth 30 points and half of the Final exam grade.\n",
        "\n",
        "### Problem 1\n",
        "\n",
        "Create a function that will take three integers as arguments and calculate their average.\n",
        "\n",
        "### Problem 2\n",
        "\n",
        "Create a for loop, that will print only the female names from the list below:\n",
        "```\n",
        "name_list = [\"Jack\",\"James\",\"Alice\",\n",
        "            \"Jimmy\",\"John\",\"Andrea\",\n",
        "            \"Joshua\",\"Jonathan\",\"Anastasia\"]\n",
        "```\n",
        "\n",
        "### Problem 3\n",
        "\n",
        "Solve the problem above using a while loop.\n",
        "\n",
        "### Problem 4\n",
        "\n",
        "Get all time stock data using pandas_datareader on Alibaba (\"BABA\") from Google finance. Show the plot of the Alibaba stock's Opening price. Calculate its 5 descriptive measures (mean, median, mode, range, standard deviation).\n",
        "\n",
        "### Problem 5\n",
        "\nDefine a function called **converter** that will take a string as an argument. This string should be some 3 digit amount followed USD or EUR (e.g. \"115 USD\" or \"115 EUR\"). The function will then convert this amount to AMD and return a string (e.g. \"55011 AMD\" or \"65052 AMD\")"
      ],
      "metadata": {}
    }
  ],
  "metadata": {
    "kernelspec": {
      "name": "python2",
      "language": "python",
      "display_name": "Python 2"
    },
    "kernel_info": {
      "name": "python2"
    },
    "language_info": {
      "mimetype": "text/x-python",
      "nbconvert_exporter": "python",
      "name": "python",
      "pygments_lexer": "ipython2",
      "version": "2.7.12",
      "file_extension": ".py",
      "codemirror_mode": {
        "version": 2,
        "name": "ipython"
      }
    }
  },
  "nbformat": 4,
  "nbformat_minor": 4
}