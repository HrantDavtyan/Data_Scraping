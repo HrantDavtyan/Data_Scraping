{
 "cells": [
  {
   "cell_type": "markdown",
   "metadata": {},
   "source": [
    "# Reading/Writing JSON files\n",
    "\n",
    "JSON documents are very popular file format and you may always see them when getting a response from an API. They are very similar to Python dictionaries in a sense that both of them are pairs of keys and values. Because of their popularity, a standing out Python package called **JSON** is coming preinstalled once you download and install Python. THe package provdes some nice functions for dealing with JSON documents. This notebook provides introduction on reading JSON files from a string variable, local file and from a URL, as well as points the necessary functions to write a variable into an existing or a new JSON file.\n",
    "\n",
    "Note: Only **Parsing JSON from a string variable** part is posted now, as the rest was not covered during the lecture.\n",
    "\n",
    "### Parsing JSON from a string variable"
   ]
  },
  {
   "cell_type": "code",
   "execution_count": 1,
   "metadata": {
    "collapsed": true
   },
   "outputs": [],
   "source": [
    "import json"
   ]
  },
  {
   "cell_type": "markdown",
   "metadata": {},
   "source": [
    "The JSON package has a **loads()** function which takes a string as an argument and converts it to JSON. THus, let's a create a string which will include a JSON file. In our case this file will be a list of 2 dictionaries, where each of the dictionaires will have 3 keys and a value for each as presented below."
   ]
  },
  {
   "cell_type": "code",
   "execution_count": 2,
   "metadata": {
    "collapsed": true
   },
   "outputs": [],
   "source": [
    "input = '''[\n",
    "  { \"id\" : \"01\",\n",
    "    \"status\" : \"Instructor\",\n",
    "    \"name\" : \"Hrant\"\n",
    "  } ,\n",
    "  { \"id\" : \"02\",\n",
    "    \"status\" : \"Student\",\n",
    "    \"name\" : \"Jack\"\n",
    "  }\n",
    "]'''"
   ]
  },
  {
   "cell_type": "markdown",
   "metadata": {},
   "source": [
    "Once we have the string, we can use the abovementioned **loads()** function from the **JSON** package to convert the string variable into JSON. Please note, that there is another similar function called **load()** (without s), which does the same but for local files, rather than a string variable inside Python. Thus, as we have a string variable to load, the correct function will be **loads()**. "
   ]
  },
  {
   "cell_type": "code",
   "execution_count": 3,
   "metadata": {
    "collapsed": true
   },
   "outputs": [],
   "source": [
    "data = json.loads(input)"
   ]
  },
  {
   "cell_type": "markdown",
   "metadata": {},
   "source": [
    "Let's check the type of the **data** variable."
   ]
  },
  {
   "cell_type": "code",
   "execution_count": 4,
   "metadata": {
    "collapsed": false
   },
   "outputs": [
    {
     "data": {
      "text/plain": [
       "list"
      ]
     },
     "execution_count": 4,
     "metadata": {},
     "output_type": "execute_result"
    }
   ],
   "source": [
    "type(data)"
   ]
  },
  {
   "cell_type": "markdown",
   "metadata": {},
   "source": [
    "As expected, **data** is a list, a list that have 2 dictionaire elements."
   ]
  },
  {
   "cell_type": "markdown",
   "metadata": {},
   "source": [
    "Let's count how many users we have information on in our list (i.e. we have 2 dictionaires so basically we already know the  answer)."
   ]
  },
  {
   "cell_type": "code",
   "execution_count": 5,
   "metadata": {
    "collapsed": false
   },
   "outputs": [
    {
     "name": "stdout",
     "output_type": "stream",
     "text": [
      "User count: 2\n"
     ]
    }
   ],
   "source": [
    "print 'User count:', len(data)"
   ]
  },
  {
   "cell_type": "markdown",
   "metadata": {},
   "source": [
    "Let's print the data to see those 2 elements"
   ]
  },
  {
   "cell_type": "code",
   "execution_count": 6,
   "metadata": {
    "collapsed": false
   },
   "outputs": [
    {
     "name": "stdout",
     "output_type": "stream",
     "text": [
      "[{u'status': u'Instructor', u'id': u'01', u'name': u'Hrant'}, {u'status': u'Student', u'id': u'02', u'name': u'Jack'}]\n"
     ]
    }
   ],
   "source": [
    "print(data)"
   ]
  },
  {
   "cell_type": "markdown",
   "metadata": {},
   "source": [
    "We can even pretty print it, to make the output more user friendly."
   ]
  },
  {
   "cell_type": "code",
   "execution_count": 7,
   "metadata": {
    "collapsed": true
   },
   "outputs": [],
   "source": [
    "from pprint import pprint"
   ]
  },
  {
   "cell_type": "code",
   "execution_count": 8,
   "metadata": {
    "collapsed": false
   },
   "outputs": [
    {
     "name": "stdout",
     "output_type": "stream",
     "text": [
      "[{u'id': u'01', u'name': u'Hrant', u'status': u'Instructor'},\n",
      " {u'id': u'02', u'name': u'Jack', u'status': u'Student'}]\n"
     ]
    }
   ],
   "source": [
    "pprint(data)"
   ]
  },
  {
   "cell_type": "markdown",
   "metadata": {},
   "source": [
    "Fine, we see the two elements. Now, let's print the content (values) by choosing them by keys. For that purpose, we must create a for loop, that will iterate over the elements in the list (2 dictionaires, in our case) and for each of the elements print some text (e.g. the key, which are \"Name\", \"ID\" and \"Status\") followed by the value of that key.  "
   ]
  },
  {
   "cell_type": "code",
   "execution_count": 9,
   "metadata": {
    "collapsed": false
   },
   "outputs": [
    {
     "name": "stdout",
     "output_type": "stream",
     "text": [
      "Name:  Hrant\n",
      "Id:  01\n",
      "Status:  Instructor \n",
      "\n",
      "Name:  Jack\n",
      "Id:  02\n",
      "Status:  Student \n",
      "\n"
     ]
    }
   ],
   "source": [
    "for item in data:\n",
    "    print 'Name: ', item['name']\n",
    "    print 'Id: ', item['id']\n",
    "    print 'Status: ', item['status'], \"\\n\""
   ]
  },
  {
   "cell_type": "markdown",
   "metadata": {},
   "source": [
    "Excellent! The ourput is much more readible in this case. Also, please take a look at the ```\"\\n\"``` in the loop: it exists in order to separate the output of two elements with a new line, as presented in the output above."
   ]
  }
 ],
 "metadata": {
  "kernelspec": {
   "display_name": "Python [default]",
   "language": "python",
   "name": "python2"
  },
  "language_info": {
   "codemirror_mode": {
    "name": "ipython",
    "version": 2
   },
   "file_extension": ".py",
   "mimetype": "text/x-python",
   "name": "python",
   "nbconvert_exporter": "python",
   "pygments_lexer": "ipython2",
   "version": "2.7.12"
  }
 },
 "nbformat": 4,
 "nbformat_minor": 2
}
