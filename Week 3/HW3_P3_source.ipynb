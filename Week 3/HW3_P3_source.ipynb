{
 "cells": [
  {
   "cell_type": "code",
   "execution_count": 1,
   "metadata": {
    "collapsed": true
   },
   "outputs": [],
   "source": [
    "input = '''[\n",
    "    {\n",
    "    \"Movie\":\"Game of Thrones\",\n",
    "    \"Actor\":\"Peter Dinklage\",\n",
    "    \"Role\":\"Tyrion Lannister\"    \n",
    "    },\n",
    "    {\n",
    "    \"Movie\":\"Vikings\",\n",
    "    \"Actor\":\"Travis Fimmel\",\n",
    "    \"Role\":\"Ragnar Lothbrok\"  \n",
    "    },\n",
    "    {\n",
    "    \"Movie\":\"The last Kingdom\",\n",
    "    \"Actor\":{\n",
    "            \"Young Uhtred\":\"Tom Taylor\",\n",
    "            \"Not that young Uhtred\":\"Alexander Dreymon\"\n",
    "            },\n",
    "    \"Role\":\"Uhtred of Bebbanburg\"\n",
    "    }\n",
    "]'''"
   ]
  },
  {
   "cell_type": "code",
   "execution_count": 2,
   "metadata": {
    "collapsed": false
   },
   "outputs": [
    {
     "name": "stdout",
     "output_type": "stream",
     "text": [
      "Movie:  Game of Thrones\n",
      "Role:  Tyrion Lannister\n",
      "Actor: Peter Dinklage \n",
      "\n",
      "Movie:  Vikings\n",
      "Role:  Ragnar Lothbrok\n",
      "Actor: Travis Fimmel \n",
      "\n",
      "Movie:  The last Kingdom\n",
      "Role:  Uhtred of Bebbanburg\n",
      "Actor 1:  Tom Taylor\n",
      "Actor 2:  Alexander Dreymon \n",
      "\n"
     ]
    }
   ],
   "source": []
  },
  {
   "cell_type": "code",
   "execution_count": null,
   "metadata": {
    "collapsed": true
   },
   "outputs": [],
   "source": []
  }
 ],
 "metadata": {
  "kernelspec": {
   "display_name": "Python [default]",
   "language": "python",
   "name": "python2"
  },
  "language_info": {
   "codemirror_mode": {
    "name": "ipython",
    "version": 2
   },
   "file_extension": ".py",
   "mimetype": "text/x-python",
   "name": "python",
   "nbconvert_exporter": "python",
   "pygments_lexer": "ipython2",
   "version": "2.7.12"
  }
 },
 "nbformat": 4,
 "nbformat_minor": 2
}
