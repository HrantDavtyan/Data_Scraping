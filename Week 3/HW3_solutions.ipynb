{
 "cells": [
  {
   "cell_type": "markdown",
   "metadata": {},
   "source": [
    "# Homework 3 (solutions)\n",
    "\n",
    "### Problem 1\n",
    "\n",
    "Use read_html() function from the pandas library inside a for loop to get and print exchange rate data from rate.am for a week starting on June 1st and ending on 7th of June, 2017 included. The necessary steps to take are: 1) create the list of URLs to scrape, 2) create a for loop to iterate over the elements of that list and 3) receive the data from each of them and 4) print it. (Hint: you may try for 2 URLs first, and then go for 7)."
   ]
  },
  {
   "cell_type": "code",
   "execution_count": 1,
   "metadata": {
    "collapsed": false
   },
   "outputs": [
    {
     "name": "stdout",
     "output_type": "stream",
     "text": [
      "     0                       1    2   3              4       5       6   \\\n",
      "2    1.               Արցախբանկ  NaN  24  01 Հնս, 20:00     481  484.50   \n",
      "3    2.       ՎՏԲ-Հայաստան Բանկ  NaN  68  01 Հնս, 20:00  480.75  483.25   \n",
      "4    3.             Մելլաթ բանկ  NaN   1  01 Հնս, 20:00     480     484   \n",
      "5    4.               Ինեկոբանկ  NaN  23  01 Հնս, 20:00  480.50  483.75   \n",
      "6    5.       Էյչ-Էս-Բի-Սի Բանկ  NaN   9  01 Հնս, 20:00  480.50  484.50   \n",
      "7    6.            Կոնվերս բանկ  NaN  35  01 Հնս, 20:00     480  483.50   \n",
      "8    7.       ՀԱՅԲԻԶՆԵՍԲԱՆԿ ՓԲԸ  NaN  53  01 Հնս, 20:00     480  483.50   \n",
      "9    8.  ԱԿԲԱ-ԿՐԵԴԻՏ ԱԳՐԻԿՈԼ ..  NaN  59  01 Հնս, 20:00  480.25  483.75   \n",
      "10   9.              Ամերիաբանկ  NaN  11  01 Հնս, 20:00  479.50  483.50   \n",
      "11  10.           ՀԱՅԷԿՈՆՈՄԲԱՆԿ  NaN  49  01 Հնս, 20:00     480  483.50   \n",
      "12  11.              Արդշինբանկ  NaN  53  01 Հնս, 20:00  480.50  483.50   \n",
      "13  12.             Անելիք Բանկ  NaN  14  01 Հնս, 20:00     480  483.50   \n",
      "14  13.     Բիբլոս Բանկ Արմենիա  NaN   5  01 Հնս, 20:00     480     484   \n",
      "15  14.             Արմսվիսբանկ  NaN   1  01 Հնս, 20:00     481     484   \n",
      "16  15.              ԱՐԱՐԱՏԲԱՆԿ  NaN  48  01 Հնս, 20:00     481     484   \n",
      "17  16.           Պրոմեթեյ Բանկ  NaN  12  01 Հնս, 20:00     481  483.50   \n",
      "18  17.               Յունիբանկ  NaN  47  01 Հնս, 20:00     480  483.50   \n",
      "\n",
      "        7      8     9     10     11     12  \n",
      "2      539  546.0  8.40  8.65  615.0  626.0  \n",
      "3      538  543.5  8.44  8.60  615.0  626.0  \n",
      "4      538  546.0   NaN   NaN    NaN    NaN  \n",
      "5      535  545.0  8.38  8.64  613.0  627.0  \n",
      "6   538.50  546.0  8.38  8.63  616.0  626.0  \n",
      "7      538  546.0  8.44  8.63  616.0  624.0  \n",
      "8   537.10  545.1  8.42  8.63  614.1  626.1  \n",
      "9      537  545.0  8.46  8.60  613.0  628.0  \n",
      "10     537  545.0  8.39  8.64  616.0  626.0  \n",
      "11     535  545.0  8.45  8.62  612.0  629.0  \n",
      "12     536  546.0  8.40  8.65  614.0  629.0  \n",
      "13     535  545.0  8.45  8.65    NaN    NaN  \n",
      "14     537  546.0  8.37  8.65  614.0  626.0  \n",
      "15     537  543.0  8.45  8.63  616.0  623.0  \n",
      "16     532  548.0  8.47  8.70  610.0  631.0  \n",
      "17     538  544.0  8.48  8.58  614.0  625.0  \n",
      "18     536  546.0  8.35  8.65  609.0  629.0  \n",
      "     0                       1    2   3              4       5       6   \\\n",
      "2    1.       ՎՏԲ-Հայաստան Բանկ  NaN  68  02 Հնս, 20:00  480.75  483.50   \n",
      "3    2.               Արցախբանկ  NaN  24  02 Հնս, 20:00  479.50     484   \n",
      "4    3.               Ինեկոբանկ  NaN  23  02 Հնս, 20:00  480.50     484   \n",
      "5    4.             Մելլաթ բանկ  NaN   1  02 Հնս, 20:00  479.50  483.50   \n",
      "6    5.       Էյչ-Էս-Բի-Սի Բանկ  NaN   9  02 Հնս, 20:00     480     484   \n",
      "7    6.            Կոնվերս բանկ  NaN  35  02 Հնս, 20:00     480  483.50   \n",
      "8    7.  ԱԿԲԱ-ԿՐԵԴԻՏ ԱԳՐԻԿՈԼ ..  NaN  59  02 Հնս, 20:00  480.25  483.75   \n",
      "9    8.       ՀԱՅԲԻԶՆԵՍԲԱՆԿ ՓԲԸ  NaN  53  02 Հնս, 20:00     481  483.50   \n",
      "10   9.              Ամերիաբանկ  NaN  11  02 Հնս, 20:00     480     484   \n",
      "11  10.           ՀԱՅԷԿՈՆՈՄԲԱՆԿ  NaN  49  02 Հնս, 20:00     480     484   \n",
      "12  11.     Բիբլոս Բանկ Արմենիա  NaN   5  02 Հնս, 20:00     480     484   \n",
      "13  12.              Արդշինբանկ  NaN  53  02 Հնս, 20:00  480.50  483.50   \n",
      "14  13.             Անելիք Բանկ  NaN  14  02 Հնս, 20:00  480.50     484   \n",
      "15  14.             Արմսվիսբանկ  NaN   1  02 Հնս, 20:00     481     484   \n",
      "16  15.              ԱՐԱՐԱՏԲԱՆԿ  NaN  48  02 Հնս, 20:00     481     484   \n",
      "17  16.           Պրոմեթեյ Բանկ  NaN  12  02 Հնս, 20:00     481     484   \n",
      "18  17.               Յունիբանկ  NaN  47  02 Հնս, 20:00     480  483.50   \n",
      "\n",
      "        7      8     9     10     11     12  \n",
      "2      537  548.0  8.42  8.64  614.0  630.0  \n",
      "3      538  547.0  8.45  8.65  615.0  627.0  \n",
      "4      538  548.0  8.40  8.62  614.0  626.0  \n",
      "5      537  545.0   NaN   NaN    NaN    NaN  \n",
      "6      539  548.0  8.34  8.69  614.0  626.0  \n",
      "7      537  545.0  8.42  8.62  616.0  624.0  \n",
      "8   539.50  547.0  8.48  8.61  614.0  629.0  \n",
      "9   536.10  544.1  8.40  8.64  614.1  625.1  \n",
      "10     540  548.0  8.40  8.65  615.5  625.5  \n",
      "11     535  550.0  8.42  8.64  612.0  630.0  \n",
      "12     536  545.0  8.40  8.68  615.0  627.0  \n",
      "13     536  546.0  8.37  8.65  614.0  629.0  \n",
      "14     535  545.0  8.47  8.64    NaN    NaN  \n",
      "15     540  546.0  8.46  8.64  617.0  624.0  \n",
      "16     534  551.0  8.45  8.70  609.0  631.0  \n",
      "17     538  547.0  8.46  8.64  616.0  626.0  \n",
      "18     538  548.0  8.40  8.70  609.0  629.0  \n",
      "     0                       1    2   3              4       5       6   \\\n",
      "2    1.       ՎՏԲ-Հայաստան Բանկ  NaN  68  03 Հնս, 20:00  480.75  483.50   \n",
      "3    2.               Ինեկոբանկ  NaN  23  03 Հնս, 20:00  480.50     484   \n",
      "4    3.             Մելլաթ բանկ  NaN   1  03 Հնս, 20:00  479.50  483.50   \n",
      "5    4.               Արցախբանկ  NaN  24  03 Հնս, 20:00  479.50     484   \n",
      "6    5.       Էյչ-Էս-Բի-Սի Բանկ  NaN   9  03 Հնս, 20:00     480     484   \n",
      "7    6.            Կոնվերս բանկ  NaN  35  03 Հնս, 20:00     480  483.50   \n",
      "8    7.  ԱԿԲԱ-ԿՐԵԴԻՏ ԱԳՐԻԿՈԼ ..  NaN  59  03 Հնս, 20:00  480.25  483.75   \n",
      "9    8.              Ամերիաբանկ  NaN  11  03 Հնս, 20:00     480     484   \n",
      "10   9.       ՀԱՅԲԻԶՆԵՍԲԱՆԿ ՓԲԸ  NaN  53  03 Հնս, 20:00     481  483.50   \n",
      "11  10.             Արմսվիսբանկ  NaN   1  03 Հնս, 20:00     481     484   \n",
      "12  11.           ՀԱՅԷԿՈՆՈՄԲԱՆԿ  NaN  49  03 Հնս, 20:00     480     484   \n",
      "13  12.     Բիբլոս Բանկ Արմենիա  NaN   5  03 Հնս, 20:00     480     484   \n",
      "14  13.             Անելիք Բանկ  NaN  14  03 Հնս, 20:00  480.50     484   \n",
      "15  14.              Արդշինբանկ  NaN  53  03 Հնս, 20:00  480.50  483.50   \n",
      "16  15.              ԱՐԱՐԱՏԲԱՆԿ  NaN  48  03 Հնս, 20:00     481     484   \n",
      "17  16.               Յունիբանկ  NaN  47  03 Հնս, 20:00     480  483.50   \n",
      "18  17.           Պրոմեթեյ Բանկ  NaN  12  03 Հնս, 20:00     481     484   \n",
      "\n",
      "        7      8     9     10     11     12  \n",
      "2      537  548.0  8.42  8.64  613.0  631.0  \n",
      "3      538  548.0  8.38  8.62  615.0  628.0  \n",
      "4      537  545.0   NaN   NaN    NaN    NaN  \n",
      "5      538  547.0  8.45  8.65  615.0  627.0  \n",
      "6      539  548.0  8.34  8.69  614.0  626.0  \n",
      "7      539  547.0  8.45  8.65  615.0  624.0  \n",
      "8   539.50  547.0  8.48  8.61  614.0  629.0  \n",
      "9      540  548.0  8.40  8.65  615.5  625.5  \n",
      "10  536.10  544.1  8.40  8.64  614.1  625.1  \n",
      "11     540  546.0  8.46  8.64  617.0  624.0  \n",
      "12     535  550.0  8.42  8.64  612.0  630.0  \n",
      "13     536  545.0  8.40  8.68  615.0  627.0  \n",
      "14     535  545.0  8.47  8.64    NaN    NaN  \n",
      "15     536  546.0  8.37  8.65  614.0  629.0  \n",
      "16     534  551.0  8.44  8.70  609.0  631.0  \n",
      "17     538  548.0  8.40  8.70  609.0  629.0  \n",
      "18     538  547.0  8.46  8.64  616.0  626.0  \n",
      "     0                       1    2   3              4       5       6   \\\n",
      "2    1.             Մելլաթ բանկ  NaN   1  04 Հնս, 20:01  479.50  483.50   \n",
      "3    2.               Արցախբանկ  NaN  24  04 Հնս, 20:01  479.50     484   \n",
      "4    3.               Ինեկոբանկ  NaN  23  04 Հնս, 20:01  480.50     484   \n",
      "5    4.       ՎՏԲ-Հայաստան Բանկ  NaN  68  04 Հնս, 20:01  480.75  483.50   \n",
      "6    5.       Էյչ-Էս-Բի-Սի Բանկ  NaN   9  04 Հնս, 20:01     480     484   \n",
      "7    6.            Կոնվերս բանկ  NaN  35  04 Հնս, 20:01     480  483.50   \n",
      "8    7.       ՀԱՅԲԻԶՆԵՍԲԱՆԿ ՓԲԸ  NaN  53  04 Հնս, 20:01     481  483.50   \n",
      "9    8.  ԱԿԲԱ-ԿՐԵԴԻՏ ԱԳՐԻԿՈԼ ..  NaN  59  04 Հնս, 20:01  480.25  483.75   \n",
      "10   9.              Ամերիաբանկ  NaN  11  04 Հնս, 20:01     480     484   \n",
      "11  10.              Արդշինբանկ  NaN  53  04 Հնս, 20:01  480.50  483.50   \n",
      "12  11.             Արմսվիսբանկ  NaN   1  04 Հնս, 20:01     481     484   \n",
      "13  12.              ԱՐԱՐԱՏԲԱՆԿ  NaN  48  04 Հնս, 20:01     481     484   \n",
      "14  13.             Անելիք Բանկ  NaN  14  04 Հնս, 20:01  480.50     484   \n",
      "15  14.           ՀԱՅԷԿՈՆՈՄԲԱՆԿ  NaN  49  04 Հնս, 20:01     480     484   \n",
      "16  15.     Բիբլոս Բանկ Արմենիա  NaN   5  04 Հնս, 20:01     480     484   \n",
      "17  16.               Յունիբանկ  NaN  47  04 Հնս, 20:01     480  483.50   \n",
      "18  17.           Պրոմեթեյ Բանկ  NaN  12  04 Հնս, 20:01     481     484   \n",
      "\n",
      "        7      8     9     10     11     12  \n",
      "2      537  545.0   NaN   NaN    NaN    NaN  \n",
      "3      538  547.0  8.45  8.65  615.0  627.0  \n",
      "4      538  548.0  8.38  8.62  615.0  628.0  \n",
      "5      537  548.0  8.42  8.64  613.0  631.0  \n",
      "6      539  548.0  8.34  8.69  614.0  626.0  \n",
      "7      539  547.0  8.45  8.65  615.0  624.0  \n",
      "8   536.10  544.1  8.40  8.64  614.1  625.1  \n",
      "9   539.50  547.0  8.48  8.61  614.0  629.0  \n",
      "10     540  548.0  8.40  8.65  615.5  625.5  \n",
      "11     536  546.0  8.37  8.65  614.0  629.0  \n",
      "12     540  546.0  8.46  8.64  617.0  624.0  \n",
      "13     534  551.0  8.44  8.70  609.0  631.0  \n",
      "14     535  545.0  8.47  8.64    NaN    NaN  \n",
      "15     535  550.0  8.42  8.64  612.0  630.0  \n",
      "16     536  545.0  8.40  8.68  615.0  627.0  \n",
      "17     538  548.0  8.40  8.70  609.0  629.0  \n",
      "18     538  547.0  8.46  8.64  616.0  626.0  \n",
      "     0                       1    2   3              4       5       6   \\\n",
      "2    1.               Արցախբանկ  NaN  24  05 Հնս, 20:01  481.50     484   \n",
      "3    2.       ՎՏԲ-Հայաստան Բանկ  NaN  68  05 Հնս, 20:01  480.75  483.50   \n",
      "4    3.               Ինեկոբանկ  NaN  23  05 Հնս, 20:01  480.50     484   \n",
      "5    4.             Մելլաթ բանկ  NaN   1  05 Հնս, 20:01     480     484   \n",
      "6    5.       Էյչ-Էս-Բի-Սի Բանկ  NaN   9  05 Հնս, 20:01     480     484   \n",
      "7    6.            Կոնվերս բանկ  NaN  35  05 Հնս, 20:01     480  483.50   \n",
      "8    7.  ԱԿԲԱ-ԿՐԵԴԻՏ ԱԳՐԻԿՈԼ ..  NaN  59  05 Հնս, 20:01  480.50     484   \n",
      "9    8.              Ամերիաբանկ  NaN  11  05 Հնս, 20:01     480     484   \n",
      "10   9.       ՀԱՅԲԻԶՆԵՍԲԱՆԿ ՓԲԸ  NaN  53  05 Հնս, 20:01     480  483.50   \n",
      "11  10.              Արդշինբանկ  NaN  53  05 Հնս, 20:01     481     484   \n",
      "12  11.              ԱՐԱՐԱՏԲԱՆԿ  NaN  48  05 Հնս, 20:01  481.50     484   \n",
      "13  12.             Անելիք Բանկ  NaN  14  05 Հնս, 20:01  480.50     484   \n",
      "14  13.             Արմսվիսբանկ  NaN   1  05 Հնս, 20:01     481     484   \n",
      "15  14.     Բիբլոս Բանկ Արմենիա  NaN   5  05 Հնս, 20:01     480     484   \n",
      "16  15.           ՀԱՅԷԿՈՆՈՄԲԱՆԿ  NaN  49  05 Հնս, 20:01     480     484   \n",
      "17  16.               Յունիբանկ  NaN  47  05 Հնս, 20:01     480  483.50   \n",
      "18  17.           Պրոմեթեյ Բանկ  NaN  12  05 Հնս, 20:01  481.50     484   \n",
      "\n",
      "        7      8     9     10     11     12  \n",
      "2      538  547.0  8.45  8.65  615.0  627.0  \n",
      "3      539  546.0  8.42  8.64  616.0  627.0  \n",
      "4   537.50  546.5  8.40  8.62  617.0  628.0  \n",
      "5      540  548.0   NaN   NaN    NaN    NaN  \n",
      "6      539  547.0  8.40  8.65  616.0  624.5  \n",
      "7      539  547.0  8.44  8.63  616.0  624.0  \n",
      "8   538.50  547.0  8.46  8.59  615.0  630.0  \n",
      "9      539  547.0  8.38  8.63  619.0  629.0  \n",
      "10  539.10  547.1  8.41  8.65  614.1  626.1  \n",
      "11     538  548.0  8.40  8.65  614.0  629.0  \n",
      "12     535  550.0  8.46  8.70  612.0  634.0  \n",
      "13     537  547.0  8.46  8.64    NaN    NaN  \n",
      "14     538  544.0  8.44  8.62  618.0  625.0  \n",
      "15     538  548.0  8.38  8.66  614.0  626.0  \n",
      "16     537  547.0  8.46  8.64  614.0  632.0  \n",
      "17     538  548.0  8.40  8.70  609.0  629.0  \n",
      "18     540  546.0  8.48  8.58  617.0  627.0  \n",
      "     0                       1    2   3              4       5       6   \\\n",
      "2    1.       ՎՏԲ-Հայաստան Բանկ  NaN  68  06 Հնս, 20:01  481.25  483.75   \n",
      "3    2.               Ինեկոբանկ  NaN  23  06 Հնս, 20:01  481.50  484.50   \n",
      "4    3.               Արցախբանկ  NaN  24  06 Հնս, 20:01  482.50     484   \n",
      "5    4.             Մելլաթ բանկ  NaN   1  06 Հնս, 20:01     480     484   \n",
      "6    5.  ԱԿԲԱ-ԿՐԵԴԻՏ ԱԳՐԻԿՈԼ ..  NaN  59  06 Հնս, 20:01  481.50  484.50   \n",
      "7    6.              Ամերիաբանկ  NaN  11  06 Հնս, 20:01  480.50  484.50   \n",
      "8    7.       ՀԱՅԲԻԶՆԵՍԲԱՆԿ ՓԲԸ  NaN  53  06 Հնս, 20:01  480.50  483.50   \n",
      "9    8.             Արմսվիսբանկ  NaN   1  06 Հնս, 20:01     481     484   \n",
      "10   9.           ՀԱՅԷԿՈՆՈՄԲԱՆԿ  NaN  49  06 Հնս, 20:01     481  484.50   \n",
      "11  10.     Բիբլոս Բանկ Արմենիա  NaN   5  06 Հնս, 20:01     481  484.50   \n",
      "12  11.             Անելիք Բանկ  NaN  14  06 Հնս, 20:01     481  484.50   \n",
      "13  12.              Արդշինբանկ  NaN  53  06 Հնս, 20:01  481.50     484   \n",
      "14  13.               Յունիբանկ  NaN  47  06 Հնս, 20:01     481     484   \n",
      "15  14.           Պրոմեթեյ Բանկ  NaN  12  06 Հնս, 20:00  481.50  484.50   \n",
      "16  15.              ԱՐԱՐԱՏԲԱՆԿ  NaN  48  06 Հնս, 20:00  481.50  484.50   \n",
      "17  16.            Կոնվերս բանկ  NaN  35  06 Հնս, 20:00     480  483.50   \n",
      "18  17.       Էյչ-Էս-Բի-Սի Բանկ  NaN   9  06 Հնս, 20:00  480.50  484.50   \n",
      "\n",
      "        7      8     9     10     11     12  \n",
      "2      539  545.5  8.44  8.60  618.0  630.0  \n",
      "3      538  548.0  8.38  8.61  617.0  628.0  \n",
      "4      539  547.0  8.45  8.70  617.0  630.0  \n",
      "5      540  548.0   NaN   NaN    NaN    NaN  \n",
      "6   539.50  547.0  8.46  8.60  616.0  631.0  \n",
      "7   540.50  548.5  8.40  8.65  618.0  628.0  \n",
      "8   539.10  547.1  8.43  8.65  617.1  629.1  \n",
      "9      540  546.0  8.47  8.65  619.0  626.0  \n",
      "10     538  548.0  8.47  8.65  615.0  633.0  \n",
      "11     540  548.0  8.40  8.68  618.0  630.0  \n",
      "12     539  549.0  8.45  8.63    NaN    NaN  \n",
      "13     539  549.0  8.40  8.65  618.0  633.0  \n",
      "14     539  549.0  8.40  8.70  613.0  633.0  \n",
      "15     540  546.0  8.48  8.59  618.0  628.0  \n",
      "16     536  551.0  8.45  8.70  611.0  632.0  \n",
      "17     539  547.0  8.46  8.66  619.0  627.0  \n",
      "18  539.50  547.5  8.40  8.65  619.5  628.5  \n",
      "     0                       1    2   3              4       5       6   \\\n",
      "2    1.               Արցախբանկ  NaN  24  07 Հնս, 20:01  482.25     484   \n",
      "3    2.       ՎՏԲ-Հայաստան Բանկ  NaN  68  07 Հնս, 20:01  481.25  483.75   \n",
      "4    3.             Մելլաթ բանկ  NaN   1  07 Հնս, 20:01  480.50  484.50   \n",
      "5    4.               Ինեկոբանկ  NaN  23  07 Հնս, 20:01  481.50  484.25   \n",
      "6    5.  ԱԿԲԱ-ԿՐԵԴԻՏ ԱԳՐԻԿՈԼ ..  NaN  59  07 Հնս, 20:01     481  484.50   \n",
      "7    6.       ՀԱՅԲԻԶՆԵՍԲԱՆԿ ՓԲԸ  NaN  53  07 Հնս, 20:01  480.50     484   \n",
      "8    7.              Ամերիաբանկ  NaN  11  07 Հնս, 20:01  480.50  484.50   \n",
      "9    8.              Արդշինբանկ  NaN  53  07 Հնս, 20:01  481.50     484   \n",
      "10   9.     Բիբլոս Բանկ Արմենիա  NaN   5  07 Հնս, 20:01     481  484.50   \n",
      "11  10.           ՀԱՅԷԿՈՆՈՄԲԱՆԿ  NaN  49  07 Հնս, 20:01     481  484.50   \n",
      "12  11.             Անելիք Բանկ  NaN  14  07 Հնս, 20:01     481  484.50   \n",
      "13  12.             Արմսվիսբանկ  NaN   1  07 Հնս, 20:01     481     484   \n",
      "14  13.               Յունիբանկ  NaN  47  07 Հնս, 20:01     481     484   \n",
      "15  14.           Պրոմեթեյ Բանկ  NaN  12  07 Հնս, 20:00     481     484   \n",
      "16  15.              ԱՐԱՐԱՏԲԱՆԿ  NaN  48  07 Հնս, 20:00  481.50  484.50   \n",
      "17  16.            Կոնվերս բանկ  NaN  35  07 Հնս, 20:00     481  484.50   \n",
      "18  17.       Էյչ-Էս-Բի-Սի Բանկ  NaN   9  07 Հնս, 20:00  480.50  484.50   \n",
      "\n",
      "        7      8     9     10     11     12  \n",
      "2      538  546.0  8.45  8.65  617.0  630.0  \n",
      "3      540  546.0  8.45  8.65  618.0  630.0  \n",
      "4      540  548.0   NaN   NaN    NaN    NaN  \n",
      "5      537  547.0  8.40  8.62  617.0  629.0  \n",
      "6   537.50  546.0  8.47  8.61  616.0  631.0  \n",
      "7   537.10  545.1  8.41  8.64  616.1  628.1  \n",
      "8   539.50  547.5  8.35  8.60  621.0  631.0  \n",
      "9      538  548.0  8.40  8.68  617.0  632.0  \n",
      "10     539  548.0  8.41  8.69  617.0  628.0  \n",
      "11     536  546.0  8.47  8.65  615.0  633.0  \n",
      "12     538  548.0  8.46  8.62    NaN    NaN  \n",
      "13     538  544.0  8.44  8.62  618.0  625.0  \n",
      "14     539  549.0  8.40  8.70  613.0  633.0  \n",
      "15     538  546.0  8.47  8.58  618.0  628.0  \n",
      "16     534  551.0  8.42  8.70  612.0  634.0  \n",
      "17     537  545.0  8.45  8.65  619.0  627.0  \n",
      "18  539.50  547.5  8.42  8.67  618.0  627.0  \n"
     ]
    }
   ],
   "source": [
    "import pandas as pd\n",
    "urls = [\"http://rate.am/am/armenian-dram-exchange-rates/banks/non-cash/2017/06/01/20-15\",\n",
    "        \"http://rate.am/am/armenian-dram-exchange-rates/banks/non-cash/2017/06/02/20-15\",\n",
    "        \"http://rate.am/am/armenian-dram-exchange-rates/banks/non-cash/2017/06/03/20-15\",\n",
    "        \"http://rate.am/am/armenian-dram-exchange-rates/banks/non-cash/2017/06/04/20-15\",\n",
    "        \"http://rate.am/am/armenian-dram-exchange-rates/banks/non-cash/2017/06/05/20-15\",\n",
    "        \"http://rate.am/am/armenian-dram-exchange-rates/banks/non-cash/2017/06/06/20-15\",\n",
    "        \"http://rate.am/am/armenian-dram-exchange-rates/banks/non-cash/2017/06/07/20-15\"]\n",
    "\n",
    "for url in urls:\n",
    "    data = pd.read_html(url)\n",
    "    print(data[2][2:19])"
   ]
  },
  {
   "cell_type": "markdown",
   "metadata": {},
   "source": [
    "A note: instead of typing the 7 URLS above, one could just take the very first URL and then generate the others based on the first one, as the day digit is the only difference between URLs."
   ]
  },
  {
   "cell_type": "markdown",
   "metadata": {},
   "source": [
    "### Problem 2\n",
    "\n",
    "Use regular expressions to match (find) and print the value of S&P500 index from the Bloomberg website ([click here](https://www.bloomberg.com/quote/SPX:IND), at the time of writing this the value of the index is 2,434.51). Your regular expression must match any value of S&P500 even if it changes (e.g. whether it becomes 1 or even 1,500,000.005, for example)."
   ]
  },
  {
   "cell_type": "code",
   "execution_count": 2,
   "metadata": {
    "collapsed": false
   },
   "outputs": [
    {
     "name": "stdout",
     "output_type": "stream",
     "text": [
      "[u'2,440.35']\n"
     ]
    }
   ],
   "source": [
    "import re\n",
    "import requests\n",
    "\n",
    "url = \"https://www.bloomberg.com/quote/SPX:IND\"\n",
    "response = requests.get(url)\n",
    "data = response.text\n",
    "\n",
    "output = re.findall('class\\s*=\\s*\"price\"\\s*>\\s*(\\S+)</',data)\n",
    "print(output)"
   ]
  },
  {
   "cell_type": "markdown",
   "metadata": {},
   "source": [
    "### Problem 3\n",
    "\n",
    "Create a for loop that will iterate over a given JSON file and print the keys followed by their values. The file (input string, which yet needs to be converted to JSON, as done in the classroom) and the expected output can be found in [this Jupyter notebook](http://nbviewer.jupyter.org/github/HrantDavtyan/Data_Scraping/blob/master/Week 3/HW3_P3_source.ipynb). NOTE: not more than one \"if\" and one \"else\" statements are allowed to use inside the for loop."
   ]
  },
  {
   "cell_type": "code",
   "execution_count": 3,
   "metadata": {
    "collapsed": false
   },
   "outputs": [
    {
     "name": "stdout",
     "output_type": "stream",
     "text": [
      "Movie:  Game of Thrones\n",
      "Role:  Tyrion Lannister\n",
      "Actor: Peter Dinklage \n",
      "\n",
      "Movie:  Vikings\n",
      "Role:  Ragnar Lothbrok\n",
      "Actor: Travis Fimmel \n",
      "\n",
      "Movie:  The last Kingdom\n",
      "Role:  Uhtred of Bebbanburg\n",
      "Actor 1:  Tom Taylor\n",
      "Actor 2:  Alexander Dreymon \n",
      "\n"
     ]
    }
   ],
   "source": [
    "import json\n",
    "\n",
    "input = '''[\n",
    "    {\n",
    "    \"Movie\":\"Game of Thrones\",\n",
    "    \"Actor\":\"Peter Dinklage\",\n",
    "    \"Role\":\"Tyrion Lannister\"    \n",
    "    },\n",
    "    {\n",
    "    \"Movie\":\"Vikings\",\n",
    "    \"Actor\":\"Travis Fimmel\",\n",
    "    \"Role\":\"Ragnar Lothbrok\"  \n",
    "    },\n",
    "    {\n",
    "    \"Movie\":\"The last Kingdom\",\n",
    "    \"Actor\":{\n",
    "            \"Young Uhtred\":\"Tom Taylor\",\n",
    "            \"Not that young Uhtred\":\"Alexander Dreymon\"\n",
    "            },\n",
    "    \"Role\":\"Uhtred of Bebbanburg\"\n",
    "    }\n",
    "]'''\n",
    "\n",
    "data = json.loads(input)\n",
    "for i in data:\n",
    "    if len(i[\"Actor\"])==2:\n",
    "        print \"Movie: \",i[\"Movie\"]\n",
    "        print \"Role: \", i[\"Role\"]\n",
    "        print \"Actor 1: \",i[\"Actor\"][\"Young Uhtred\"]\n",
    "        print \"Actor 2: \",i[\"Actor\"][\"Not that young Uhtred\"],\"\\n\"\n",
    "    else:\n",
    "        print \"Movie: \",i[\"Movie\"]\n",
    "        print \"Role: \", i[\"Role\"]\n",
    "        print \"Actor:\",i[\"Actor\"],\"\\n\""
   ]
  },
  {
   "cell_type": "markdown",
   "metadata": {
    "collapsed": false
   },
   "source": [
    "### Problem 4\n",
    "\n",
    "Download the AirPassengers.csv file from the Datasets folder in the Moodle, read that file to python and plot the \"Passengers\" column."
   ]
  },
  {
   "cell_type": "code",
   "execution_count": 4,
   "metadata": {
    "collapsed": false
   },
   "outputs": [
    {
     "data": {
      "image/png": "[encoded data removed]",
      "text/plain": [
       "<matplotlib.figure.Figure at 0x94f8dd8>"
      ]
     },
     "metadata": {},
     "output_type": "display_data"
    }
   ],
   "source": [
    "import pandas as pd\n",
    "import matplotlib.pyplot as plt\n",
    "data = pd.read_csv(\"AirPassengers.csv\")\n",
    "plt.plot(data[\"Passengers\"])\n",
    "plt.show()"
   ]
  },
  {
   "cell_type": "markdown",
   "metadata": {
    "collapsed": true
   },
   "source": [
    "### Problem 5\n",
    "\n",
    "Use regular expressions to find the URL (the hyperlink) under the Next button on [this webpage](http://quotes.toscrape.com/)."
   ]
  },
  {
   "cell_type": "code",
   "execution_count": 5,
   "metadata": {
    "collapsed": false
   },
   "outputs": [
    {
     "name": "stdout",
     "output_type": "stream",
     "text": [
      "[u'/page/2/']\n"
     ]
    }
   ],
   "source": [
    "import re\n",
    "import requests\n",
    "\n",
    "url = \"http://quotes.toscrape.com/\"\n",
    "response = requests.get(url)\n",
    "data = response.text\n",
    "\n",
    "output = re.findall('<a\\s+href\\s*=\\s*\"\\s*(\\S+)\\s*\"\\s*\\S*\\s*>\\s*Next',data)\n",
    "print(output)"
   ]
  }
 ],
 "metadata": {
  "anaconda-cloud": {},
  "kernelspec": {
   "display_name": "Python [default]",
   "language": "python",
   "name": "python2"
  },
  "language_info": {
   "codemirror_mode": {
    "name": "ipython",
    "version": 2
   },
   "file_extension": ".py",
   "mimetype": "text/x-python",
   "name": "python",
   "nbconvert_exporter": "python",
   "pygments_lexer": "ipython2",
   "version": "2.7.12"
  }
 },
 "nbformat": 4,
 "nbformat_minor": 2
}
