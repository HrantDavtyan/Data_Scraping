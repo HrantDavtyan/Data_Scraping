{
  "cells": [
    {
      "cell_type": "code",
      "source": [
        "import requests, json, re\n",
        "from BeautifulSoup import *\n",
        "from pprint import pprint"
      ],
      "outputs": [],
      "execution_count": 1,
      "metadata": {
        "collapsed": true
      }
    },
    {
      "cell_type": "code",
      "source": [
        "url = \"https://www.giftcardmall.am/en/\"\n",
        "response = requests.get(url)\n",
        "page_0 = response.text\n",
        "soup_0 = BeautifulSoup(page_0)"
      ],
      "outputs": [],
      "execution_count": 2,
      "metadata": {
        "collapsed": true
      }
    },
    {
      "cell_type": "code",
      "source": [
        "new_url = soup_0.find('a', attrs={'class':\"btn-u btn-orange browse-all-btn\"}).get('href')\n",
        "response = requests.get(new_url[1:-1])\n",
        "page = response.text\n",
        "soup = BeautifulSoup(page)"
      ],
      "outputs": [],
      "execution_count": 3,
      "metadata": {
        "collapsed": false,
        "outputHidden": false,
        "inputHidden": false
      }
    },
    {
      "cell_type": "code",
      "source": [
        "divisions = soup.findAll('div',attrs={'class':'card_animate card all_cards col-lg-3 col-md-4 col-xs-6'})\n",
        "my_dict = {}\n",
        "for div in divisions:\n",
        "    card_link = div.find('a').get('href')\n",
        "    card_name = re.findall('gift-card/(.+)',card_link)\n",
        "    for_card_price = div.find('p').text.encode('utf-8')\n",
        "    if \"-\" in for_card_price:\n",
        "        card_price_1 = re.findall('^(\\d+).+',for_card_price)[0]\n",
        "        card_price_2 = re.findall('- (\\d+).+$',for_card_price)[0]\n",
        "        card_price = str(0.5*(float(card_price_1)+float(card_price_2)))\n",
        "    else:\n",
        "        card_price = re.findall('(\\d+).+',for_card_price)[0]\n",
        "    card_dict = {\"link\":card_link,\"price\":card_price}\n",
        "    my_dict.update({card_name[0]:card_dict})\n",
        "pprint(my_dict)"
      ],
      "outputs": [],
      "execution_count": 6,
      "metadata": {
        "collapsed": false
      }
    },
    {
      "cell_type": "code",
      "source": [
        "with open(\"giftcards.json\",'w') as f:\n",
        "    json.dump(my_dict,f,indent=4)"
      ],
      "outputs": [],
      "execution_count": 7,
      "metadata": {
        "collapsed": true
      }
    }
  ],
  "metadata": {
    "kernelspec": {
      "name": "python2",
      "language": "python",
      "display_name": "Python 2"
    },
    "language_info": {
      "mimetype": "text/x-python",
      "nbconvert_exporter": "python",
      "name": "python",
      "pygments_lexer": "ipython2",
      "version": "2.7.12",
      "file_extension": ".py",
      "codemirror_mode": {
        "version": 2,
        "name": "ipython"
      }
    },
    "kernel_info": {
      "name": "python2"
    }
  },
  "nbformat": 4,
  "nbformat_minor": 2
}