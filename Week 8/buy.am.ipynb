{
  "cells": [
    {
      "cell_type": "code",
      "source": [
        "import re, json\n",
        "from BeautifulSoup import *\n",
        "from pprint import pprint\n",
        "from selenium import webdriver"
      ],
      "outputs": [],
      "execution_count": 1,
      "metadata": {
        "collapsed": true
      }
    },
    {
      "cell_type": "code",
      "source": [
        "browser = webdriver.Chrome()\n",
        "url = \"https://www.buy.am/en/partners\"\n",
        "browser.get(url)"
      ],
      "outputs": [],
      "execution_count": 2,
      "metadata": {
        "collapsed": true
      }
    },
    {
      "cell_type": "code",
      "source": [
        "browser.execute_script(\"window.scrollTo(0, document.body.scrollHeight);\")"
      ],
      "outputs": [],
      "execution_count": 3,
      "metadata": {
        "collapsed": true
      }
    },
    {
      "cell_type": "code",
      "source": [
        "page = browser.page_source\n",
        "soup = BeautifulSoup(page)\n",
        "browser.close()"
      ],
      "outputs": [],
      "execution_count": 4,
      "metadata": {
        "collapsed": false,
        "outputHidden": false,
        "inputHidden": false
      }
    },
    {
      "cell_type": "code",
      "source": [
        "my_dict = {}\n",
        "sections = soup.findAll(\"h2\",attrs={'style':'text-transform:uppercase'})\n",
        "for section in sections:\n",
        "    unordered = section.findNext(\"ul\")\n",
        "    elements = unordered.findAll(\"li\")\n",
        "    partner_dict = {}\n",
        "    for element in elements:\n",
        "        for_partner_name = element.find(\"a\").get(\"href\")\n",
        "        if element.find(\"script\") is not None:\n",
        "            almost_partner_name = element.findChild().text\n",
        "            partner_name = re.findall('console.+\"(.+)\".+',almost_partner_name)\n",
        "            partner_link = element.findAll(\"a\")[1].get(\"href\")\n",
        "            partner_dict.update({partner_name[0]:partner_link})\n",
        "        else:\n",
        "            partner_name = re.findall('^.+/(.+)',for_partner_name)\n",
        "            partner_link = element.find('a').get(\"href\")\n",
        "            partner_dict.update({partner_name[0]:partner_link})\n",
        "    section_dict = {\"number_of_partners\":len(partner_dict),\"partners\":partner_dict}\n",
        "    my_dict.update({section.text:section_dict})\n",
        "pprint(my_dict)"
      ],
      "outputs": [
        {
          "output_type": "stream",
          "name": "stdout",
          "text": [
            "{u'Armenian products': {'number_of_partners': 58,\n",
            "                        'partners': {u'Armphone': u'/en/partner/armphone',\n",
            "                                     u'LKR': u'/en/partner/lkr',\n",
            "                                     u'Margo': u'/en/partner/margo',\n",
            "                                     u'aco-by-astghik-safaryan': u'/en/partner/aco-by-astghik-safaryan',\n",
            "                                     u'aeon-handmade': u'/en/partner/aeon-handmade',\n",
            "                                     u'agata': u'/en/partner/agata',\n",
            "                                     u'aj-jewelry': u'/en/partner/aj-jewelry',\n",
            "                                     u'amore': u'/en/partner/amore',\n",
            "                                     u'ararat': u'/en/partner/ararat',\n",
            "                                     u'ararta': u'/en/partner/ararta',\n",
            "                                     u'armad': u'/en/partner/armad',\n",
            "                                     u'armenia-in-puzzle': u'/en/partner/armenia-in-puzzle',\n",
            "                                     u'armine-tumanian': u'/en/partner/armine-tumanian',\n",
            "                                     u'artsocks': u'/en/partner/artsocks',\n",
            "                                     u'aylkerp': u'/en/partner/aylkerp',\n",
            "                                     u'beauty-products': u'/en/partner/beauty-products',\n",
            "                                     u'bebetta': u'/en/partner/bebetta',\n",
            "                                     u'beeart': u'/en/partner/beeart',\n",
            "                                     u'berdashen': u'/en/partner/berdashen',\n",
            "                                     u'blot-club': u'/en/partner/blot-club',\n",
            "                                     u'borsaa-jewellery': u'/en/partner/borsaa-jewellery',\n",
            "                                     u'bow-x': u'/en/partner/bow-x',\n",
            "                                     u'chernozem': u'/en/partner/chernozem',\n",
            "                                     u'christins-handmade-boutique': u'/en/partner/christins-handmade-boutique',\n",
            "                                     u'dark-black': u'/en/partner/dark-black',\n",
            "                                     u'dee-am': u'/en/partner/dee-am',\n",
            "                                     u'esco-pharm': u'/en/partner/esco-pharm',\n",
            "                                     u'ethnos': u'/en/partner/ethnos',\n",
            "                                     u'forty-47-seven': u'/en/partner/forty-47-seven',\n",
            "                                     u'go-green-armenia': u'/en/partner/go-green-armenia',\n",
            "                                     u'haykav': u'/en/partner/haykav',\n",
            "                                     u'hello': u'/en/partner/hello',\n",
            "                                     u'honey-am': u'/en/partner/honey-am',\n",
            "                                     u'ideas': u'/en/partner/ideas',\n",
            "                                     u'jena-art': u'/en/partner/jena-art',\n",
            "                                     u'karabakh': u'/en/partner/karabakh',\n",
            "                                     u'little-einstein': u'/en/partner/little-einstein',\n",
            "                                     u'madatov': u'/en/partner/madatov',\n",
            "                                     u'mag-honey': u'/en/partner/mag-honey',\n",
            "                                     u'maran-winery': u'/en/partner/maran-winery',\n",
            "                                     u'mkhitaryans': u'/en/partner/mkhitaryans',\n",
            "                                     u'nena': u'/en/partner/nena',\n",
            "                                     u'nm': u'/en/partner/nm',\n",
            "                                     u'nuri-design': u'/en/partner/nuri-design',\n",
            "                                     u'papier-darmenie': u'/en/partner/papier-darmenie',\n",
            "                                     u'plywood-design': u'/en/partner/plywood-design',\n",
            "                                     u'ritea': u'/en/partner/ritea',\n",
            "                                     u's-luxury': u'/en/partner/s-luxury',\n",
            "                                     u'single-item': u'/en/partner/single-item',\n",
            "                                     u'soap-art-studio': u'/en/partner/soap-art-studio',\n",
            "                                     u'stefani-van': u'/en/partner/stefani-van',\n",
            "                                     u'teco': u'/en/partner/teco',\n",
            "                                     u'tm-production': u'/en/partner/tm-production',\n",
            "                                     u'umba-handmade': u'/en/partner/umba-handmade',\n",
            "                                     u'wood-style-design': u'/en/partner/wood-style-design',\n",
            "                                     u'yayak': u'/en/partner/yayak',\n",
            "                                     u'you-me': u'/en/partner/you-me',\n",
            "                                     u'zettawood': u'/en/partner/zettawood'}},\n",
            " u'Clothes / Accessories': {'number_of_partners': 24,\n",
            "                            'partners': {u'Elegant': u'/en/partner/elegant',\n",
            "                                         u'LKR': u'/en/partner/lkr',\n",
            "                                         u'Margo': u'/en/partner/margo',\n",
            "                                         u'XL Shop': u'/en/partner/xl-shop',\n",
            "                                         u'aco-by-astghik-safaryan': u'/en/partner/aco-by-astghik-safaryan',\n",
            "                                         u'amore': u'/en/partner/amore',\n",
            "                                         u'ararta': u'/en/partner/ararta',\n",
            "                                         u'armine-tumanian': u'/en/partner/armine-tumanian',\n",
            "                                         u'artsocks': u'/en/partner/artsocks',\n",
            "                                         u'blot-club': u'/en/partner/blot-club',\n",
            "                                         u'bow-x': u'/en/partner/bow-x',\n",
            "                                         u'christins-handmade-boutique': u'/en/partner/christins-handmade-boutique',\n",
            "                                         u'combat': u'/en/partner/combat',\n",
            "                                         u'ethnos': u'/en/partner/ethnos',\n",
            "                                         u'franzoni': u'/en/partner/franzoni',\n",
            "                                         u'hello': u'/en/partner/hello',\n",
            "                                         u'jena-art': u'/en/partner/jena-art',\n",
            "                                         u'live-and-wear': u'/en/partner/live-and-wear',\n",
            "                                         u'megasport': u'/en/partner/megasport',\n",
            "                                         u'mini-raxevsky': u'/en/partner/mini-raxevsky',\n",
            "                                         u'mkhitaryans': u'/en/partner/mkhitaryans',\n",
            "                                         u'pavlovoposadskaja': u'/en/partner/pavlovoposadskaja',\n",
            "                                         u'uniform': u'/en/partner/uniform',\n",
            "                                         u'you-me': u'/en/partner/you-me'}},\n",
            " u'Jewelry / Watches': {'number_of_partners': 14,\n",
            "                        'partners': {u'aco-by-astghik-safaryan': u'/en/partner/aco-by-astghik-safaryan',\n",
            "                                     u'aeon-handmade': u'/en/partner/aeon-handmade',\n",
            "                                     u'aj-jewelry': u'/en/partner/aj-jewelry',\n",
            "                                     u'armad': u'/en/partner/armad',\n",
            "                                     u'armine-tumanian': u'/en/partner/armine-tumanian',\n",
            "                                     u'borsaa-jewellery': u'/en/partner/borsaa-jewellery',\n",
            "                                     u'calypso-silver-accessories': u'/en/partner/calypso-silver-accessories',\n",
            "                                     u'christins-handmade-boutique': u'/en/partner/christins-handmade-boutique',\n",
            "                                     u'newest': u'/en/partners/newest',\n",
            "                                     u'plywood-design': u'/en/partner/plywood-design',\n",
            "                                     u's-luxury': u'/en/partner/s-luxury',\n",
            "                                     u'siamoods': u'/en/partner/siamoods',\n",
            "                                     u'soap-art-studio': u'/en/partner/soap-art-studio',\n",
            "                                     u'time': u'/en/partner/time'}},\n",
            " u\"Kids' World\": {'number_of_partners': 21,\n",
            "                  'partners': {u'barbie': u'/en/partner/barbie',\n",
            "                               u'boo-be': u'/en/partner/boo-be',\n",
            "                               u'fancy': u'/en/partner/fancy',\n",
            "                               u'first-builders-mega-bloks': u'/en/partner/first-builders-mega-bloks',\n",
            "                               u'fisher-price': u'/en/partner/fisher-price',\n",
            "                               u'happy-land': u'/en/partner/happy-land',\n",
            "                               u'hot-wheels': u'/en/partner/hot-wheels',\n",
            "                               u'little-einstein': u'/en/partner/little-einstein',\n",
            "                               u'mega-bloks': u'/en/partner/mega-bloks',\n",
            "                               u'megatoys': u'/en/partner/megatoys',\n",
            "                               u'mini-raxevsky': u'/en/partner/mini-raxevsky',\n",
            "                               u'monster-high': u'/en/partner/monster-high',\n",
            "                               u'nena': u'/en/partner/nena',\n",
            "                               u'newest': u'/en/partners/newest',\n",
            "                               u'nuri-design': u'/en/partner/nuri-design',\n",
            "                               u'orange-elephant': u'/en/partner/orange-elephant',\n",
            "                               u'sims-club': u'/en/partner/sims-club',\n",
            "                               u'umba-handmade': u'/en/partner/umba-handmade',\n",
            "                               u'vesna-fabrika-igrushek': u'/en/partner/vesna-fabrika-igrushek',\n",
            "                               u'walt-disney': u'/en/partner/walt-disney',\n",
            "                               u'zettawood': u'/en/partner/zettawood'}},\n",
            " u'Shoes': {'number_of_partners': 6,\n",
            "            'partners': {u'bebetta': u'/en/partner/bebetta',\n",
            "                         u'camel-sandals': u'/en/partner/camel-sandals',\n",
            "                         u'combat': u'/en/partner/combat',\n",
            "                         u'dark-black': u'/en/partner/dark-black',\n",
            "                         u'megasport': u'/en/partner/megasport',\n",
            "                         u'nm': u'/en/partner/nm'}},\n",
            " u'Sports': {'number_of_partners': 4,\n",
            "             'partners': {u'dark-black': u'/en/partner/dark-black',\n",
            "                          u'megasport': u'/en/partner/megasport',\n",
            "                          u'newest': u'/en/partners/newest',\n",
            "                          u'sportlandia': u'/en/partner/sportlandia'}}}\n"
          ]
        }
      ],
      "execution_count": 5,
      "metadata": {
        "collapsed": false,
        "outputHidden": true
      }
    },
    {
      "cell_type": "code",
      "source": [
        "with open(\"buy.json\",'w') as f:\n",
        "    json.dump(my_dict,f,indent=4)"
      ],
      "outputs": [],
      "execution_count": 6,
      "metadata": {
        "collapsed": true
      }
    }
  ],
  "metadata": {
    "anaconda-cloud": {},
    "kernelspec": {
      "name": "python2",
      "language": "python",
      "display_name": "Python 2"
    },
    "language_info": {
      "mimetype": "text/x-python",
      "nbconvert_exporter": "python",
      "name": "python",
      "pygments_lexer": "ipython2",
      "version": "2.7.12",
      "file_extension": ".py",
      "codemirror_mode": {
        "version": 2,
        "name": "ipython"
      }
    },
    "kernel_info": {
      "name": "python2"
    }
  },
  "nbformat": 4,
  "nbformat_minor": 2
}