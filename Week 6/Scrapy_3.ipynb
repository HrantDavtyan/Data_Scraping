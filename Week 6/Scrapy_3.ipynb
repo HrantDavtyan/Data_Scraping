{
 "cells": [
  {
   "cell_type": "markdown",
   "metadata": {},
   "source": [
    "# Scrapy 3: crawling all pages\n",
    "\n",
    "The last notebook (scrapy 2) provided Scrapy code for scraping a page from quotes.toscrape.com. Yet, there are several other pages on this website that one may need to scrape. Which means, we have to actually create a Spider that do the same scraping tasks for all the URLs, not just one. That can be implemented in several ways, but first of all, let's start a new project and generate a new spider.\n",
    "\n",
    "To start a new project, open the command prompt (move to the Data_Scraping folder, if you always do so) and run the following command:\n",
    "\n",
    "`\n",
    "scrapy startproject quote_pages\n",
    "`\n",
    "\n",
    "So now move to the newly created folder and generate a new spider (called quote_all) for getting data from quotes.toscrape.com as follows:\n",
    "\n",
    "`\n",
    "cd quote_pages\n",
    "scrapy genspider quote_all quotes.toscrape.com\n",
    "`\n",
    "\n",
    "The spider we will create is basically the same we had before (that scraped the same page and yielded a JSON file) just with some small changes. So let's copy the code from out spider and paste it inside the newly generated quote_all.py file."
   ]
  },
  {
   "cell_type": "code",
   "execution_count": 1,
   "metadata": {
    "collapsed": true
   },
   "outputs": [],
   "source": [
    "# -*- coding: utf-8 -*-\n",
    "import scrapy\n",
    "\n",
    "\n",
    "class QuoteSpider(scrapy.Spider):\n",
    "    name = \"quote\"\n",
    "    allowed_domains = [\"quotes.toscrape.com\"]\n",
    "    start_urls = ['http://quotes.toscrape.com/page/1/',\n",
    "                  'http://quotes.toscrape.com/page/2/']\n",
    "\n",
    "    def parse(self, response):\n",
    "        for quote in response.css('div.quote'):\n",
    "            yield {\n",
    "                'text': quote.css('span.text::text').extract_first(),\n",
    "                'author': quote.css('span small.author::text').extract_first(),\n",
    "                'tags': quote.css('div.tags a.tag::text').extract(),\n",
    "            }"
   ]
  },
  {
   "cell_type": "markdown",
   "metadata": {},
   "source": [
    "As you can see the very first (and brutal) approach can be adding the URLs one-by-one to the start_urls list. The good news is that all URLs are quite similar: the only difference is the page number. This means we can construct URLs from three components as follows:\n",
    "`\n",
    "URL = 'http://quotes.toscrape.com/page/' + '1' + '/'\n",
    "`\n",
    "where the 2nd component (in this case 1) is the only variable component. If you check manually, you will see that there are 10 pages overall that include quote data. Which means, we can create each separate link using **range()** function and append them to the start_urls empty list as follows:\n",
    "\n",
    "`\n",
    "start_urls = []\n",
    "for i in range(1,11):\n",
    "    URL = 'http://quotes.toscrape.com/page/' + str(i) + '/'\n",
    "    start_urls.append(URL)\n",
    "`\n",
    "\n",
    "Thus, the overall function after the abovementioned change will look like this (P.S. also, change the **name** variable value as we do not want to have 2 scrapers with the same name):"
   ]
  },
  {
   "cell_type": "code",
   "execution_count": 2,
   "metadata": {
    "collapsed": true
   },
   "outputs": [],
   "source": [
    "# -*- coding: utf-8 -*-\n",
    "import scrapy\n",
    "\n",
    "\n",
    "class QuoteSpider(scrapy.Spider):\n",
    "    name = \"quote_new\"\n",
    "    allowed_domains = [\"quotes.toscrape.com\"]\n",
    "    start_urls = []\n",
    "    for i in range(1,11):\n",
    "        URL = 'http://quotes.toscrape.com/page/' + str(i) + '/'\n",
    "        start_urls.append(URL)\n",
    "\n",
    "    def parse(self, response):\n",
    "        for quote in response.css('div.quote'):\n",
    "            yield {\n",
    "                'text': quote.css('span.text::text').extract_first(),\n",
    "                'author': quote.css('span small.author::text').extract_first(),\n",
    "                'tags': quote.css('div.tags a.tag::text').extract(),\n",
    "            }"
   ]
  },
  {
   "cell_type": "markdown",
   "metadata": {},
   "source": [
    "The same, of course, could be achieved using a while loop as follows:"
   ]
  },
  {
   "cell_type": "code",
   "execution_count": 3,
   "metadata": {
    "collapsed": true
   },
   "outputs": [],
   "source": [
    "# -*- coding: utf-8 -*-\n",
    "import scrapy\n",
    "\n",
    "\n",
    "class QuoteSpider(scrapy.Spider):\n",
    "    name = \"quote_new\"\n",
    "    allowed_domains = [\"quotes.toscrape.com\"]\n",
    "    start_urls = []\n",
    "    i=1\n",
    "    while i<11:\n",
    "        URL = 'http://quotes.toscrape.com/page/' + str(i) + '/'\n",
    "        start_urls.append(URL)\n",
    "        i+=1\n",
    "\n",
    "    def parse(self, response):\n",
    "        for quote in response.css('div.quote'):\n",
    "            yield {\n",
    "                'text': quote.css('span.text::text').extract_first(),\n",
    "                'author': quote.css('span small.author::text').extract_first(),\n",
    "                'tags': quote.css('div.tags a.tag::text').extract(),\n",
    "            }"
   ]
  },
  {
   "cell_type": "markdown",
   "metadata": {},
   "source": [
    "This approach is easy and user firendly, yet it requires you to know the overall number of pages (10, in our case). A smarter solution would be the one that will not requore you to have this information. If you take an attentive look you will notice that there is a **Next** button on each single page and there is only one page which is missing the **Next** button: the last page. The button includes a hyperlink to each next page. As there is not next page for the last one, there is no next button on it. Which means we can navigate over pages by finding the hyperlink under the next button. It can be found with following code, which is using CSS selectors to find a list item (li) with a class next, then find an `<a>` tag inside the list item and get the value of its **href** attribute:\n",
    "\n",
    "`\n",
    "next_page = response.css('li.next a::attr(href)').extract_first()\n",
    "`\n",
    "\n",
    "If we are on the very first page, the value of the **next_page** guy will be **/page/2/**. Then this will be the absolute link of the 2nd page:\n",
    "\n",
    "`\n",
    "new_link = 'http://quotes/toscrape.com' + next_page\n",
    "`\n",
    "\n",
    "To finalize the code what we need to do is to first check whether there is any next button (any next_page url) and if so, then yield a new request to the new url as follows:\n",
    "\n",
    "`\n",
    "if next_page is not None:\n",
    "    yield scrapy.Request(new_link)\n",
    "`\n",
    "\n",
    "The code above must be added inside the defined **parse()** function (but outside the for loop). Thus, the full code will look like this."
   ]
  },
  {
   "cell_type": "code",
   "execution_count": 5,
   "metadata": {
    "collapsed": false
   },
   "outputs": [],
   "source": [
    "# -*- coding: utf-8 -*-\n",
    "import scrapy\n",
    "\n",
    "\n",
    "class QuoteSpider(scrapy.Spider):\n",
    "    name = \"quote_new\"\n",
    "    allowed_domains = [\"quotes.toscrape.com\"]\n",
    "    start_urls = [\"http://quotes.toscrape.com/\"]\n",
    "    \n",
    "    def parse(self, response):\n",
    "        for quote in response.css('div.quote'):\n",
    "            yield {\n",
    "                'text': quote.css('span.text::text').extract_first(),\n",
    "                'author': quote.css('span small.author::text').extract_first(),\n",
    "                'tags': quote.css('div.tags a.tag::text').extract(),\n",
    "            }\n",
    "        next_page = response.css('li.next a::attr(href)').extract_first()\n",
    "        new_link = \"http://quotes.toscrape.com\" + next_page\n",
    "\n",
    "        if next_page is not None:\n",
    "            yield scrapy.Request(new_link)"
   ]
  },
  {
   "cell_type": "markdown",
   "metadata": {},
   "source": [
    "Excellent! The code above must work, and to check it we can run a command that will generate a JSON file from the scraped data as follows:\n",
    "\n",
    "`\n",
    "scrapy crawl quote_new -o all_page_data.json\n",
    "`"
   ]
  }
 ],
 "metadata": {
  "kernelspec": {
   "display_name": "Python [default]",
   "language": "python",
   "name": "python2"
  },
  "language_info": {
   "codemirror_mode": {
    "name": "ipython",
    "version": 2
   },
   "file_extension": ".py",
   "mimetype": "text/x-python",
   "name": "python",
   "nbconvert_exporter": "python",
   "pygments_lexer": "ipython2",
   "version": "2.7.12"
  }
 },
 "nbformat": 4,
 "nbformat_minor": 2
}
