{
 "cells": [
  {
   "cell_type": "markdown",
   "metadata": {},
   "source": [
    "# YouTube API - unauthorized access\n",
    "\n",
    "As discussed during lectures, some APIs require authorization to provide access, and some not. YouTube API provides some data without authorization that can easily be accessed using a third-package called **pafy**. The latter provides easiy access to movie data from YouTube once the user provides the url. Code below is not explained line-by-line as it is quite user-friendly and self-explaining. The official documentation on **pafy** package can be found on [their GitHub repository](https://github.com/mps-youtube/pafy).\n",
    "\n",
    "The package can be installed using pip as usually:\n",
    "```\n",
    "pip install pafy\n",
    "```\n",
    "\n",
    "> The data can be accessed even without using this package, as the API response is a publicly available JSON file. One can find that file as follows: https://www.youtube.com/oembed?url=http://www.youtube.com/watch?v=BGBM5vWiBLo&format=json Just change the id with your movie ID (after watch?v= and before %format=json). Similarly, one can access the XML type of response by just changing the last part (json) to XML."
   ]
  },
  {
   "cell_type": "code",
   "execution_count": 49,
   "metadata": {
    "collapsed": false
   },
   "outputs": [],
   "source": [
    "import pafy\n",
    "url = \"https://www.youtube.com/watch?v=BGBM5vWiBLo\"\n",
    "video = pafy.new(url)"
   ]
  },
  {
   "cell_type": "code",
   "execution_count": 22,
   "metadata": {
    "collapsed": false
   },
   "outputs": [
    {
     "data": {
      "text/plain": [
       "u'\\u266b Pink Floyd - High Hopes [Lyrics]'"
      ]
     },
     "execution_count": 22,
     "metadata": {},
     "output_type": "execute_result"
    }
   ],
   "source": [
    "video.title"
   ]
  },
  {
   "cell_type": "code",
   "execution_count": 23,
   "metadata": {
    "collapsed": false
   },
   "outputs": [
    {
     "data": {
      "text/plain": [
       "u\"--- INFO ---\\r\\n\\r\\nAlbum: The Division Bell\\r\\nYear: 1994\\r\\nMusic: Gilmour\\r\\n\\r\\n--- LYRICS ---\\r\\n\\r\\nBeyond the horizon of the place we lived when we were young\\r\\nIn a world of magnets and miracles\\r\\nOur thoughts strayed constantly and without boundary\\r\\nThe ringing of the division bell had begun\\r\\n\\r\\nAlong the Long Road and on down the Causeway\\r\\nDo they still meet there by the Cut\\r\\n\\r\\nThere was a ragged band that followed in our footsteps\\r\\nRunning before time took our dreams away\\r\\nLeaving the myriad small creatures trying to tie us to the ground\\r\\nTo a life consumed by slow decay\\r\\n\\r\\nThe grass was greener\\r\\nThe light was brighter\\r\\nWith friends surrounded\\r\\nThe nights of wonder\\r\\n\\r\\nLooking beyond the embers of bridges glowing behind us\\r\\nTo a glimpse of how green it was on the other side\\r\\nSteps taken forwards but sleepwalking back again\\r\\nDragged by the force of some inner tide\\r\\n\\r\\nAt a higher altitude with flag unfurled\\r\\nWe reached the dizzy heights of that dreamed of world\\r\\n\\r\\nEncumbered forever by desire and ambition\\r\\nThere's a hunger still unsatisfied\\r\\nOur weary eyes still stray to the horizon\\r\\nThough down this road we've been so many times\\r\\n\\r\\nThe grass was greener\\r\\nThe light was brighter\\r\\nThe taste was sweeter\\r\\nThe nights of wonder\\r\\nWith friends surrounded\\r\\nThe dawn mist glowing\\r\\nThe water flowing\\r\\nThe endless river\\r\\nForever and ever\""
      ]
     },
     "execution_count": 23,
     "metadata": {},
     "output_type": "execute_result"
    }
   ],
   "source": [
    "video.description"
   ]
  },
  {
   "cell_type": "code",
   "execution_count": 24,
   "metadata": {
    "collapsed": false
   },
   "outputs": [],
   "source": [
    "details = [video.title, video.rating, video.viewcount, video.author, video.length]\n",
    "print(details)"
   ]
  },
  {
   "cell_type": "code",
   "execution_count": 26,
   "metadata": {
    "collapsed": true
   },
   "outputs": [],
   "source": [
    "# downloading the video with best quality\n",
    "best_video = video.getbest()\n",
    "best_video.download(quiet=False)"
   ]
  },
  {
   "cell_type": "code",
   "execution_count": 28,
   "metadata": {
    "collapsed": true
   },
   "outputs": [],
   "source": [
    "# downloading the audio of the video with best quality\n",
    "bestaudio = video.getbestaudio()\n",
    "bestaudio.download()"
   ]
  },
  {
   "cell_type": "code",
   "execution_count": 36,
   "metadata": {
    "collapsed": true
   },
   "outputs": [],
   "source": [
    "# getting all streams: all possible audio/video extensions\n",
    "allstreams = video.allstreams\n",
    "from pprint import pprint\n",
    "pprint(allstreams)"
   ]
  },
  {
   "cell_type": "code",
   "execution_count": 44,
   "metadata": {
    "collapsed": false
   },
   "outputs": [
    {
     "name": "stdout",
     "output_type": "stream",
     "text": [
      "('normal', 'webm', '640x360')\n",
      "('normal', 'mp4', '640x360')\n",
      "('normal', '3gp', '320x240')\n",
      "('normal', '3gp', '176x144')\n",
      "('video', 'm4v', '854x480')\n",
      "('video', 'webm', '640x480')\n",
      "('video', 'm4v', '640x360')\n",
      "('video', 'webm', '480x360')\n",
      "('video', 'm4v', '426x240')\n",
      "('video', 'webm', '360x240')\n",
      "('video', 'm4v', '256x144')\n",
      "('video', 'webm', '256x144')\n",
      "('audio', 'opus', '128k')\n",
      "('audio', 'ogg', '128k')\n",
      "('audio', 'm4a', '128k')\n",
      "('audio', 'opus', '56k')\n",
      "('audio', 'opus', '48k')\n"
     ]
    }
   ],
   "source": [
    "for i in allstreams:\n",
    "    print(i.mediatype, i.extension, i.quality)"
   ]
  },
  {
   "cell_type": "code",
   "execution_count": 48,
   "metadata": {
    "collapsed": false
   },
   "outputs": [
    {
     "name": "stdout",
     "output_type": "stream",
     "text": []
    },
    {
     "data": {
      "text/plain": [
       "u'\\u266b Pink Floyd - High Hopes [Lyrics].m4a'"
      ]
     },
     "execution_count": 48,
     "metadata": {},
     "output_type": "execute_result"
    }
   ],
   "source": [
    "# download a chosen filetype, e.g. m4a\n",
    "allstreams[-3].download()"
   ]
  }
 ],
 "metadata": {
  "anaconda-cloud": {},
  "kernelspec": {
   "display_name": "Python [default]",
   "language": "python",
   "name": "python2"
  },
  "language_info": {
   "codemirror_mode": {
    "name": "ipython",
    "version": 2
   },
   "file_extension": ".py",
   "mimetype": "text/x-python",
   "name": "python",
   "nbconvert_exporter": "python",
   "pygments_lexer": "ipython2",
   "version": "2.7.12"
  }
 },
 "nbformat": 4,
 "nbformat_minor": 2
}
