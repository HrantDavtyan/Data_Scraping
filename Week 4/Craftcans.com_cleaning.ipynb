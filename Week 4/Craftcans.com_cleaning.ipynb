{
 "cells": [
  {
   "cell_type": "markdown",
   "metadata": {},
   "source": [
    "# Craftcans.com - cleaning\n",
    "\n",
    "Craftcans.com provides a database of 2692 crafted canned beers. The data on beers includes the following variables:\n",
    "\n",
    "- Name\n",
    "- Style\n",
    "- Size\n",
    "- Alcohol by volume (ABV)\n",
    "- IBU’s\n",
    "- Brewer name\n",
    "- Brewer location\n",
    "\n",
    "However, some of the variables include both number and text values (e.g. Size), while others include missing values (e.g. IBUs).\n",
    "In order to make the dataset ready for analysis, one needs to clean it first. We will do that using pandas and regular expressions."
   ]
  },
  {
   "cell_type": "code",
   "execution_count": 2,
   "metadata": {
    "collapsed": true
   },
   "outputs": [],
   "source": [
    "import pandas, re"
   ]
  },
  {
   "cell_type": "code",
   "execution_count": 3,
   "metadata": {
    "collapsed": false
   },
   "outputs": [],
   "source": [
    "data = pandas.read_excel(\"craftcans.xlsx\")"
   ]
  },
  {
   "cell_type": "code",
   "execution_count": 4,
   "metadata": {
    "collapsed": false
   },
   "outputs": [
    {
     "data": {
      "text/html": [
       "<div>\n",
       "<table border=\"1\" class=\"dataframe\">\n",
       "  <thead>\n",
       "    <tr style=\"text-align: right;\">\n",
       "      <th></th>\n",
       "      <th>0</th>\n",
       "      <th>1</th>\n",
       "      <th>2</th>\n",
       "      <th>3</th>\n",
       "      <th>4</th>\n",
       "      <th>5</th>\n",
       "      <th>6</th>\n",
       "      <th>7</th>\n",
       "    </tr>\n",
       "  </thead>\n",
       "  <tbody>\n",
       "    <tr>\n",
       "      <th>0</th>\n",
       "      <td>ENTRY</td>\n",
       "      <td>BEER</td>\n",
       "      <td>BREWERY</td>\n",
       "      <td>LOCATION</td>\n",
       "      <td>STYLE</td>\n",
       "      <td>SIZE</td>\n",
       "      <td>ABV</td>\n",
       "      <td>IBUs</td>\n",
       "    </tr>\n",
       "    <tr>\n",
       "      <th>1</th>\n",
       "      <td>2692.</td>\n",
       "      <td>Get Together</td>\n",
       "      <td>NorthGate Brewing</td>\n",
       "      <td>Minneapolis, MN</td>\n",
       "      <td>American IPA</td>\n",
       "      <td>16 oz.</td>\n",
       "      <td>4.5%</td>\n",
       "      <td>50</td>\n",
       "    </tr>\n",
       "    <tr>\n",
       "      <th>2</th>\n",
       "      <td>2691.</td>\n",
       "      <td>Maggie's Leap</td>\n",
       "      <td>NorthGate Brewing</td>\n",
       "      <td>Minneapolis, MN</td>\n",
       "      <td>Milk / Sweet Stout</td>\n",
       "      <td>16 oz.</td>\n",
       "      <td>4.9%</td>\n",
       "      <td>26</td>\n",
       "    </tr>\n",
       "    <tr>\n",
       "      <th>3</th>\n",
       "      <td>2690.</td>\n",
       "      <td>Wall's End</td>\n",
       "      <td>NorthGate Brewing</td>\n",
       "      <td>Minneapolis, MN</td>\n",
       "      <td>English Brown Ale</td>\n",
       "      <td>16 oz.</td>\n",
       "      <td>4.8%</td>\n",
       "      <td>19</td>\n",
       "    </tr>\n",
       "    <tr>\n",
       "      <th>4</th>\n",
       "      <td>2689.</td>\n",
       "      <td>Pumpion</td>\n",
       "      <td>NorthGate Brewing</td>\n",
       "      <td>Minneapolis, MN</td>\n",
       "      <td>Pumpkin Ale</td>\n",
       "      <td>16 oz.</td>\n",
       "      <td>6.0%</td>\n",
       "      <td>38</td>\n",
       "    </tr>\n",
       "  </tbody>\n",
       "</table>\n",
       "</div>"
      ],
      "text/plain": [
       "       0              1                  2                3  \\\n",
       "0  ENTRY           BEER            BREWERY         LOCATION   \n",
       "1  2692.   Get Together  NorthGate Brewing  Minneapolis, MN   \n",
       "2  2691.  Maggie's Leap  NorthGate Brewing  Minneapolis, MN   \n",
       "3  2690.     Wall's End  NorthGate Brewing  Minneapolis, MN   \n",
       "4  2689.        Pumpion  NorthGate Brewing  Minneapolis, MN   \n",
       "\n",
       "                    4       5     6     7  \n",
       "0               STYLE    SIZE   ABV  IBUs  \n",
       "1        American IPA  16 oz.  4.5%    50  \n",
       "2  Milk / Sweet Stout  16 oz.  4.9%    26  \n",
       "3   English Brown Ale  16 oz.  4.8%    19  \n",
       "4         Pumpkin Ale  16 oz.  6.0%    38  "
      ]
     },
     "execution_count": 4,
     "metadata": {},
     "output_type": "execute_result"
    }
   ],
   "source": [
    "data.head()"
   ]
  },
  {
   "cell_type": "markdown",
   "metadata": {},
   "source": [
    "As it can be seen above, the header row is saved as a simple observation unit. Let's rename the columns with the real headers."
   ]
  },
  {
   "cell_type": "code",
   "execution_count": 5,
   "metadata": {
    "collapsed": false
   },
   "outputs": [],
   "source": [
    "data.columns = data.iloc[0]"
   ]
  },
  {
   "cell_type": "code",
   "execution_count": 6,
   "metadata": {
    "collapsed": false
   },
   "outputs": [
    {
     "data": {
      "text/html": [
       "<div>\n",
       "<table border=\"1\" class=\"dataframe\">\n",
       "  <thead>\n",
       "    <tr style=\"text-align: right;\">\n",
       "      <th></th>\n",
       "      <th>ENTRY</th>\n",
       "      <th>BEER</th>\n",
       "      <th>BREWERY</th>\n",
       "      <th>LOCATION</th>\n",
       "      <th>STYLE</th>\n",
       "      <th>SIZE</th>\n",
       "      <th>ABV</th>\n",
       "      <th>IBUs</th>\n",
       "    </tr>\n",
       "  </thead>\n",
       "  <tbody>\n",
       "    <tr>\n",
       "      <th>0</th>\n",
       "      <td>ENTRY</td>\n",
       "      <td>BEER</td>\n",
       "      <td>BREWERY</td>\n",
       "      <td>LOCATION</td>\n",
       "      <td>STYLE</td>\n",
       "      <td>SIZE</td>\n",
       "      <td>ABV</td>\n",
       "      <td>IBUs</td>\n",
       "    </tr>\n",
       "    <tr>\n",
       "      <th>1</th>\n",
       "      <td>2692.</td>\n",
       "      <td>Get Together</td>\n",
       "      <td>NorthGate Brewing</td>\n",
       "      <td>Minneapolis, MN</td>\n",
       "      <td>American IPA</td>\n",
       "      <td>16 oz.</td>\n",
       "      <td>4.5%</td>\n",
       "      <td>50</td>\n",
       "    </tr>\n",
       "    <tr>\n",
       "      <th>2</th>\n",
       "      <td>2691.</td>\n",
       "      <td>Maggie's Leap</td>\n",
       "      <td>NorthGate Brewing</td>\n",
       "      <td>Minneapolis, MN</td>\n",
       "      <td>Milk / Sweet Stout</td>\n",
       "      <td>16 oz.</td>\n",
       "      <td>4.9%</td>\n",
       "      <td>26</td>\n",
       "    </tr>\n",
       "    <tr>\n",
       "      <th>3</th>\n",
       "      <td>2690.</td>\n",
       "      <td>Wall's End</td>\n",
       "      <td>NorthGate Brewing</td>\n",
       "      <td>Minneapolis, MN</td>\n",
       "      <td>English Brown Ale</td>\n",
       "      <td>16 oz.</td>\n",
       "      <td>4.8%</td>\n",
       "      <td>19</td>\n",
       "    </tr>\n",
       "    <tr>\n",
       "      <th>4</th>\n",
       "      <td>2689.</td>\n",
       "      <td>Pumpion</td>\n",
       "      <td>NorthGate Brewing</td>\n",
       "      <td>Minneapolis, MN</td>\n",
       "      <td>Pumpkin Ale</td>\n",
       "      <td>16 oz.</td>\n",
       "      <td>6.0%</td>\n",
       "      <td>38</td>\n",
       "    </tr>\n",
       "  </tbody>\n",
       "</table>\n",
       "</div>"
      ],
      "text/plain": [
       "0  ENTRY           BEER            BREWERY         LOCATION  \\\n",
       "0  ENTRY           BEER            BREWERY         LOCATION   \n",
       "1  2692.   Get Together  NorthGate Brewing  Minneapolis, MN   \n",
       "2  2691.  Maggie's Leap  NorthGate Brewing  Minneapolis, MN   \n",
       "3  2690.     Wall's End  NorthGate Brewing  Minneapolis, MN   \n",
       "4  2689.        Pumpion  NorthGate Brewing  Minneapolis, MN   \n",
       "\n",
       "0               STYLE    SIZE   ABV  IBUs  \n",
       "0               STYLE    SIZE   ABV  IBUs  \n",
       "1        American IPA  16 oz.  4.5%    50  \n",
       "2  Milk / Sweet Stout  16 oz.  4.9%    26  \n",
       "3   English Brown Ale  16 oz.  4.8%    19  \n",
       "4         Pumpkin Ale  16 oz.  6.0%    38  "
      ]
     },
     "execution_count": 6,
     "metadata": {},
     "output_type": "execute_result"
    }
   ],
   "source": [
    "data.head()"
   ]
  },
  {
   "cell_type": "markdown",
   "metadata": {},
   "source": [
    "Fine, but the very first row still remains. We have to drop it, and for that we will use the **drop()** function from the pandas library, which takes 2 arguments: the dropable row/column name and the axis (0 for rows and 1 for columns)."
   ]
  },
  {
   "cell_type": "code",
   "execution_count": 7,
   "metadata": {
    "collapsed": false
   },
   "outputs": [],
   "source": [
    "data = data.drop(0,axis=0)"
   ]
  },
  {
   "cell_type": "code",
   "execution_count": 8,
   "metadata": {
    "collapsed": false
   },
   "outputs": [
    {
     "data": {
      "text/html": [
       "<div>\n",
       "<table border=\"1\" class=\"dataframe\">\n",
       "  <thead>\n",
       "    <tr style=\"text-align: right;\">\n",
       "      <th></th>\n",
       "      <th>ENTRY</th>\n",
       "      <th>BEER</th>\n",
       "      <th>BREWERY</th>\n",
       "      <th>LOCATION</th>\n",
       "      <th>STYLE</th>\n",
       "      <th>SIZE</th>\n",
       "      <th>ABV</th>\n",
       "      <th>IBUs</th>\n",
       "    </tr>\n",
       "  </thead>\n",
       "  <tbody>\n",
       "    <tr>\n",
       "      <th>1</th>\n",
       "      <td>2692.</td>\n",
       "      <td>Get Together</td>\n",
       "      <td>NorthGate Brewing</td>\n",
       "      <td>Minneapolis, MN</td>\n",
       "      <td>American IPA</td>\n",
       "      <td>16 oz.</td>\n",
       "      <td>4.5%</td>\n",
       "      <td>50</td>\n",
       "    </tr>\n",
       "    <tr>\n",
       "      <th>2</th>\n",
       "      <td>2691.</td>\n",
       "      <td>Maggie's Leap</td>\n",
       "      <td>NorthGate Brewing</td>\n",
       "      <td>Minneapolis, MN</td>\n",
       "      <td>Milk / Sweet Stout</td>\n",
       "      <td>16 oz.</td>\n",
       "      <td>4.9%</td>\n",
       "      <td>26</td>\n",
       "    </tr>\n",
       "    <tr>\n",
       "      <th>3</th>\n",
       "      <td>2690.</td>\n",
       "      <td>Wall's End</td>\n",
       "      <td>NorthGate Brewing</td>\n",
       "      <td>Minneapolis, MN</td>\n",
       "      <td>English Brown Ale</td>\n",
       "      <td>16 oz.</td>\n",
       "      <td>4.8%</td>\n",
       "      <td>19</td>\n",
       "    </tr>\n",
       "    <tr>\n",
       "      <th>4</th>\n",
       "      <td>2689.</td>\n",
       "      <td>Pumpion</td>\n",
       "      <td>NorthGate Brewing</td>\n",
       "      <td>Minneapolis, MN</td>\n",
       "      <td>Pumpkin Ale</td>\n",
       "      <td>16 oz.</td>\n",
       "      <td>6.0%</td>\n",
       "      <td>38</td>\n",
       "    </tr>\n",
       "    <tr>\n",
       "      <th>5</th>\n",
       "      <td>2688.</td>\n",
       "      <td>Stronghold</td>\n",
       "      <td>NorthGate Brewing</td>\n",
       "      <td>Minneapolis, MN</td>\n",
       "      <td>American Porter</td>\n",
       "      <td>16 oz.</td>\n",
       "      <td>6.0%</td>\n",
       "      <td>25</td>\n",
       "    </tr>\n",
       "  </tbody>\n",
       "</table>\n",
       "</div>"
      ],
      "text/plain": [
       "0  ENTRY           BEER            BREWERY         LOCATION  \\\n",
       "1  2692.   Get Together  NorthGate Brewing  Minneapolis, MN   \n",
       "2  2691.  Maggie's Leap  NorthGate Brewing  Minneapolis, MN   \n",
       "3  2690.     Wall's End  NorthGate Brewing  Minneapolis, MN   \n",
       "4  2689.        Pumpion  NorthGate Brewing  Minneapolis, MN   \n",
       "5  2688.     Stronghold  NorthGate Brewing  Minneapolis, MN   \n",
       "\n",
       "0               STYLE    SIZE   ABV IBUs  \n",
       "1        American IPA  16 oz.  4.5%   50  \n",
       "2  Milk / Sweet Stout  16 oz.  4.9%   26  \n",
       "3   English Brown Ale  16 oz.  4.8%   19  \n",
       "4         Pumpkin Ale  16 oz.  6.0%   38  \n",
       "5     American Porter  16 oz.  6.0%   25  "
      ]
     },
     "execution_count": 8,
     "metadata": {},
     "output_type": "execute_result"
    }
   ],
   "source": [
    "data.head()"
   ]
  },
  {
   "cell_type": "markdown",
   "metadata": {},
   "source": [
    "Let's do the same for row names. Rows are called indecies in Pandas. Thus, let's take the values from the \"ENTRY\" column and use them to rename rows. Then, of course, we shoudl drop the additional column too."
   ]
  },
  {
   "cell_type": "code",
   "execution_count": 9,
   "metadata": {
    "collapsed": false
   },
   "outputs": [],
   "source": [
    "data.index = data[\"ENTRY\"]"
   ]
  },
  {
   "cell_type": "code",
   "execution_count": 10,
   "metadata": {
    "collapsed": false
   },
   "outputs": [
    {
     "data": {
      "text/html": [
       "<div>\n",
       "<table border=\"1\" class=\"dataframe\">\n",
       "  <thead>\n",
       "    <tr style=\"text-align: right;\">\n",
       "      <th></th>\n",
       "      <th>ENTRY</th>\n",
       "      <th>BEER</th>\n",
       "      <th>BREWERY</th>\n",
       "      <th>LOCATION</th>\n",
       "      <th>STYLE</th>\n",
       "      <th>SIZE</th>\n",
       "      <th>ABV</th>\n",
       "      <th>IBUs</th>\n",
       "    </tr>\n",
       "    <tr>\n",
       "      <th>ENTRY</th>\n",
       "      <th></th>\n",
       "      <th></th>\n",
       "      <th></th>\n",
       "      <th></th>\n",
       "      <th></th>\n",
       "      <th></th>\n",
       "      <th></th>\n",
       "      <th></th>\n",
       "    </tr>\n",
       "  </thead>\n",
       "  <tbody>\n",
       "    <tr>\n",
       "      <th>2692.</th>\n",
       "      <td>2692.</td>\n",
       "      <td>Get Together</td>\n",
       "      <td>NorthGate Brewing</td>\n",
       "      <td>Minneapolis, MN</td>\n",
       "      <td>American IPA</td>\n",
       "      <td>16 oz.</td>\n",
       "      <td>4.5%</td>\n",
       "      <td>50</td>\n",
       "    </tr>\n",
       "    <tr>\n",
       "      <th>2691.</th>\n",
       "      <td>2691.</td>\n",
       "      <td>Maggie's Leap</td>\n",
       "      <td>NorthGate Brewing</td>\n",
       "      <td>Minneapolis, MN</td>\n",
       "      <td>Milk / Sweet Stout</td>\n",
       "      <td>16 oz.</td>\n",
       "      <td>4.9%</td>\n",
       "      <td>26</td>\n",
       "    </tr>\n",
       "    <tr>\n",
       "      <th>2690.</th>\n",
       "      <td>2690.</td>\n",
       "      <td>Wall's End</td>\n",
       "      <td>NorthGate Brewing</td>\n",
       "      <td>Minneapolis, MN</td>\n",
       "      <td>English Brown Ale</td>\n",
       "      <td>16 oz.</td>\n",
       "      <td>4.8%</td>\n",
       "      <td>19</td>\n",
       "    </tr>\n",
       "    <tr>\n",
       "      <th>2689.</th>\n",
       "      <td>2689.</td>\n",
       "      <td>Pumpion</td>\n",
       "      <td>NorthGate Brewing</td>\n",
       "      <td>Minneapolis, MN</td>\n",
       "      <td>Pumpkin Ale</td>\n",
       "      <td>16 oz.</td>\n",
       "      <td>6.0%</td>\n",
       "      <td>38</td>\n",
       "    </tr>\n",
       "    <tr>\n",
       "      <th>2688.</th>\n",
       "      <td>2688.</td>\n",
       "      <td>Stronghold</td>\n",
       "      <td>NorthGate Brewing</td>\n",
       "      <td>Minneapolis, MN</td>\n",
       "      <td>American Porter</td>\n",
       "      <td>16 oz.</td>\n",
       "      <td>6.0%</td>\n",
       "      <td>25</td>\n",
       "    </tr>\n",
       "  </tbody>\n",
       "</table>\n",
       "</div>"
      ],
      "text/plain": [
       "0      ENTRY           BEER            BREWERY         LOCATION  \\\n",
       "ENTRY                                                             \n",
       "2692.  2692.   Get Together  NorthGate Brewing  Minneapolis, MN   \n",
       "2691.  2691.  Maggie's Leap  NorthGate Brewing  Minneapolis, MN   \n",
       "2690.  2690.     Wall's End  NorthGate Brewing  Minneapolis, MN   \n",
       "2689.  2689.        Pumpion  NorthGate Brewing  Minneapolis, MN   \n",
       "2688.  2688.     Stronghold  NorthGate Brewing  Minneapolis, MN   \n",
       "\n",
       "0                   STYLE    SIZE   ABV IBUs  \n",
       "ENTRY                                         \n",
       "2692.        American IPA  16 oz.  4.5%   50  \n",
       "2691.  Milk / Sweet Stout  16 oz.  4.9%   26  \n",
       "2690.   English Brown Ale  16 oz.  4.8%   19  \n",
       "2689.         Pumpkin Ale  16 oz.  6.0%   38  \n",
       "2688.     American Porter  16 oz.  6.0%   25  "
      ]
     },
     "execution_count": 10,
     "metadata": {},
     "output_type": "execute_result"
    }
   ],
   "source": [
    "data.head()"
   ]
  },
  {
   "cell_type": "code",
   "execution_count": 11,
   "metadata": {
    "collapsed": true
   },
   "outputs": [],
   "source": [
    "data = data.drop(\"ENTRY\",axis=1)"
   ]
  },
  {
   "cell_type": "code",
   "execution_count": 12,
   "metadata": {
    "collapsed": false
   },
   "outputs": [
    {
     "data": {
      "text/html": [
       "<div>\n",
       "<table border=\"1\" class=\"dataframe\">\n",
       "  <thead>\n",
       "    <tr style=\"text-align: right;\">\n",
       "      <th></th>\n",
       "      <th>BEER</th>\n",
       "      <th>BREWERY</th>\n",
       "      <th>LOCATION</th>\n",
       "      <th>STYLE</th>\n",
       "      <th>SIZE</th>\n",
       "      <th>ABV</th>\n",
       "      <th>IBUs</th>\n",
       "    </tr>\n",
       "    <tr>\n",
       "      <th>ENTRY</th>\n",
       "      <th></th>\n",
       "      <th></th>\n",
       "      <th></th>\n",
       "      <th></th>\n",
       "      <th></th>\n",
       "      <th></th>\n",
       "      <th></th>\n",
       "    </tr>\n",
       "  </thead>\n",
       "  <tbody>\n",
       "    <tr>\n",
       "      <th>2692.</th>\n",
       "      <td>Get Together</td>\n",
       "      <td>NorthGate Brewing</td>\n",
       "      <td>Minneapolis, MN</td>\n",
       "      <td>American IPA</td>\n",
       "      <td>16 oz.</td>\n",
       "      <td>4.5%</td>\n",
       "      <td>50</td>\n",
       "    </tr>\n",
       "    <tr>\n",
       "      <th>2691.</th>\n",
       "      <td>Maggie's Leap</td>\n",
       "      <td>NorthGate Brewing</td>\n",
       "      <td>Minneapolis, MN</td>\n",
       "      <td>Milk / Sweet Stout</td>\n",
       "      <td>16 oz.</td>\n",
       "      <td>4.9%</td>\n",
       "      <td>26</td>\n",
       "    </tr>\n",
       "    <tr>\n",
       "      <th>2690.</th>\n",
       "      <td>Wall's End</td>\n",
       "      <td>NorthGate Brewing</td>\n",
       "      <td>Minneapolis, MN</td>\n",
       "      <td>English Brown Ale</td>\n",
       "      <td>16 oz.</td>\n",
       "      <td>4.8%</td>\n",
       "      <td>19</td>\n",
       "    </tr>\n",
       "    <tr>\n",
       "      <th>2689.</th>\n",
       "      <td>Pumpion</td>\n",
       "      <td>NorthGate Brewing</td>\n",
       "      <td>Minneapolis, MN</td>\n",
       "      <td>Pumpkin Ale</td>\n",
       "      <td>16 oz.</td>\n",
       "      <td>6.0%</td>\n",
       "      <td>38</td>\n",
       "    </tr>\n",
       "    <tr>\n",
       "      <th>2688.</th>\n",
       "      <td>Stronghold</td>\n",
       "      <td>NorthGate Brewing</td>\n",
       "      <td>Minneapolis, MN</td>\n",
       "      <td>American Porter</td>\n",
       "      <td>16 oz.</td>\n",
       "      <td>6.0%</td>\n",
       "      <td>25</td>\n",
       "    </tr>\n",
       "  </tbody>\n",
       "</table>\n",
       "</div>"
      ],
      "text/plain": [
       "0               BEER            BREWERY         LOCATION               STYLE  \\\n",
       "ENTRY                                                                          \n",
       "2692.   Get Together  NorthGate Brewing  Minneapolis, MN        American IPA   \n",
       "2691.  Maggie's Leap  NorthGate Brewing  Minneapolis, MN  Milk / Sweet Stout   \n",
       "2690.     Wall's End  NorthGate Brewing  Minneapolis, MN   English Brown Ale   \n",
       "2689.        Pumpion  NorthGate Brewing  Minneapolis, MN         Pumpkin Ale   \n",
       "2688.     Stronghold  NorthGate Brewing  Minneapolis, MN     American Porter   \n",
       "\n",
       "0        SIZE   ABV IBUs  \n",
       "ENTRY                     \n",
       "2692.  16 oz.  4.5%   50  \n",
       "2691.  16 oz.  4.9%   26  \n",
       "2690.  16 oz.  4.8%   19  \n",
       "2689.  16 oz.  6.0%   38  \n",
       "2688.  16 oz.  6.0%   25  "
      ]
     },
     "execution_count": 12,
     "metadata": {},
     "output_type": "execute_result"
    }
   ],
   "source": [
    "data.head()"
   ]
  },
  {
   "cell_type": "markdown",
   "metadata": {},
   "source": [
    "Nice, now let's clean some variables. Let's start from the **SIZE**. It includes information on size which is presented in oz or ounces or differently. We need to have numbers only. Let's first see what are the available options. FOr that purpose, we can convert that columns to a list and then use the **set()** function to get the unique values from the list."
   ]
  },
  {
   "cell_type": "code",
   "execution_count": 13,
   "metadata": {
    "collapsed": false
   },
   "outputs": [
    {
     "name": "stdout",
     "output_type": "stream",
     "text": [
      "set([u'19.2 oz.', u'12 OZ.', u'12 & 16 oz.', u'19.2', u'12 oz', u'24 oz.', u'12 oz.', u'32 oz.', u'24 oz. \"Silo Can\"', u'16 oz', u'12 oz. Slimline', u'16.9 oz.', u'16 oz. Alumi-Tek\\xae', u'12 ounce', u'16 oz.', u'8.4 oz.'])\n"
     ]
    }
   ],
   "source": [
    "data_list = data[\"SIZE\"].tolist()\n",
    "unique_values = set(data_list)\n",
    "print(unique_values)"
   ]
  },
  {
   "cell_type": "markdown",
   "metadata": {},
   "source": [
    "Excellent. This means we can write a regular expression that will find all the digits (including those that have a dot inside) and subsitute whatever comes afterwards with an empty string."
   ]
  },
  {
   "cell_type": "code",
   "execution_count": 14,
   "metadata": {
    "collapsed": true
   },
   "outputs": [],
   "source": [
    "for i in range(0,len(data['SIZE'])):\n",
    "    data['SIZE'][i] = re.sub('(^.*\\d)(\\s*.*$)',r'\\1',data['SIZE'][i])"
   ]
  },
  {
   "cell_type": "code",
   "execution_count": 15,
   "metadata": {
    "collapsed": false
   },
   "outputs": [
    {
     "data": {
      "text/html": [
       "<div>\n",
       "<table border=\"1\" class=\"dataframe\">\n",
       "  <thead>\n",
       "    <tr style=\"text-align: right;\">\n",
       "      <th></th>\n",
       "      <th>BEER</th>\n",
       "      <th>BREWERY</th>\n",
       "      <th>LOCATION</th>\n",
       "      <th>STYLE</th>\n",
       "      <th>SIZE</th>\n",
       "      <th>ABV</th>\n",
       "      <th>IBUs</th>\n",
       "    </tr>\n",
       "    <tr>\n",
       "      <th>ENTRY</th>\n",
       "      <th></th>\n",
       "      <th></th>\n",
       "      <th></th>\n",
       "      <th></th>\n",
       "      <th></th>\n",
       "      <th></th>\n",
       "      <th></th>\n",
       "    </tr>\n",
       "  </thead>\n",
       "  <tbody>\n",
       "    <tr>\n",
       "      <th>2692.</th>\n",
       "      <td>Get Together</td>\n",
       "      <td>NorthGate Brewing</td>\n",
       "      <td>Minneapolis, MN</td>\n",
       "      <td>American IPA</td>\n",
       "      <td>16</td>\n",
       "      <td>4.5%</td>\n",
       "      <td>50</td>\n",
       "    </tr>\n",
       "    <tr>\n",
       "      <th>2691.</th>\n",
       "      <td>Maggie's Leap</td>\n",
       "      <td>NorthGate Brewing</td>\n",
       "      <td>Minneapolis, MN</td>\n",
       "      <td>Milk / Sweet Stout</td>\n",
       "      <td>16</td>\n",
       "      <td>4.9%</td>\n",
       "      <td>26</td>\n",
       "    </tr>\n",
       "    <tr>\n",
       "      <th>2690.</th>\n",
       "      <td>Wall's End</td>\n",
       "      <td>NorthGate Brewing</td>\n",
       "      <td>Minneapolis, MN</td>\n",
       "      <td>English Brown Ale</td>\n",
       "      <td>16</td>\n",
       "      <td>4.8%</td>\n",
       "      <td>19</td>\n",
       "    </tr>\n",
       "    <tr>\n",
       "      <th>2689.</th>\n",
       "      <td>Pumpion</td>\n",
       "      <td>NorthGate Brewing</td>\n",
       "      <td>Minneapolis, MN</td>\n",
       "      <td>Pumpkin Ale</td>\n",
       "      <td>16</td>\n",
       "      <td>6.0%</td>\n",
       "      <td>38</td>\n",
       "    </tr>\n",
       "    <tr>\n",
       "      <th>2688.</th>\n",
       "      <td>Stronghold</td>\n",
       "      <td>NorthGate Brewing</td>\n",
       "      <td>Minneapolis, MN</td>\n",
       "      <td>American Porter</td>\n",
       "      <td>16</td>\n",
       "      <td>6.0%</td>\n",
       "      <td>25</td>\n",
       "    </tr>\n",
       "  </tbody>\n",
       "</table>\n",
       "</div>"
      ],
      "text/plain": [
       "0               BEER            BREWERY         LOCATION               STYLE  \\\n",
       "ENTRY                                                                          \n",
       "2692.   Get Together  NorthGate Brewing  Minneapolis, MN        American IPA   \n",
       "2691.  Maggie's Leap  NorthGate Brewing  Minneapolis, MN  Milk / Sweet Stout   \n",
       "2690.     Wall's End  NorthGate Brewing  Minneapolis, MN   English Brown Ale   \n",
       "2689.        Pumpion  NorthGate Brewing  Minneapolis, MN         Pumpkin Ale   \n",
       "2688.     Stronghold  NorthGate Brewing  Minneapolis, MN     American Porter   \n",
       "\n",
       "0     SIZE   ABV IBUs  \n",
       "ENTRY                  \n",
       "2692.   16  4.5%   50  \n",
       "2691.   16  4.9%   26  \n",
       "2690.   16  4.8%   19  \n",
       "2689.   16  6.0%   38  \n",
       "2688.   16  6.0%   25  "
      ]
     },
     "execution_count": 15,
     "metadata": {},
     "output_type": "execute_result"
    }
   ],
   "source": [
    "data.head()"
   ]
  },
  {
   "cell_type": "markdown",
   "metadata": {},
   "source": [
    "Done! Let's now go for the **ABV** variable. It is given in %-s, so we can keep the number only, and divide it by 100 to get the float value. But there may be some wrongly inputed values in the columns also. So let's divide only those that have correct values and assign a \"missing value\" value to others."
   ]
  },
  {
   "cell_type": "code",
   "execution_count": 17,
   "metadata": {
    "collapsed": false
   },
   "outputs": [],
   "source": [
    "# for all values in that columns\n",
    "for i in range(0,len(data['ABV'])):\n",
    "    # if match exists, which means it is a correct value\n",
    "    if re.match('(^.*\\d)(%)',data['ABV'][i]) is not None:\n",
    "        # substitute the % sign with nothing, convert result to float and divide by 100\n",
    "        data['ABV'][i] = float(re.sub('(^.*\\d)(%)',r'\\1',data['ABV'][i]))/100\n",
    "    else: # which is when the value is incorrect\n",
    "        # give it the value of \"nan\" which stands for missing values\n",
    "        data['ABV'][i] = float(\"nan\")"
   ]
  },
  {
   "cell_type": "code",
   "execution_count": 18,
   "metadata": {
    "collapsed": false
   },
   "outputs": [
    {
     "data": {
      "text/plain": [
       "ENTRY\n",
       "2692.    0.045\n",
       "2691.    0.049\n",
       "2690.    0.048\n",
       "2689.     0.06\n",
       "2688.     0.06\n",
       "2687.    0.056\n",
       "2686.     0.08\n",
       "2685.    0.125\n",
       "2684.    0.077\n",
       "2683.    0.042\n",
       "2682.     0.05\n",
       "2681.    0.066\n",
       "2680.     0.04\n",
       "2679.    0.055\n",
       "2678.    0.076\n",
       "2677.    0.051\n",
       "2676.    0.065\n",
       "2675.     0.06\n",
       "2674.     0.05\n",
       "2673.    0.052\n",
       "2672.    0.048\n",
       "2671.    0.072\n",
       "2670.    0.067\n",
       "2669.    0.049\n",
       "2668.     0.08\n",
       "2667.    0.075\n",
       "2666.     0.06\n",
       "2664.     0.08\n",
       "2663.    0.063\n",
       "2662.    0.058\n",
       "         ...  \n",
       "2619.    0.058\n",
       "2618.     0.07\n",
       "2617.    0.055\n",
       "2616.    0.055\n",
       "2615.    0.054\n",
       "2614.    0.053\n",
       "2613.    0.055\n",
       "2612.     0.05\n",
       "2611.     0.06\n",
       "2610.    0.064\n",
       "2609.    0.058\n",
       "2608.    0.065\n",
       "2607.    0.068\n",
       "2606.    0.078\n",
       "2605.    0.052\n",
       "2604.    0.049\n",
       "2603.    0.065\n",
       "2602.     0.05\n",
       "2601.     0.08\n",
       "2600.    0.085\n",
       "2599.    0.069\n",
       "2598.    0.098\n",
       "2597.     0.06\n",
       "2596.    0.062\n",
       "2595.      NaN\n",
       "2594.    0.052\n",
       "2593.     0.07\n",
       "2592.    0.059\n",
       "2591.    0.045\n",
       "2590.    0.055\n",
       "Name: ABV, dtype: object"
      ]
     },
     "execution_count": 18,
     "metadata": {},
     "output_type": "execute_result"
    }
   ],
   "source": [
    "data['ABV'].head(100)"
   ]
  },
  {
   "cell_type": "markdown",
   "metadata": {},
   "source": [
    "Great! Let's now get some info on our dataframe"
   ]
  },
  {
   "cell_type": "code",
   "execution_count": 19,
   "metadata": {
    "collapsed": false
   },
   "outputs": [
    {
     "name": "stdout",
     "output_type": "stream",
     "text": [
      "<class 'pandas.core.frame.DataFrame'>\n",
      "Index: 2410 entries, 2692. to 1.\n",
      "Data columns (total 7 columns):\n",
      "BEER        2410 non-null object\n",
      "BREWERY     2410 non-null object\n",
      "LOCATION    2410 non-null object\n",
      "STYLE       2405 non-null object\n",
      "SIZE        2410 non-null object\n",
      "ABV         2348 non-null object\n",
      "IBUs        1405 non-null object\n",
      "dtypes: object(7)\n",
      "memory usage: 150.6+ KB\n"
     ]
    }
   ],
   "source": [
    "data.info()"
   ]
  },
  {
   "cell_type": "markdown",
   "metadata": {},
   "source": [
    "As you can see the ABV guy is left with only 2348 values out of 2410, as we assigned \"nan\" to incorrect values. Let's impute those missing values. As it is a variable with integer values,we can impute with mean using the **fillna()** function from pandas.'"
   ]
  },
  {
   "cell_type": "code",
   "execution_count": 20,
   "metadata": {
    "collapsed": false
   },
   "outputs": [],
   "source": [
    "data['ABV'] = data['ABV'].fillna(data['ABV'].mean())"
   ]
  },
  {
   "cell_type": "code",
   "execution_count": 21,
   "metadata": {
    "collapsed": false
   },
   "outputs": [
    {
     "name": "stdout",
     "output_type": "stream",
     "text": [
      "<class 'pandas.core.frame.DataFrame'>\n",
      "Index: 2410 entries, 2692. to 1.\n",
      "Data columns (total 7 columns):\n",
      "BEER        2410 non-null object\n",
      "BREWERY     2410 non-null object\n",
      "LOCATION    2410 non-null object\n",
      "STYLE       2405 non-null object\n",
      "SIZE        2410 non-null object\n",
      "ABV         2410 non-null float64\n",
      "IBUs        1405 non-null object\n",
      "dtypes: float64(1), object(6)\n",
      "memory usage: 150.6+ KB\n"
     ]
    }
   ],
   "source": [
    "data.info()"
   ]
  },
  {
   "cell_type": "markdown",
   "metadata": {},
   "source": [
    "Done! But there is another variable with missing values: **IBUs**. Let's make an imputation for that one also, but this time instead of mean let's use the backward/forward filling method."
   ]
  },
  {
   "cell_type": "code",
   "execution_count": 22,
   "metadata": {
    "collapsed": true
   },
   "outputs": [],
   "source": [
    "data['IBUs'] = data['IBUs'].fillna(method = \"bfill\")"
   ]
  },
  {
   "cell_type": "code",
   "execution_count": 23,
   "metadata": {
    "collapsed": false
   },
   "outputs": [
    {
     "name": "stdout",
     "output_type": "stream",
     "text": [
      "<class 'pandas.core.frame.DataFrame'>\n",
      "Index: 2410 entries, 2692. to 1.\n",
      "Data columns (total 7 columns):\n",
      "BEER        2410 non-null object\n",
      "BREWERY     2410 non-null object\n",
      "LOCATION    2410 non-null object\n",
      "STYLE       2405 non-null object\n",
      "SIZE        2410 non-null object\n",
      "ABV         2410 non-null float64\n",
      "IBUs        2410 non-null object\n",
      "dtypes: float64(1), object(6)\n",
      "memory usage: 150.6+ KB\n"
     ]
    }
   ],
   "source": [
    "data.info()"
   ]
  }
 ],
 "metadata": {
  "anaconda-cloud": {},
  "kernelspec": {
   "display_name": "Python [default]",
   "language": "python",
   "name": "python2"
  },
  "language_info": {
   "codemirror_mode": {
    "name": "ipython",
    "version": 2
   },
   "file_extension": ".py",
   "mimetype": "text/x-python",
   "name": "python",
   "nbconvert_exporter": "python",
   "pygments_lexer": "ipython2",
   "version": "2.7.12"
  }
 },
 "nbformat": 4,
 "nbformat_minor": 2
}
