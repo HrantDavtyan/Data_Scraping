{
 "cells": [
  {
   "cell_type": "markdown",
   "metadata": {},
   "source": [
    "# Craftcans.com: scraping with BeautifulSoup\n",
    "\n",
    "This notebook will explain how to get the same data however using **BeautifulSoup** package instead of **pandas**."
   ]
  },
  {
   "cell_type": "code",
   "execution_count": 1,
   "metadata": {
    "collapsed": true
   },
   "outputs": [],
   "source": [
    "import requests, pandas\n",
    "from BeautifulSoup import *"
   ]
  },
  {
   "cell_type": "code",
   "execution_count": 2,
   "metadata": {
    "collapsed": true
   },
   "outputs": [],
   "source": [
    "url = \"http://craftcans.com/db.php?search=all&sort=beerid&ord=desc&view=text\""
   ]
  },
  {
   "cell_type": "markdown",
   "metadata": {},
   "source": [
    "### Option 3: BeautifulSoup"
   ]
  },
  {
   "cell_type": "code",
   "execution_count": 3,
   "metadata": {
    "collapsed": false
   },
   "outputs": [],
   "source": [
    "response = requests.get(url)\n",
    "page = response.text\n",
    "soup = BeautifulSoup(page)"
   ]
  },
  {
   "cell_type": "markdown",
   "metadata": {},
   "source": [
    "If one goes to the website and uses the inspect element feature of Google chrome, then it can be seen that this table (although has no class or ID) jas a style attrbute of ```width:100%;margin-top:10px;``` value. We can use it to identify the correc ttable from the page."
   ]
  },
  {
   "cell_type": "code",
   "execution_count": 4,
   "metadata": {
    "collapsed": true
   },
   "outputs": [],
   "source": [
    "table = soup.find(\"table\",attrs={\"style\":\"width:100%;margin-top:10px;\"})"
   ]
  },
  {
   "cell_type": "markdown",
   "metadata": {},
   "source": [
    "Now once we found the table, we need to go row-by-row, read all the columns for each row and save the text inside. Let's save it as a dictionary, and then paste all the dictionaries into a lsit (thus, get a JSON file). Please note, that the **BEER** column is a bit different: the value inside table cell is in bold (e.g. ```<b>``` tag). Thus we should first find the ```<b>``` tag, and then only go for the text content. "
   ]
  },
  {
   "cell_type": "code",
   "execution_count": 5,
   "metadata": {
    "collapsed": false
   },
   "outputs": [],
   "source": [
    "# find all the rows of the table and save them into the rows variable\n",
    "rows = table.findAll(\"tr\")\n",
    "# create and empty list to be filled in with dictionaires\n",
    "data_list = []\n",
    "# for each row in the list of rows:\n",
    "for row in rows:\n",
    "    columns = row.findAll(\"td\") # find all columns in that row\n",
    "    # and create a dictionary, where we give the key and get the text content as value\n",
    "    beer = {\n",
    "        \"id\":columns[0].text,\n",
    "        \"beer\":columns[1].find('b').text,\n",
    "        \"brewery\":columns[2].text,\n",
    "        \"location\":columns[3].text,\n",
    "        \"style\":columns[4].text,\n",
    "        \"size\":columns[5].text,\n",
    "        \"abv\":columns[6].text,\n",
    "        \"ibu\":columns[7].text\n",
    "    }\n",
    "    # append the dictionary to the list\n",
    "    data_list.append(beer)"
   ]
  },
  {
   "cell_type": "markdown",
   "metadata": {},
   "source": [
    "Let's see the result. The first 5 dictionaires must be enough."
   ]
  },
  {
   "cell_type": "code",
   "execution_count": 7,
   "metadata": {
    "collapsed": false
   },
   "outputs": [
    {
     "data": {
      "text/plain": [
       "[{'abv': u'ABV',\n",
       "  'beer': u'BEER',\n",
       "  'brewery': u'BREWERY',\n",
       "  'ibu': u'IBUs',\n",
       "  'id': u'ENTRY',\n",
       "  'location': u'LOCATION',\n",
       "  'size': u'SIZE',\n",
       "  'style': u'STYLE'},\n",
       " {'abv': u'4.5%',\n",
       "  'beer': u'Get Together',\n",
       "  'brewery': u'NorthGate Brewing',\n",
       "  'ibu': u'50',\n",
       "  'id': u'2692.',\n",
       "  'location': u'Minneapolis,MN',\n",
       "  'size': u'16 oz.',\n",
       "  'style': u'American IPA'},\n",
       " {'abv': u'4.9%',\n",
       "  'beer': u\"Maggie's Leap\",\n",
       "  'brewery': u'NorthGate Brewing',\n",
       "  'ibu': u'26',\n",
       "  'id': u'2691.',\n",
       "  'location': u'Minneapolis,MN',\n",
       "  'size': u'16 oz.',\n",
       "  'style': u'Milk / Sweet Stout'},\n",
       " {'abv': u'4.8%',\n",
       "  'beer': u\"Wall's End\",\n",
       "  'brewery': u'NorthGate Brewing',\n",
       "  'ibu': u'19',\n",
       "  'id': u'2690.',\n",
       "  'location': u'Minneapolis,MN',\n",
       "  'size': u'16 oz.',\n",
       "  'style': u'English Brown Ale'},\n",
       " {'abv': u'6.0%',\n",
       "  'beer': u'Pumpion',\n",
       "  'brewery': u'NorthGate Brewing',\n",
       "  'ibu': u'38',\n",
       "  'id': u'2689.',\n",
       "  'location': u'Minneapolis,MN',\n",
       "  'size': u'16 oz.',\n",
       "  'style': u'Pumpkin Ale'}]"
      ]
     },
     "execution_count": 7,
     "metadata": {},
     "output_type": "execute_result"
    }
   ],
   "source": [
    "data_list[:5]"
   ]
  },
  {
   "cell_type": "markdown",
   "metadata": {},
   "source": [
    "If you are more comfortable with working in Dataframes, when the conversion can easility be done."
   ]
  },
  {
   "cell_type": "code",
   "execution_count": 8,
   "metadata": {
    "collapsed": true
   },
   "outputs": [],
   "source": [
    "data = pandas.DataFrame(data_list)"
   ]
  },
  {
   "cell_type": "code",
   "execution_count": 9,
   "metadata": {
    "collapsed": false
   },
   "outputs": [
    {
     "data": {
      "text/html": [
       "<div>\n",
       "<table border=\"1\" class=\"dataframe\">\n",
       "  <thead>\n",
       "    <tr style=\"text-align: right;\">\n",
       "      <th></th>\n",
       "      <th>abv</th>\n",
       "      <th>beer</th>\n",
       "      <th>brewery</th>\n",
       "      <th>ibu</th>\n",
       "      <th>id</th>\n",
       "      <th>location</th>\n",
       "      <th>size</th>\n",
       "      <th>style</th>\n",
       "    </tr>\n",
       "  </thead>\n",
       "  <tbody>\n",
       "    <tr>\n",
       "      <th>0</th>\n",
       "      <td>ABV</td>\n",
       "      <td>BEER</td>\n",
       "      <td>BREWERY</td>\n",
       "      <td>IBUs</td>\n",
       "      <td>ENTRY</td>\n",
       "      <td>LOCATION</td>\n",
       "      <td>SIZE</td>\n",
       "      <td>STYLE</td>\n",
       "    </tr>\n",
       "    <tr>\n",
       "      <th>1</th>\n",
       "      <td>4.5%</td>\n",
       "      <td>Get Together</td>\n",
       "      <td>NorthGate Brewing</td>\n",
       "      <td>50</td>\n",
       "      <td>2692.</td>\n",
       "      <td>Minneapolis,MN</td>\n",
       "      <td>16 oz.</td>\n",
       "      <td>American IPA</td>\n",
       "    </tr>\n",
       "    <tr>\n",
       "      <th>2</th>\n",
       "      <td>4.9%</td>\n",
       "      <td>Maggie's Leap</td>\n",
       "      <td>NorthGate Brewing</td>\n",
       "      <td>26</td>\n",
       "      <td>2691.</td>\n",
       "      <td>Minneapolis,MN</td>\n",
       "      <td>16 oz.</td>\n",
       "      <td>Milk / Sweet Stout</td>\n",
       "    </tr>\n",
       "    <tr>\n",
       "      <th>3</th>\n",
       "      <td>4.8%</td>\n",
       "      <td>Wall's End</td>\n",
       "      <td>NorthGate Brewing</td>\n",
       "      <td>19</td>\n",
       "      <td>2690.</td>\n",
       "      <td>Minneapolis,MN</td>\n",
       "      <td>16 oz.</td>\n",
       "      <td>English Brown Ale</td>\n",
       "    </tr>\n",
       "    <tr>\n",
       "      <th>4</th>\n",
       "      <td>6.0%</td>\n",
       "      <td>Pumpion</td>\n",
       "      <td>NorthGate Brewing</td>\n",
       "      <td>38</td>\n",
       "      <td>2689.</td>\n",
       "      <td>Minneapolis,MN</td>\n",
       "      <td>16 oz.</td>\n",
       "      <td>Pumpkin Ale</td>\n",
       "    </tr>\n",
       "  </tbody>\n",
       "</table>\n",
       "</div>"
      ],
      "text/plain": [
       "    abv           beer            brewery   ibu     id        location  \\\n",
       "0   ABV           BEER            BREWERY  IBUs  ENTRY        LOCATION   \n",
       "1  4.5%   Get Together  NorthGate Brewing    50  2692.  Minneapolis,MN   \n",
       "2  4.9%  Maggie's Leap  NorthGate Brewing    26  2691.  Minneapolis,MN   \n",
       "3  4.8%     Wall's End  NorthGate Brewing    19  2690.  Minneapolis,MN   \n",
       "4  6.0%        Pumpion  NorthGate Brewing    38  2689.  Minneapolis,MN   \n",
       "\n",
       "     size               style  \n",
       "0    SIZE               STYLE  \n",
       "1  16 oz.        American IPA  \n",
       "2  16 oz.  Milk / Sweet Stout  \n",
       "3  16 oz.   English Brown Ale  \n",
       "4  16 oz.         Pumpkin Ale  "
      ]
     },
     "execution_count": 9,
     "metadata": {},
     "output_type": "execute_result"
    }
   ],
   "source": [
    "data.head()"
   ]
  },
  {
   "cell_type": "markdown",
   "metadata": {},
   "source": [
    "Let's this time save the resulted data to a JSON file."
   ]
  },
  {
   "cell_type": "code",
   "execution_count": 10,
   "metadata": {
    "collapsed": true
   },
   "outputs": [],
   "source": [
    "import json\n",
    "with open(\"craftcans.json\",\"w\") as f:\n",
    "    json.dump(data_list,f,sort_keys = True, indent = 4)"
   ]
  }
 ],
 "metadata": {
  "anaconda-cloud": {},
  "kernelspec": {
   "display_name": "Python [default]",
   "language": "python",
   "name": "python2"
  },
  "language_info": {
   "codemirror_mode": {
    "name": "ipython",
    "version": 2
   },
   "file_extension": ".py",
   "mimetype": "text/x-python",
   "name": "python",
   "nbconvert_exporter": "python",
   "pygments_lexer": "ipython2",
   "version": "2.7.12"
  }
 },
 "nbformat": 4,
 "nbformat_minor": 2
}
