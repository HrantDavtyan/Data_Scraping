{
 "cells": [
  {
   "cell_type": "markdown",
   "metadata": {},
   "source": [
    "# Homework 2 (solutions)"
   ]
  },
  {
   "cell_type": "markdown",
   "metadata": {},
   "source": [
    "### Problem 1\n",
    "\n",
    "Construct a function, which will ask the user to input several numbers separated by commas\n",
    "and will calculate their average. (e.g. if the user inputs 3,5,7 the function must result in 5)."
   ]
  },
  {
   "cell_type": "code",
   "execution_count": 1,
   "metadata": {
    "collapsed": false
   },
   "outputs": [
    {
     "name": "stdout",
     "output_type": "stream",
     "text": [
      "Please, input some numbers seprated by a comma: 10, 12.5, 15, 17.5, 20, 22.5, 25\n",
      "17.5\n"
     ]
    }
   ],
   "source": [
    "inputted_numbers = input(\"Please, input some numbers seprated by a comma: \")\n",
    "def simple_mean(inputted_numbers):\n",
    "    return float( sum(inputted_numbers) ) / float( len(inputted_numbers) )\n",
    "print simple_mean(inputted_numbers)"
   ]
  },
  {
   "cell_type": "markdown",
   "metadata": {},
   "source": [
    "### Problem 2\n",
    "\n",
    "Upgrade the function above to also ask the user the number of occurrences to calculate the average for. (e.g. if the user inputs 1,3,5,7,9 and as the second argument to function inputs 2, the function must result in (7+9)/2 = 8. If the user inputs the same numbers as a first argument, but inputs 3 as the 2nd, then the function must result in (5+7+9)/3=7)"
   ]
  },
  {
   "cell_type": "code",
   "execution_count": 4,
   "metadata": {
    "collapsed": false
   },
   "outputs": [
    {
     "name": "stdout",
     "output_type": "stream",
     "text": [
      "Please, input some numbers seprated by a comma: 10, 12.5, 15, 17.5, 20, 22.5, 25\n",
      "Please, input the number of occurancies to calculate the mean for: 5\n",
      "20.0\n"
     ]
    }
   ],
   "source": [
    "inputted_numbers = input(\"Please, input some numbers seprated by a comma: \")\n",
    "occurancy = input(\"Please, input the number of occurancies to calculate the mean for: \")\n",
    "def rolling_mean(inputted_numbers,occurancy):\n",
    "    return float( sum(inputted_numbers[-occurancy:]) ) / float( len(inputted_numbers[-occurancy:]) )\n",
    "print rolling_mean(inputted_numbers, occurancy)"
   ]
  },
  {
   "cell_type": "markdown",
   "metadata": {},
   "source": [
    "### Problem 3\n",
    "\n",
    "Construct a function, which will generate a random number between 1 and 100 (both included). If this number is between 50 and 100 (not included) the function returns \"Win\", if it is between 1 and 50 (both included) the function returns \"Loss\" and if it is exactly 100 then the function returns \"Draw\". (Hint: to generate a random number, one should first import a package\n",
    "called random (i.e. import random) and then use the function randint from there (e.g. random.randint(x,y), where x=1 and y=100 in our case)"
   ]
  },
  {
   "cell_type": "code",
   "execution_count": 5,
   "metadata": {
    "collapsed": false
   },
   "outputs": [
    {
     "name": "stdout",
     "output_type": "stream",
     "text": [
      "70\n",
      "Win\n"
     ]
    }
   ],
   "source": [
    "import random\n",
    "number=random.randint(1,100)\n",
    "def generator(number):\n",
    "    if 100 > number > 50:\n",
    "        return \"Win\"\n",
    "    elif 50 >= number >= 1:\n",
    "        return \"Loss\"\n",
    "    else:\n",
    "        return \"Draw\"\n",
    "print(number)\n",
    "print generator(number)"
   ]
  },
  {
   "cell_type": "markdown",
   "metadata": {},
   "source": [
    "### Problem 4\n",
    "\n",
    "Create a list of 3 stocks (choose whatever stocks you want, e.g. [\"IBM\",\"AAPL\",\"MSFT\"]). Create a for loop that will iterate over the list, get the data of relevant stock and print the first 7 rows of the data."
   ]
  },
  {
   "cell_type": "code",
   "execution_count": 6,
   "metadata": {
    "collapsed": false
   },
   "outputs": [
    {
     "name": "stdout",
     "output_type": "stream",
     "text": [
      "              Open    High     Low   Close   Volume\n",
      "Date                                               \n",
      "2010-01-04  131.18  132.97  130.85  132.45  6155846\n",
      "2010-01-05  131.68  131.85  130.10  130.85  6842471\n",
      "2010-01-06  130.68  131.49  129.81  130.00  5605290\n",
      "2010-01-07  129.87  130.25  128.91  129.55  5840569\n",
      "2010-01-08  129.07  130.92  129.05  130.85  4197105\n",
      "2010-01-11  131.06  131.06  128.67  129.48  5731177\n",
      "2010-01-12  129.03  131.33  129.00  130.51  8083354\n",
      "             Open   High    Low  Close     Volume\n",
      "Date                                             \n",
      "2010-01-04  30.49  30.64  30.34  30.57  123432050\n",
      "2010-01-05  30.66  30.80  30.46  30.63  150476004\n",
      "2010-01-06  30.63  30.75  30.11  30.14  138039594\n",
      "2010-01-07  30.25  30.29  29.86  30.08  119282324\n",
      "2010-01-08  30.04  30.29  29.87  30.28  111969081\n",
      "2010-01-11  30.40  30.43  29.78  30.02  115557365\n",
      "2010-01-12  29.88  29.97  29.49  29.67  148614774\n",
      "             Open   High    Low  Close    Volume\n",
      "Date                                            \n",
      "2010-01-04  30.62  31.10  30.59  30.95  38414185\n",
      "2010-01-05  30.85  31.10  30.64  30.96  49758862\n",
      "2010-01-06  30.88  31.08  30.52  30.77  58182332\n",
      "2010-01-07  30.63  30.70  30.19  30.45  50564285\n",
      "2010-01-08  30.28  30.88  30.24  30.66  51201289\n",
      "2010-01-11  30.71  30.76  30.12  30.27  68754648\n",
      "2010-01-12  30.15  30.40  29.91  30.07  65913228\n"
     ]
    }
   ],
   "source": [
    "import pandas_datareader.data as web\n",
    "stock_list = [\"IBM\",\"AAPL\",\"MSFT\"]\n",
    "for stock in stock_list:\n",
    "    data = web.DataReader(stock,\"google\")\n",
    "    print( data.head(7) )"
   ]
  },
  {
   "cell_type": "markdown",
   "metadata": {},
   "source": [
    "### Problem 5\n",
    "\n",
    "Upgrade the for loop above. Now, instead of printing the data, the for loop should iterate over the list, get the data and plot it."
   ]
  },
  {
   "cell_type": "code",
   "execution_count": 8,
   "metadata": {
    "collapsed": false
   },
   "outputs": [
    {
     "data": {
      "image/png": "[encoded data removed]",
      "text/plain": [
       "<matplotlib.figure.Figure at 0x42280b8>"
      ]
     },
     "metadata": {},
     "output_type": "display_data"
    }
   ],
   "source": [
    "import pandas_datareader.data as web\n",
    "import matplotlib.pyplot as plt\n",
    "stock_list = [\"IBM\",\"AAPL\",\"MSFT\"]\n",
    "for stock in stock_list:\n",
    "    data = web.DataReader(stock,\"google\")\n",
    "    plt.plot(data[\"Open\"])\n",
    "plt.show()"
   ]
  }
 ],
 "metadata": {
  "anaconda-cloud": {},
  "kernelspec": {
   "display_name": "Python [default]",
   "language": "python",
   "name": "python2"
  },
  "language_info": {
   "codemirror_mode": {
    "name": "ipython",
    "version": 2
   },
   "file_extension": ".py",
   "mimetype": "text/x-python",
   "name": "python",
   "nbconvert_exporter": "python",
   "pygments_lexer": "ipython2",
   "version": "2.7.12"
  }
 },
 "nbformat": 4,
 "nbformat_minor": 2
}
