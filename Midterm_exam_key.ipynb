{
 "cells": [
  {
   "cell_type": "markdown",
   "metadata": {},
   "source": [
    "# Midterm exam 1 - solution key\n",
    "\n",
    "1. 40 (solved in the bottom)\n",
    "2. 5 (solved in the bottom)\n",
    "3. 2 (solved in the bottom)"
   ]
  },
  {
   "cell_type": "code",
   "execution_count": 1,
   "metadata": {},
   "outputs": [],
   "source": [
    "import pandas as pd\n",
    "from itertools import chain #for unlisting nested lists\n",
    "\n",
    "#scraping\n",
    "import time\n",
    "import requests\n",
    "from pprint import pprint\n",
    "from bs4 import BeautifulSoup\n",
    "\n",
    "#nltk\n",
    "import nltk\n",
    "from nltk.corpus import stopwords, wordnet\n",
    "from nltk.tokenize import sent_tokenize, word_tokenize\n",
    "from nltk.stem import PorterStemmer, WordNetLemmatizer\n",
    "#nltk.download('popular', halt_on_error=False)\n",
    "\n",
    "#textblob\n",
    "from textblob import TextBlob, Word"
   ]
  },
  {
   "cell_type": "code",
   "execution_count": 2,
   "metadata": {},
   "outputs": [],
   "source": [
    "def my_scraper(url):\n",
    "    response = requests.get(url)\n",
    "    page = response.content\n",
    "    page = BeautifulSoup(page,\"html.parser\")\n",
    "    \n",
    "    titles = page.find_all(\"div\",class_=\"job-inner job-item-title\")\n",
    "    job = [i.find(\"h4\").get_text() for i in titles]\n",
    "    org = [i.find(\"p\").get_text() for i in titles]\n",
    "\n",
    "    return job,org"
   ]
  },
  {
   "cell_type": "code",
   "execution_count": 3,
   "metadata": {},
   "outputs": [],
   "source": [
    "url_base = \"https://staff.am/en/jobs?page=\"\n",
    "all_jobs = []\n",
    "all_orgs = []\n",
    "\n",
    "for i in range(1,11):\n",
    "    url = url_base + str(i)\n",
    "    job,org= my_scraper(url)\n",
    "    all_jobs.append(job)\n",
    "    all_orgs.append(org)\n",
    "\n",
    "    time.sleep(3)"
   ]
  },
  {
   "cell_type": "code",
   "execution_count": 4,
   "metadata": {},
   "outputs": [],
   "source": [
    "job_list = list(chain.from_iterable(all_jobs))\n",
    "org_list = list(chain.from_iterable(all_orgs))\n",
    "\n",
    "for i,j in enumerate(org_list):\n",
    "    last_el = j.split(\" \")[-1]\n",
    "    if len(last_el)<=4:\n",
    "        org_list[i] = org_list[i].replace(last_el,\"\")\n",
    "\n",
    "job_string = \" \".join(job_list)\n",
    "job_string = job_string.lower()\n",
    "\n",
    "job_string = job_string.replace(\"senior\",\"\")\n",
    "job_blob = TextBlob(job_string)"
   ]
  },
  {
   "cell_type": "code",
   "execution_count": 5,
   "metadata": {},
   "outputs": [
    {
     "data": {
      "text/plain": [
       "<matplotlib.figure.Figure at 0x15917fcb908>"
      ]
     },
     "metadata": {},
     "output_type": "display_data"
    }
   ],
   "source": [
    "freq = nltk.FreqDist(job_blob.words)\n",
    "freq.plot(5, cumulative=False)"
   ]
  },
  {
   "cell_type": "code",
   "execution_count": 6,
   "metadata": {},
   "outputs": [
    {
     "data": {
      "image/png": "[encoded data removed]",
      "text/plain": [
       "<matplotlib.figure.Figure at 0x159172ee438>"
      ]
     },
     "metadata": {},
     "output_type": "display_data"
    }
   ],
   "source": [
    "freq = nltk.FreqDist(org_list)\n",
    "freq.plot(5, cumulative=False)"
   ]
  },
  {
   "cell_type": "code",
   "execution_count": 7,
   "metadata": {},
   "outputs": [
    {
     "name": "stdout",
     "output_type": "stream",
     "text": [
      "MC 1\n",
      "40\n",
      "MC 2\n",
      "5\n",
      "MC 2\n",
      "2\n"
     ]
    }
   ],
   "source": [
    "print(\"MC 1\")\n",
    "print(len(all_jobs[0]))\n",
    "\n",
    "print(\"MC 2\")\n",
    "print(list(chain.from_iterable(all_orgs[:3])).count(\"Webb Fontaine Holding LLC\"))\n",
    "\n",
    "print(\"MC 2\")\n",
    "jobs_df = list(chain.from_iterable(all_jobs))\n",
    "orgs_df = list(chain.from_iterable(all_orgs))\n",
    "df = pd.DataFrame(jobs_df,orgs_df)\n",
    "print(\" \".join(list(df[df.index==\"Webb Fontaine Holding LLC\"][0])).count(\"Developer\"))"
   ]
  }
 ],
 "metadata": {
  "kernelspec": {
   "display_name": "Python 3",
   "language": "python",
   "name": "python3"
  },
  "language_info": {
   "codemirror_mode": {
    "name": "ipython",
    "version": 3
   },
   "file_extension": ".py",
   "mimetype": "text/x-python",
   "name": "python",
   "nbconvert_exporter": "python",
   "pygments_lexer": "ipython3",
   "version": "3.6.4"
  }
 },
 "nbformat": 4,
 "nbformat_minor": 2
}
