{
  "cells": [
    {
      "cell_type": "markdown",
      "source": [
        "# Midterm exam - Python component"
      ],
      "metadata": {}
    },
    {
      "cell_type": "markdown",
      "source": [
        "# Problem 1\n",
        "\n",
        "Use Quandl with your API key to get **annual** data on US GDP (Quandl code: FRED/GDP, Collapse: annual).\n",
        " - What was the percentage change of GDP on 1997?\n",
        " - Plot the distribution of percentage changes in GDP."
      ],
      "metadata": {}
    },
    {
      "cell_type": "markdown",
      "source": [
        "# Problem 2\n",
        "\n",
        "```names = [\"Patrick\",\"Xavier\",\"Abigayle\"]```\n",
        "\n",
        "- Print the first character in each name from the **names** list above using **for** loop.\n",
        "- Complete the task using while loop as well."
      ],
      "metadata": {}
    },
    {
      "cell_type": "markdown",
      "source": [
        "# Problem 3\n",
        "\nDefine a function that will take a list of 5 numbers as input and calculate average of the last 3."
      ],
      "metadata": {}
    },
    {
      "cell_type": "markdown",
      "source": [
        "# Problem 4\n",
        "\nDownload the **Superstore.xlsx** file from Moodle and read it using pandas. Calculate the percentage of orders that have **First Class** shipping mode."
      ],
      "metadata": {}
    },
    {
      "cell_type": "markdown",
      "source": [
        "# Problem 5\n",
        "\nUse the same dataset from Problem 4. Create a new column **Segment_codes** in the dataframe that will have value 1, if the customer is **Individual** and 0 otherwise (**Corporate**)."
      ],
      "metadata": {}
    }
  ],
  "metadata": {
    "kernelspec": {
      "name": "python3",
      "language": "python",
      "display_name": "Python 3"
    },
    "language_info": {
      "name": "python",
      "version": "3.6.3",
      "mimetype": "text/x-python",
      "codemirror_mode": {
        "name": "ipython",
        "version": 3
      },
      "pygments_lexer": "ipython3",
      "nbconvert_exporter": "python",
      "file_extension": ".py"
    },
    "kernel_info": {
      "name": "python3"
    }
  },
  "nbformat": 4,
  "nbformat_minor": 2
}