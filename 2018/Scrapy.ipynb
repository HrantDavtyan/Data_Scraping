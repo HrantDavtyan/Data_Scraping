{
  "cells": [
    {
      "cell_type": "markdown",
      "source": [
        "# Intro to Scrapy\n",
        "\n",
        "Scrapy is a Python framework for data scraping, which, to say in short, is the combination of almost everything we learnt until now: requests, css selectors (BeautifulSoup), xpath (lxml), regex (re) and even checking robots.txt or putting hte scraper to sleep.\n",
        "\n",
        "Generally, as Scrapy is a framework, one does not code inside Jupyter Notebook. To mimic Scrapy behavior inside the Notebook, we will have to make some additional imports which would not be required otherwise.\n",
        "\n",
        "Key points:\n",
        "- response - the object that contains page source as a Scrapy element to be scraped,\n",
        "- response.css() - css approach to scraping (BeautifulSoup),\n",
        "- response.xpath() - xpath approach to scraping (Lxml),\n",
        "- extract() - extract all elements satisfying some condition (provides list),\n",
        "- extract_first() - extract first element satisfying some condition (provides element).\n",
        "- response.css(\"a::text\").extract_first() - will provide the text of the first link matched (CSS),\n",
        "- response.xpath(\"//a/text()\").extract_first() - will provide the text of the first link matched (Xpath),\n",
        "- response.css('a::attr(href)').extract_first() - will provide the href attribute (URL) of the first link matched (CSS),\n",
        "- response.xpath(\"//a/@href\").extract_first() - will provide the href attribute (URL) of the first link matched (Xpath)."
      ],
      "metadata": {}
    },
    {
      "cell_type": "code",
      "source": [
        "import requests\n",
        "from scrapy.http import TextResponse"
      ],
      "outputs": [],
      "execution_count": 1,
      "metadata": {}
    },
    {
      "cell_type": "code",
      "source": [
        "url = \"http://quotes.toscrape.com/\"\n",
        "r = requests.get(url)\n",
        "response = TextResponse(r.url,body=r.text,encoding=\"utf-8\")"
      ],
      "outputs": [],
      "execution_count": 2,
      "metadata": {}
    },
    {
      "cell_type": "code",
      "source": [
        "response"
      ],
      "outputs": [
        {
          "output_type": "execute_result",
          "execution_count": 3,
          "data": {
            "text/plain": [
              "<200 http://quotes.toscrape.com/>"
            ]
          },
          "metadata": {}
        }
      ],
      "execution_count": 3,
      "metadata": {}
    },
    {
      "cell_type": "code",
      "source": [
        "#get heading-css\n",
        "response.css(\"a\").extract_first()"
      ],
      "outputs": [
        {
          "output_type": "execute_result",
          "execution_count": 10,
          "data": {
            "text/plain": [
              "'<a href=\"/\" style=\"text-decoration: none\">Quotes to Scrape</a>'"
            ]
          },
          "metadata": {}
        }
      ],
      "execution_count": 10,
      "metadata": {}
    },
    {
      "cell_type": "code",
      "source": [
        "#get heading-xpath\n",
        "response.xpath(\"//a\").extract_first()"
      ],
      "outputs": [
        {
          "output_type": "execute_result",
          "execution_count": 13,
          "data": {
            "text/plain": [
              "'<a href=\"/\" style=\"text-decoration: none\">Quotes to Scrape</a>'"
            ]
          },
          "metadata": {}
        }
      ],
      "execution_count": 13,
      "metadata": {}
    },
    {
      "cell_type": "code",
      "source": [
        "#get authors-css\n",
        "response.css(\"small::text\").extract()"
      ],
      "outputs": [
        {
          "output_type": "execute_result",
          "execution_count": 16,
          "data": {
            "text/plain": [
              "['Albert Einstein',\n",
              " 'J.K. Rowling',\n",
              " 'Albert Einstein',\n",
              " 'Jane Austen',\n",
              " 'Marilyn Monroe',\n",
              " 'Albert Einstein',\n",
              " 'André Gide',\n",
              " 'Thomas A. Edison',\n",
              " 'Eleanor Roosevelt',\n",
              " 'Steve Martin']"
            ]
          },
          "metadata": {}
        }
      ],
      "execution_count": 16,
      "metadata": {}
    },
    {
      "cell_type": "code",
      "source": [
        "#authors-xpath\n",
        "response.xpath(\"//small/text()\").extract()"
      ],
      "outputs": [
        {
          "output_type": "execute_result",
          "execution_count": 17,
          "data": {
            "text/plain": [
              "['Albert Einstein',\n",
              " 'J.K. Rowling',\n",
              " 'Albert Einstein',\n",
              " 'Jane Austen',\n",
              " 'Marilyn Monroe',\n",
              " 'Albert Einstein',\n",
              " 'André Gide',\n",
              " 'Thomas A. Edison',\n",
              " 'Eleanor Roosevelt',\n",
              " 'Steve Martin']"
            ]
          },
          "metadata": {}
        }
      ],
      "execution_count": 17,
      "metadata": {}
    },
    {
      "cell_type": "code",
      "source": [
        "#heading-css\n",
        "response.css('a[style=\"text-decoration: none\"]').extract()"
      ],
      "outputs": [
        {
          "output_type": "execute_result",
          "execution_count": 19,
          "data": {
            "text/plain": [
              "['<a href=\"/\" style=\"text-decoration: none\">Quotes to Scrape</a>']"
            ]
          },
          "metadata": {}
        }
      ],
      "execution_count": 19,
      "metadata": {}
    },
    {
      "cell_type": "code",
      "source": [
        "#heading-css text only\n",
        "response.css('a[style=\"text-decoration: none\"]::text').extract()"
      ],
      "outputs": [
        {
          "output_type": "execute_result",
          "execution_count": 20,
          "data": {
            "text/plain": [
              "['Quotes to Scrape']"
            ]
          },
          "metadata": {}
        }
      ],
      "execution_count": 20,
      "metadata": {}
    },
    {
      "cell_type": "code",
      "source": [
        "#heading-css href only\n",
        "response.css('a[style=\"text-decoration: none\"]::attr(href)').extract()"
      ],
      "outputs": [
        {
          "output_type": "execute_result",
          "execution_count": 21,
          "data": {
            "text/plain": [
              "['/']"
            ]
          },
          "metadata": {}
        }
      ],
      "execution_count": 21,
      "metadata": {}
    },
    {
      "cell_type": "code",
      "source": [
        "#tag text css\n",
        "response.css(\"a[class='tag']::text\").extract()"
      ],
      "outputs": [
        {
          "output_type": "execute_result",
          "execution_count": 23,
          "data": {
            "text/plain": [
              "['change',\n",
              " 'deep-thoughts',\n",
              " 'thinking',\n",
              " 'world',\n",
              " 'abilities',\n",
              " 'choices',\n",
              " 'inspirational',\n",
              " 'life',\n",
              " 'live',\n",
              " 'miracle',\n",
              " 'miracles',\n",
              " 'aliteracy',\n",
              " 'books',\n",
              " 'classic',\n",
              " 'humor',\n",
              " 'be-yourself',\n",
              " 'inspirational',\n",
              " 'adulthood',\n",
              " 'success',\n",
              " 'value',\n",
              " 'life',\n",
              " 'love',\n",
              " 'edison',\n",
              " 'failure',\n",
              " 'inspirational',\n",
              " 'paraphrased',\n",
              " 'misattributed-eleanor-roosevelt',\n",
              " 'humor',\n",
              " 'obvious',\n",
              " 'simile',\n",
              " 'love',\n",
              " 'inspirational',\n",
              " 'life',\n",
              " 'humor',\n",
              " 'books',\n",
              " 'reading',\n",
              " 'friendship',\n",
              " 'friends',\n",
              " 'truth',\n",
              " 'simile']"
            ]
          },
          "metadata": {}
        }
      ],
      "execution_count": 23,
      "metadata": {
        "collapsed": true
      }
    },
    {
      "cell_type": "code",
      "source": [
        "#tag url css\n",
        "response.css(\"a[class='tag']::attr(href)\").extract()"
      ],
      "outputs": [
        {
          "output_type": "execute_result",
          "execution_count": 24,
          "data": {
            "text/plain": [
              "['/tag/change/page/1/',\n",
              " '/tag/deep-thoughts/page/1/',\n",
              " '/tag/thinking/page/1/',\n",
              " '/tag/world/page/1/',\n",
              " '/tag/abilities/page/1/',\n",
              " '/tag/choices/page/1/',\n",
              " '/tag/inspirational/page/1/',\n",
              " '/tag/life/page/1/',\n",
              " '/tag/live/page/1/',\n",
              " '/tag/miracle/page/1/',\n",
              " '/tag/miracles/page/1/',\n",
              " '/tag/aliteracy/page/1/',\n",
              " '/tag/books/page/1/',\n",
              " '/tag/classic/page/1/',\n",
              " '/tag/humor/page/1/',\n",
              " '/tag/be-yourself/page/1/',\n",
              " '/tag/inspirational/page/1/',\n",
              " '/tag/adulthood/page/1/',\n",
              " '/tag/success/page/1/',\n",
              " '/tag/value/page/1/',\n",
              " '/tag/life/page/1/',\n",
              " '/tag/love/page/1/',\n",
              " '/tag/edison/page/1/',\n",
              " '/tag/failure/page/1/',\n",
              " '/tag/inspirational/page/1/',\n",
              " '/tag/paraphrased/page/1/',\n",
              " '/tag/misattributed-eleanor-roosevelt/page/1/',\n",
              " '/tag/humor/page/1/',\n",
              " '/tag/obvious/page/1/',\n",
              " '/tag/simile/page/1/',\n",
              " '/tag/love/',\n",
              " '/tag/inspirational/',\n",
              " '/tag/life/',\n",
              " '/tag/humor/',\n",
              " '/tag/books/',\n",
              " '/tag/reading/',\n",
              " '/tag/friendship/',\n",
              " '/tag/friends/',\n",
              " '/tag/truth/',\n",
              " '/tag/simile/']"
            ]
          },
          "metadata": {}
        }
      ],
      "execution_count": 24,
      "metadata": {
        "collapsed": true
      }
    },
    {
      "cell_type": "code",
      "source": [
        "#tag text xpath\n",
        "response.xpath(\"//a[@class='tag']/text()\").extract()"
      ],
      "outputs": [
        {
          "output_type": "execute_result",
          "execution_count": 28,
          "data": {
            "text/plain": [
              "['change',\n",
              " 'deep-thoughts',\n",
              " 'thinking',\n",
              " 'world',\n",
              " 'abilities',\n",
              " 'choices',\n",
              " 'inspirational',\n",
              " 'life',\n",
              " 'live',\n",
              " 'miracle',\n",
              " 'miracles',\n",
              " 'aliteracy',\n",
              " 'books',\n",
              " 'classic',\n",
              " 'humor',\n",
              " 'be-yourself',\n",
              " 'inspirational',\n",
              " 'adulthood',\n",
              " 'success',\n",
              " 'value',\n",
              " 'life',\n",
              " 'love',\n",
              " 'edison',\n",
              " 'failure',\n",
              " 'inspirational',\n",
              " 'paraphrased',\n",
              " 'misattributed-eleanor-roosevelt',\n",
              " 'humor',\n",
              " 'obvious',\n",
              " 'simile',\n",
              " 'love',\n",
              " 'inspirational',\n",
              " 'life',\n",
              " 'humor',\n",
              " 'books',\n",
              " 'reading',\n",
              " 'friendship',\n",
              " 'friends',\n",
              " 'truth',\n",
              " 'simile']"
            ]
          },
          "metadata": {}
        }
      ],
      "execution_count": 28,
      "metadata": {
        "collapsed": true
      }
    },
    {
      "cell_type": "code",
      "source": [
        "#tag url xpath\n",
        "response.xpath(\"//a[@class='tag']/@href\").extract()"
      ],
      "outputs": [
        {
          "output_type": "execute_result",
          "execution_count": 30,
          "data": {
            "text/plain": [
              "['/tag/change/page/1/',\n",
              " '/tag/deep-thoughts/page/1/',\n",
              " '/tag/thinking/page/1/',\n",
              " '/tag/world/page/1/',\n",
              " '/tag/abilities/page/1/',\n",
              " '/tag/choices/page/1/',\n",
              " '/tag/inspirational/page/1/',\n",
              " '/tag/life/page/1/',\n",
              " '/tag/live/page/1/',\n",
              " '/tag/miracle/page/1/',\n",
              " '/tag/miracles/page/1/',\n",
              " '/tag/aliteracy/page/1/',\n",
              " '/tag/books/page/1/',\n",
              " '/tag/classic/page/1/',\n",
              " '/tag/humor/page/1/',\n",
              " '/tag/be-yourself/page/1/',\n",
              " '/tag/inspirational/page/1/',\n",
              " '/tag/adulthood/page/1/',\n",
              " '/tag/success/page/1/',\n",
              " '/tag/value/page/1/',\n",
              " '/tag/life/page/1/',\n",
              " '/tag/love/page/1/',\n",
              " '/tag/edison/page/1/',\n",
              " '/tag/failure/page/1/',\n",
              " '/tag/inspirational/page/1/',\n",
              " '/tag/paraphrased/page/1/',\n",
              " '/tag/misattributed-eleanor-roosevelt/page/1/',\n",
              " '/tag/humor/page/1/',\n",
              " '/tag/obvious/page/1/',\n",
              " '/tag/simile/page/1/',\n",
              " '/tag/love/',\n",
              " '/tag/inspirational/',\n",
              " '/tag/life/',\n",
              " '/tag/humor/',\n",
              " '/tag/books/',\n",
              " '/tag/reading/',\n",
              " '/tag/friendship/',\n",
              " '/tag/friends/',\n",
              " '/tag/truth/',\n",
              " '/tag/simile/']"
            ]
          },
          "metadata": {}
        }
      ],
      "execution_count": 30,
      "metadata": {}
    },
    {
      "cell_type": "code",
      "source": [
        "response.css(\"title\").extract_first()"
      ],
      "outputs": [
        {
          "output_type": "execute_result",
          "execution_count": 7,
          "data": {
            "text/plain": [
              "'<title>Quotes to Scrape</title>'"
            ]
          },
          "metadata": {}
        }
      ],
      "execution_count": 7,
      "metadata": {}
    },
    {
      "cell_type": "code",
      "source": [
        "response.css(\"title\").re(\"title\")"
      ],
      "outputs": [
        {
          "output_type": "execute_result",
          "execution_count": 9,
          "data": {
            "text/plain": [
              "['title', 'title']"
            ]
          },
          "metadata": {}
        }
      ],
      "execution_count": 9,
      "metadata": {}
    },
    {
      "cell_type": "code",
      "source": [
        "#regex to get text between tags\n",
        "response.css(\"title\").re('.+>(.+)<.+')"
      ],
      "outputs": [
        {
          "output_type": "execute_result",
          "execution_count": 17,
          "data": {
            "text/plain": [
              "['Quotes to Scrape']"
            ]
          },
          "metadata": {}
        }
      ],
      "execution_count": 17,
      "metadata": {}
    },
    {
      "cell_type": "code",
      "source": [],
      "outputs": [],
      "execution_count": null,
      "metadata": {}
    }
  ],
  "metadata": {
    "kernelspec": {
      "display_name": "Python 3",
      "language": "python",
      "name": "python3"
    },
    "language_info": {
      "codemirror_mode": {
        "name": "ipython",
        "version": 3
      },
      "file_extension": ".py",
      "mimetype": "text/x-python",
      "name": "python",
      "nbconvert_exporter": "python",
      "pygments_lexer": "ipython3",
      "version": "3.6.4"
    },
    "nteract": {
      "version": "0.10.0"
    }
  },
  "nbformat": 4,
  "nbformat_minor": 2
}