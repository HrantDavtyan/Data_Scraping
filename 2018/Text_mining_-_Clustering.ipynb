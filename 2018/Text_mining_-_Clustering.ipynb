{
 "cells": [
  {
   "cell_type": "markdown",
   "metadata": {},
   "source": [
    "# Text mining - Clustering\n",
    "\n",
    "Machine Learning types:\n",
    "- Supervised learing (labeled data),\n",
    "- Unsupervised learning (not labeled data),\n",
    "- Semi-supervised learning (somewhere in the middle).\n",
    "\n",
    "In this notebook we:\n",
    "- Scrape all quotes (save both all and only the first page),\n",
    "- Vectorize quotes using TF-IDF vectorizer,\n",
    "    - TF: Term frequency = how frequently a term appears in the target observation (quote),\n",
    "    - IDF: Inverce document frequency = is that word unique to that selected observation (quote or not).\n",
    "- Use vectorized words to cluster all the quotes using:\n",
    "    - k-means clustering: unsupervised learning methods, that calculates distance between vectors and determines quotes that are \"close\" to each other based on some similarity metric (i.e. Euclidian distance). Number of clusters predetermined.\n",
    "    - hiearchical (agglomerative) clustering: starts with single word clusters (bottom up approach) and merges simjilar words until forms a single cluster for the total input. The biggest hierarchical distance determines number of clusters.\n",
    "- Use quotes to tokenize them (just splitting by space for simplicity) and calculating word vectors to receive similar words (uses Neural Networks, is considered semi-supervised approach)."
   ]
  },
  {
   "cell_type": "code",
   "execution_count": 9,
   "metadata": {},
   "outputs": [],
   "source": [
    "import time\n",
    "import requests\n",
    "import numpy as np\n",
    "import pandas as pd\n",
    "from itertools import chain\n",
    "from bs4 import BeautifulSoup\n",
    "import matplotlib.pyplot as plt\n",
    "\n",
    "from textblob import TextBlob\n",
    "from gensim.models import word2vec\n",
    "from scipy.cluster.hierarchy import ward, dendrogram\n",
    "\n",
    "from sklearn.metrics.pairwise import cosine_similarity\n",
    "from sklearn.feature_extraction.text import TfidfVectorizer\n",
    "from sklearn.cluster import KMeans, AgglomerativeClustering"
   ]
  },
  {
   "cell_type": "markdown",
   "metadata": {},
   "source": [
    "### Scraping"
   ]
  },
  {
   "cell_type": "code",
   "execution_count": 2,
   "metadata": {},
   "outputs": [],
   "source": [
    "def get_quotes(url):\n",
    "    page = BeautifulSoup(requests.get(url).content, \"html.parser\")\n",
    "    quotes = [i.get_text() for i in page.find_all(\"span\",class_=\"text\")]\n",
    "    time.sleep(3)\n",
    "    return quotes\n",
    "\n",
    "quotes = get_quotes(\"http://quotes.toscrape.com/\")\n",
    "\n",
    "urls = [\"http://quotes.toscrape.com/page/\"+str(i)+\"/\" for i in range(1,11)]\n",
    "quotes_all = [get_quotes(i) for i in urls]\n",
    "quotes_all = chain.from_iterable(quotes_all)"
   ]
  },
  {
   "cell_type": "markdown",
   "metadata": {},
   "source": [
    "### TF-IDF vectorization"
   ]
  },
  {
   "cell_type": "code",
   "execution_count": 3,
   "metadata": {},
   "outputs": [
    {
     "name": "stdout",
     "output_type": "stream",
     "text": [
      "(10, 97)\n"
     ]
    }
   ],
   "source": [
    "tfidf_vectorizer = TfidfVectorizer()\n",
    "tfidf_matrix = tfidf_vectorizer.fit_transform(quotes)\n",
    "print(tfidf_matrix.shape)"
   ]
  },
  {
   "cell_type": "code",
   "execution_count": 4,
   "metadata": {
    "collapsed": true
   },
   "outputs": [],
   "source": [
    "features = tfidf_vectorizer.get_feature_names()\n",
    "data = tfidf_matrix.toarray()\n",
    "tfidf_df = pd.DataFrame(data,columns=features)"
   ]
  },
  {
   "cell_type": "markdown",
   "metadata": {},
   "source": [
    "### K-Means clustering"
   ]
  },
  {
   "cell_type": "code",
   "execution_count": 5,
   "metadata": {},
   "outputs": [
    {
     "name": "stdout",
     "output_type": "stream",
     "text": [
      "   cluster                                             quotes\n",
      "0        3  “The world as we have created it is a process ...\n",
      "1        3  “It is our choices, Harry, that show what we t...\n",
      "2        2  “There are only two ways to live your life. On...\n",
      "3        2  “The person, be it gentleman or lady, who has ...\n",
      "4        2  “Imperfection is beauty, madness is genius and...\n",
      "5        0  “Try not to become a man of success. Rather be...\n",
      "6        2  “It is better to be hated for what you are tha...\n",
      "7        4  “I have not failed. I've just found 10,000 way...\n",
      "8        1  “A woman is like a tea bag; you never know how...\n",
      "9        1  “A day without sunshine is like, you know, nig...\n"
     ]
    },
    {
     "data": {
      "text/plain": [
       "2    4\n",
       "3    2\n",
       "1    2\n",
       "4    1\n",
       "0    1\n",
       "Name: cluster, dtype: int64"
      ]
     },
     "execution_count": 5,
     "metadata": {},
     "output_type": "execute_result"
    }
   ],
   "source": [
    "k=5\n",
    "k5 = KMeans(n_clusters=k)\n",
    "k5.fit(tfidf_matrix)\n",
    "clusters = k5.labels_.tolist()\n",
    "my_dict = {'quotes': quotes, 'cluster': clusters}\n",
    "df = pd.DataFrame(my_dict)\n",
    "print(df)\n",
    "df.cluster.value_counts()"
   ]
  },
  {
   "cell_type": "markdown",
   "metadata": {},
   "source": [
    "### Important terms according to K-Means"
   ]
  },
  {
   "cell_type": "code",
   "execution_count": 6,
   "metadata": {},
   "outputs": [
    {
     "name": "stdout",
     "output_type": "stream",
     "text": [
      "Cluster:  0 become\n",
      "Cluster:  0 man\n",
      "Cluster:  0 of\n",
      "Cluster:  0 success\n",
      "Cluster:  0 value\n",
      "Cluster:  1 know\n",
      "Cluster:  1 like\n",
      "Cluster:  1 you\n",
      "Cluster:  1 is\n",
      "Cluster:  1 sunshine\n",
      "Cluster:  2 be\n",
      "Cluster:  2 is\n",
      "Cluster:  2 to\n",
      "Cluster:  2 absolutely\n",
      "Cluster:  2 are\n",
      "Cluster:  3 our\n",
      "Cluster:  3 thinking\n",
      "Cluster:  3 we\n",
      "Cluster:  3 it\n",
      "Cluster:  3 more\n",
      "Cluster:  4 000\n",
      "Cluster:  4 failed\n",
      "Cluster:  4 found\n",
      "Cluster:  4 ve\n",
      "Cluster:  4 just\n"
     ]
    }
   ],
   "source": [
    "important_terms = k5.cluster_centers_.argsort()[:, ::-1]\n",
    "key_list = list(tfidf_vectorizer.vocabulary_.keys())\n",
    "val_list = list(tfidf_vectorizer.vocabulary_.values())\n",
    "key_list[val_list.index(74)]\n",
    "\n",
    "for i in range(k):\n",
    "    for j in important_terms[i, :5]:\n",
    "        print(\"Cluster: \", i, key_list[val_list.index(j)])"
   ]
  },
  {
   "cell_type": "markdown",
   "metadata": {},
   "source": [
    "### Hierarchical (Agglomerative) clustering"
   ]
  },
  {
   "cell_type": "code",
   "execution_count": 10,
   "metadata": {},
   "outputs": [],
   "source": [
    "dist = 1 - cosine_similarity(tfidf_matrix)\n",
    "linkage_matrix = ward(dist)\n",
    "\n",
    "plt.subplots(figsize=(15, 20))\n",
    "dendrogram(linkage_matrix, orientation=\"right\", labels=quotes)\n",
    "\n",
    "plt.savefig('clusters.png')"
   ]
  },
  {
   "cell_type": "markdown",
   "metadata": {},
   "source": [
    "### Gensim - Word2Vec"
   ]
  },
  {
   "cell_type": "code",
   "execution_count": 11,
   "metadata": {
    "collapsed": true
   },
   "outputs": [],
   "source": [
    "tokenized_sentences = [sentence.split() for sentence in quotes_all]\n",
    "model = word2vec.Word2Vec(tokenized_sentences, min_count=1)"
   ]
  },
  {
   "cell_type": "code",
   "execution_count": 12,
   "metadata": {},
   "outputs": [],
   "source": [
    "w1 = \"world\"\n",
    "w2 = \"man\"\n",
    "w3 = w1"
   ]
  },
  {
   "cell_type": "code",
   "execution_count": 13,
   "metadata": {},
   "outputs": [
    {
     "name": "stdout",
     "output_type": "stream",
     "text": [
      "0.151384\n",
      "\n",
      "\n"
     ]
    },
    {
     "data": {
      "text/plain": [
       "[('changing', 0.27232587337493896),\n",
       " ('new.”', 0.25895264744758606),\n",
       " ('been.”', 0.25502169132232666),\n",
       " ('things', 0.251057505607605),\n",
       " ('die,', 0.24658332765102386),\n",
       " ('seconds', 0.2448711395263672),\n",
       " ('suit', 0.24468350410461426),\n",
       " ('“Good', 0.24021926522254944),\n",
       " ('that,', 0.2382466197013855),\n",
       " ('six', 0.23802979290485382)]"
      ]
     },
     "execution_count": 13,
     "metadata": {},
     "output_type": "execute_result"
    }
   ],
   "source": [
    "print(model.wv.similarity(w1,w2))\n",
    "print(\"\\n\")\n",
    "model.wv.most_similar(w3)"
   ]
  }
 ],
 "metadata": {
  "kernelspec": {
   "display_name": "Python 3",
   "language": "python",
   "name": "python3"
  },
  "language_info": {
   "codemirror_mode": {
    "name": "ipython",
    "version": 3
   },
   "file_extension": ".py",
   "mimetype": "text/x-python",
   "name": "python",
   "nbconvert_exporter": "python",
   "pygments_lexer": "ipython3",
   "version": "3.6.3"
  }
 },
 "nbformat": 4,
 "nbformat_minor": 2
}
