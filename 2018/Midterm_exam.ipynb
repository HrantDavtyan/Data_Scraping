{
  "cells": [
    {
      "cell_type": "markdown",
      "source": [
        "<h1 style=\"text-align:center;\"> Staff.am Crawler and analyzer</h1>\n",
        "\n",
        "Your task is to develop a crawler for Staff.am and get job titles and company names from all postings. Once done, you should calculate and plot top 5 most frequent words in job postings and comopany names (separately) top understand the most active companies on the website and the most demanded positions. You are encouraged to clean the text data if you see that the most frequent words are not impormative (i.e. if Armenia is the most frequent word in company names, probably one should remove Armenia from strings).\n",
        "\n",
        "Note: to save time, you may implement the full task for the first 3 pages only.\n",
        "\n",
        "<h1 style=\"text-align:center;\"> Multiple Choice Questions</h1>\n",
        "\n",
        "## Question 1\n",
        "What is the number of job ads found on a the first page?\n",
        "1. 40\n",
        "2. 30\n",
        "3. 20\n",
        "4. 10\n",
        "\n",
        "## Question 2\n",
        "How many job postings company *Web Fontaine* has on the first 3 pages? \n",
        "1. 5\n",
        "2. 4\n",
        "3. 1\n",
        "4. 0\n",
        "\n",
        "## Question 3\n",
        "How many job postings including **Developer** keyword *Web Fontaine* has on the first 3 pages?\n",
        "1. 4\n",
        "2. 3\n",
        "3. 2\n",
        "4. 1"
      ],
      "metadata": {}
    }
  ],
  "metadata": {
    "kernelspec": {
      "name": "python3",
      "language": "python",
      "display_name": "Python 3"
    },
    "language_info": {
      "name": "python",
      "version": "3.6.4",
      "mimetype": "text/x-python",
      "codemirror_mode": {
        "name": "ipython",
        "version": 3
      },
      "pygments_lexer": "ipython3",
      "nbconvert_exporter": "python",
      "file_extension": ".py"
    },
    "kernel_info": {
      "name": "python3"
    }
  },
  "nbformat": 4,
  "nbformat_minor": 2
}