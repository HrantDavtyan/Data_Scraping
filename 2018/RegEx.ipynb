{
  "cells": [
    {
      "cell_type": "markdown",
      "source": [
        "# Intro to RegEx\n",
        "\n",
        "RegEx is a small programming language to deal with text. It is hard to learn but sometimes can save the day with its smart search abilities. Is mainly useful for:\n",
        "- cleaning data,\n",
        "- finding selectors/attributes.\n",
        "\n",
        "This notebook introduces regex, but first provides the quotes scraper we know in a slighty changed way using:\n",
        "- select() instead of find_all,\n",
        "- find_next_sibling() instead of find_all,\n",
        "- attr instead of directly providing class,\n",
        "- returns dataframe instead of a list."
      ],
      "metadata": {}
    },
    {
      "cell_type": "code",
      "source": [
        "import numpy as np\n",
        "import pandas as pd\n",
        "import time\n",
        "\n",
        "import requests\n",
        "from bs4 import BeautifulSoup\n",
        "from pprint import pprint \n",
        "import re #regular expressions\n",
        "\n",
        "from textblob import TextBlob, Word\n",
        "import nltk\n",
        "from nltk.stem import PorterStemmer\n",
        "from nltk.corpus import stopwords, wordnet"
      ],
      "outputs": [],
      "execution_count": 1,
      "metadata": {}
    },
    {
      "cell_type": "code",
      "source": [
        "#select <=> find_all\n",
        "#select_one <=> find\n",
        "def my_scraper(url):\n",
        "    response = requests.get(url)\n",
        "    page = response.content\n",
        "    page = BeautifulSoup(page,\"html.parser\")\n",
        "    quotes = page.select(\"div.quote span.text\")\n",
        "    quotes_text = [i.get_text() for i in quotes]\n",
        "    authors = page.find_all(\"small\",attrs={\"class\":\"author\"})\n",
        "    authors_text = [i.get_text() for i in authors]\n",
        "    author_links = [i.find_next_sibling().get(\"href\") for i in authors]\n",
        "    my_output = {\"quotes\":quotes_text,\n",
        "                 \"authors\":authors_text,\n",
        "                 \"author_links\":author_links}\n",
        "    my_df = pd.DataFrame(my_output)\n",
        "    return my_df"
      ],
      "outputs": [],
      "execution_count": 49,
      "metadata": {}
    },
    {
      "cell_type": "code",
      "source": [
        "my_data = my_scraper(\"http://quotes.toscrape.com/\")"
      ],
      "outputs": [],
      "execution_count": 50,
      "metadata": {}
    },
    {
      "cell_type": "code",
      "source": [
        "my_data.head()"
      ],
      "outputs": [
        {
          "output_type": "execute_result",
          "execution_count": 52,
          "data": {
            "text/html": [
              "<div>\n",
              "<style scoped>\n",
              "    .dataframe tbody tr th:only-of-type {\n",
              "        vertical-align: middle;\n",
              "    }\n",
              "\n",
              "    .dataframe tbody tr th {\n",
              "        vertical-align: top;\n",
              "    }\n",
              "\n",
              "    .dataframe thead th {\n",
              "        text-align: right;\n",
              "    }\n",
              "</style>\n",
              "<table border=\"1\" class=\"dataframe\">\n",
              "  <thead>\n",
              "    <tr style=\"text-align: right;\">\n",
              "      <th></th>\n",
              "      <th>author_links</th>\n",
              "      <th>authors</th>\n",
              "      <th>quotes</th>\n",
              "    </tr>\n",
              "  </thead>\n",
              "  <tbody>\n",
              "    <tr>\n",
              "      <th>0</th>\n",
              "      <td>/author/Albert-Einstein</td>\n",
              "      <td>Albert Einstein</td>\n",
              "      <td>“The world as we have created it is a process ...</td>\n",
              "    </tr>\n",
              "    <tr>\n",
              "      <th>1</th>\n",
              "      <td>/author/J-K-Rowling</td>\n",
              "      <td>J.K. Rowling</td>\n",
              "      <td>“It is our choices, Harry, that show what we t...</td>\n",
              "    </tr>\n",
              "    <tr>\n",
              "      <th>2</th>\n",
              "      <td>/author/Albert-Einstein</td>\n",
              "      <td>Albert Einstein</td>\n",
              "      <td>“There are only two ways to live your life. On...</td>\n",
              "    </tr>\n",
              "    <tr>\n",
              "      <th>3</th>\n",
              "      <td>/author/Jane-Austen</td>\n",
              "      <td>Jane Austen</td>\n",
              "      <td>“The person, be it gentleman or lady, who has ...</td>\n",
              "    </tr>\n",
              "    <tr>\n",
              "      <th>4</th>\n",
              "      <td>/author/Marilyn-Monroe</td>\n",
              "      <td>Marilyn Monroe</td>\n",
              "      <td>“Imperfection is beauty, madness is genius and...</td>\n",
              "    </tr>\n",
              "  </tbody>\n",
              "</table>\n",
              "</div>"
            ],
            "text/plain": [
              "              author_links          authors  \\\n",
              "0  /author/Albert-Einstein  Albert Einstein   \n",
              "1      /author/J-K-Rowling     J.K. Rowling   \n",
              "2  /author/Albert-Einstein  Albert Einstein   \n",
              "3      /author/Jane-Austen      Jane Austen   \n",
              "4   /author/Marilyn-Monroe   Marilyn Monroe   \n",
              "\n",
              "                                              quotes  \n",
              "0  “The world as we have created it is a process ...  \n",
              "1  “It is our choices, Harry, that show what we t...  \n",
              "2  “There are only two ways to live your life. On...  \n",
              "3  “The person, be it gentleman or lady, who has ...  \n",
              "4  “Imperfection is beauty, madness is genius and...  "
            ]
          },
          "metadata": {}
        }
      ],
      "execution_count": 52,
      "metadata": {}
    },
    {
      "cell_type": "code",
      "source": [
        "my_text = \"I am Jack, I am 37 years old, I am earning $100\""
      ],
      "outputs": [],
      "execution_count": 98,
      "metadata": {}
    },
    {
      "cell_type": "code",
      "source": [
        "re.findall(\"I\",my_text)"
      ],
      "outputs": [
        {
          "output_type": "execute_result",
          "execution_count": 56,
          "data": {
            "text/plain": [
              "['I', 'I', 'I']"
            ]
          },
          "metadata": {}
        }
      ],
      "execution_count": 56,
      "metadata": {}
    },
    {
      "cell_type": "code",
      "source": [
        "re.findall(\"[0-9]+\",my_text) #find one or more digits"
      ],
      "outputs": [
        {
          "output_type": "execute_result",
          "execution_count": 64,
          "data": {
            "text/plain": [
              "['37', '100']"
            ]
          },
          "metadata": {}
        }
      ],
      "execution_count": 64,
      "metadata": {}
    },
    {
      "cell_type": "code",
      "source": [
        "re.findall(\".*\",my_text) #find anything any number of times"
      ],
      "outputs": [
        {
          "output_type": "execute_result",
          "execution_count": 100,
          "data": {
            "text/plain": [
              "['I am Jack, I am 37 years old, I am earning $100', '']"
            ]
          },
          "metadata": {}
        }
      ],
      "execution_count": 100,
      "metadata": {}
    },
    {
      "cell_type": "code",
      "source": [
        "re.sub(\"37\",\"73\",my_text) #substitute"
      ],
      "outputs": [
        {
          "output_type": "execute_result",
          "execution_count": 101,
          "data": {
            "text/plain": [
              "'I am Jack, I am 73 years old, I am earning $100'"
            ]
          },
          "metadata": {}
        }
      ],
      "execution_count": 101,
      "metadata": {}
    },
    {
      "cell_type": "code",
      "source": [
        "re.sub(\"\\s[0-9]+\",\" 73\",my_text)"
      ],
      "outputs": [
        {
          "output_type": "execute_result",
          "execution_count": 107,
          "data": {
            "text/plain": [
              "'I am Jack, I am 73 years old, I am earning $100'"
            ]
          },
          "metadata": {}
        }
      ],
      "execution_count": 107,
      "metadata": {}
    },
    {
      "cell_type": "code",
      "source": [
        "expres = re.compile(\"\\s[0-9]+\") #compile the expresson to be used somewhere else"
      ],
      "outputs": [],
      "execution_count": 109,
      "metadata": {}
    },
    {
      "cell_type": "code",
      "source": [
        "re.findall(expres,my_text)"
      ],
      "outputs": [
        {
          "output_type": "execute_result",
          "execution_count": 110,
          "data": {
            "text/plain": [
              "[' 37']"
            ]
          },
          "metadata": {}
        }
      ],
      "execution_count": 110,
      "metadata": {}
    },
    {
      "cell_type": "code",
      "source": [
        "url = \"http://books.toscrape.com/\""
      ],
      "outputs": [],
      "execution_count": 112,
      "metadata": {}
    },
    {
      "cell_type": "code",
      "source": [
        "response = requests.get(url)\n",
        "page = response.content\n",
        "page = BeautifulSoup(page,\"html.parser\")"
      ],
      "outputs": [],
      "execution_count": 113,
      "metadata": {}
    },
    {
      "cell_type": "code",
      "source": [
        "page.find_all(\"p\",class_=re.compile(\"price.+\"))"
      ],
      "outputs": [
        {
          "output_type": "execute_result",
          "execution_count": 116,
          "data": {
            "text/plain": [
              "[<p class=\"price_color\">£51.77</p>,\n",
              " <p class=\"price_color\">£53.74</p>,\n",
              " <p class=\"price_color\">£50.10</p>,\n",
              " <p class=\"price_color\">£47.82</p>,\n",
              " <p class=\"price_color\">£54.23</p>,\n",
              " <p class=\"price_color\">£22.65</p>,\n",
              " <p class=\"price_color\">£33.34</p>,\n",
              " <p class=\"price_color\">£17.93</p>,\n",
              " <p class=\"price_color\">£22.60</p>,\n",
              " <p class=\"price_color\">£52.15</p>,\n",
              " <p class=\"price_color\">£13.99</p>,\n",
              " <p class=\"price_color\">£20.66</p>,\n",
              " <p class=\"price_color\">£17.46</p>,\n",
              " <p class=\"price_color\">£52.29</p>,\n",
              " <p class=\"price_color\">£35.02</p>,\n",
              " <p class=\"price_color\">£57.25</p>,\n",
              " <p class=\"price_color\">£23.88</p>,\n",
              " <p class=\"price_color\">£37.59</p>,\n",
              " <p class=\"price_color\">£51.33</p>,\n",
              " <p class=\"price_color\">£45.17</p>]"
            ]
          },
          "metadata": {}
        }
      ],
      "execution_count": 116,
      "metadata": {}
    },
    {
      "cell_type": "code",
      "source": [
        "page_str = str(page)"
      ],
      "outputs": [],
      "execution_count": 119,
      "metadata": {}
    },
    {
      "cell_type": "code",
      "source": [
        "prices = re.findall(\"£[0-9]+\\S[0-9]+\",page_str)"
      ],
      "outputs": [],
      "execution_count": 125,
      "metadata": {}
    },
    {
      "cell_type": "code",
      "source": [
        "[re.sub(\"£\",\"\",i) for i in prices]"
      ],
      "outputs": [
        {
          "output_type": "execute_result",
          "execution_count": 127,
          "data": {
            "text/plain": [
              "['51.77',\n",
              " '53.74',\n",
              " '50.10',\n",
              " '47.82',\n",
              " '54.23',\n",
              " '22.65',\n",
              " '33.34',\n",
              " '17.93',\n",
              " '22.60',\n",
              " '52.15',\n",
              " '13.99',\n",
              " '20.66',\n",
              " '17.46',\n",
              " '52.29',\n",
              " '35.02',\n",
              " '57.25',\n",
              " '23.88',\n",
              " '37.59',\n",
              " '51.33',\n",
              " '45.17']"
            ]
          },
          "metadata": {}
        }
      ],
      "execution_count": 127,
      "metadata": {}
    },
    {
      "cell_type": "code",
      "source": [
        "re.sub(r\"(\\S)([0-9].+)\",r\"$\\2\",prices[0])"
      ],
      "outputs": [
        {
          "output_type": "execute_result",
          "execution_count": 156,
          "data": {
            "text/plain": [
              "'$51.77'"
            ]
          },
          "metadata": {}
        }
      ],
      "execution_count": 156,
      "metadata": {}
    },
    {
      "cell_type": "code",
      "source": [
        "my_t = \"My name is Hrant, my e-mail is hdavtyan@aua.am\""
      ],
      "outputs": [],
      "execution_count": 137,
      "metadata": {}
    },
    {
      "cell_type": "code",
      "source": [
        "re.sub(r\"(\\S+@)(.+)\",r\"\\1harvard.edu\",my_t)"
      ],
      "outputs": [
        {
          "output_type": "execute_result",
          "execution_count": 153,
          "data": {
            "text/plain": [
              "'My name is Hrant, my e-mail is hdavtyan@harvard.edu'"
            ]
          },
          "metadata": {}
        }
      ],
      "execution_count": 153,
      "metadata": {}
    },
    {
      "cell_type": "code",
      "source": [],
      "outputs": [],
      "execution_count": null,
      "metadata": {}
    }
  ],
  "metadata": {
    "kernelspec": {
      "display_name": "Python 3",
      "language": "python",
      "name": "python3"
    },
    "language_info": {
      "codemirror_mode": {
        "name": "ipython",
        "version": 3
      },
      "file_extension": ".py",
      "mimetype": "text/x-python",
      "name": "python",
      "nbconvert_exporter": "python",
      "pygments_lexer": "ipython3",
      "version": "3.6.4"
    },
    "nteract": {
      "version": "0.10.0"
    }
  },
  "nbformat": 4,
  "nbformat_minor": 2
}