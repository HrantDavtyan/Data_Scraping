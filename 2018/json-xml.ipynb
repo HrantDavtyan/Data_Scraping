{
  "cells": [
    {
      "cell_type": "markdown",
      "source": [
        "# Working with JSON files\n",
        "\nJSON is one of the most populat data storage types nowadays. To put in short, it is a collection of Python disctionaries inside a list."
      ],
      "metadata": {}
    },
    {
      "cell_type": "code",
      "source": [
        "import numpy as np\n",
        "import pandas as pd\n",
        "import matplotlib.pyplot as plt\n",
        "\n",
        "import requests\n",
        "from pprint import pprint\n",
        "from bs4 import BeautifulSoup\n",
        "\n",
        "from selenium import webdriver\n",
        "import re\n",
        "import json\n",
        "from lxml import html"
      ],
      "outputs": [],
      "execution_count": 11,
      "metadata": {}
    },
    {
      "cell_type": "markdown",
      "source": [
        "### JSON"
      ],
      "metadata": {}
    },
    {
      "cell_type": "code",
      "source": [
        "#example json file\n",
        "my_json = [{\"name\":\"Hrant\",\"surname\":\"Davtyan\"},\n",
        "           {\"name\":\"Davit\",\"surname\":\"Abgaryan\"}]"
      ],
      "outputs": [],
      "execution_count": 12,
      "metadata": {}
    },
    {
      "cell_type": "code",
      "source": [
        "url = \"http://api.open-notify.org/astros.json\""
      ],
      "outputs": [],
      "execution_count": 13,
      "metadata": {}
    },
    {
      "cell_type": "code",
      "source": [
        "response = requests.get(url)\n",
        "response.content"
      ],
      "outputs": [
        {
          "output_type": "execute_result",
          "execution_count": 17,
          "data": {
            "text/plain": [
              "b'{\"message\": \"success\", \"people\": [{\"craft\": \"ISS\", \"name\": \"Oleg Artemyev\"}, {\"craft\": \"ISS\", \"name\": \"Andrew Feustel\"}, {\"craft\": \"ISS\", \"name\": \"Richard Arnold\"}, {\"craft\": \"ISS\", \"name\": \"Sergey Prokopyev\"}, {\"craft\": \"ISS\", \"name\": \"Alexander Gerst\"}, {\"craft\": \"ISS\", \"name\": \"Serena Aunon-Chancellor\"}], \"number\": 6}'"
            ]
          },
          "metadata": {}
        }
      ],
      "execution_count": 17,
      "metadata": {}
    },
    {
      "cell_type": "code",
      "source": [
        "type(response.content)"
      ],
      "outputs": [
        {
          "output_type": "execute_result",
          "execution_count": 18,
          "data": {
            "text/plain": [
              "bytes"
            ]
          },
          "metadata": {}
        }
      ],
      "execution_count": 18,
      "metadata": {}
    },
    {
      "cell_type": "code",
      "source": [
        "# if website (API) provides not HTML but directly JSON,\n",
        "# you can easily get that with requests\n",
        "my_json = response.json()"
      ],
      "outputs": [],
      "execution_count": 29,
      "metadata": {}
    },
    {
      "cell_type": "code",
      "source": [
        "pprint(my_json)"
      ],
      "outputs": [
        {
          "output_type": "stream",
          "name": "stdout",
          "text": [
            "{'message': 'success',\n",
            " 'number': 6,\n",
            " 'people': [{'craft': 'ISS', 'name': 'Oleg Artemyev'},\n",
            "            {'craft': 'ISS', 'name': 'Andrew Feustel'},\n",
            "            {'craft': 'ISS', 'name': 'Richard Arnold'},\n",
            "            {'craft': 'ISS', 'name': 'Sergey Prokopyev'},\n",
            "            {'craft': 'ISS', 'name': 'Alexander Gerst'},\n",
            "            {'craft': 'ISS', 'name': 'Serena Aunon-Chancellor'}]}\n"
          ]
        }
      ],
      "execution_count": 33,
      "metadata": {}
    },
    {
      "cell_type": "code",
      "source": [
        "#get names from the JSON above\n",
        "[my_json[\"people\"][i][\"name\"] for i in range(len(my_json[\"people\"]))]"
      ],
      "outputs": [
        {
          "output_type": "execute_result",
          "execution_count": 41,
          "data": {
            "text/plain": [
              "['Oleg Artemyev',\n",
              " 'Andrew Feustel',\n",
              " 'Richard Arnold',\n",
              " 'Sergey Prokopyev',\n",
              " 'Alexander Gerst',\n",
              " 'Serena Aunon-Chancellor']"
            ]
          },
          "metadata": {}
        }
      ],
      "execution_count": 41,
      "metadata": {}
    },
    {
      "cell_type": "code",
      "source": [
        "#shorter code for getting names\n",
        "[i[\"name\"] for i in my_json[\"people\"]]"
      ],
      "outputs": [
        {
          "output_type": "execute_result",
          "execution_count": 42,
          "data": {
            "text/plain": [
              "['Oleg Artemyev',\n",
              " 'Andrew Feustel',\n",
              " 'Richard Arnold',\n",
              " 'Sergey Prokopyev',\n",
              " 'Alexander Gerst',\n",
              " 'Serena Aunon-Chancellor']"
            ]
          },
          "metadata": {}
        }
      ],
      "execution_count": 42,
      "metadata": {}
    },
    {
      "cell_type": "code",
      "source": [
        "#pandas can read JSON as well, however it loses the structure,\n",
        "#if the JSON document is nested as show below\n",
        "df = pd.read_json(url)"
      ],
      "outputs": [],
      "execution_count": 44,
      "metadata": {}
    },
    {
      "cell_type": "code",
      "source": [
        "df"
      ],
      "outputs": [
        {
          "output_type": "execute_result",
          "execution_count": 45,
          "data": {
            "text/html": [
              "<div>\n",
              "<style scoped>\n",
              "    .dataframe tbody tr th:only-of-type {\n",
              "        vertical-align: middle;\n",
              "    }\n",
              "\n",
              "    .dataframe tbody tr th {\n",
              "        vertical-align: top;\n",
              "    }\n",
              "\n",
              "    .dataframe thead th {\n",
              "        text-align: right;\n",
              "    }\n",
              "</style>\n",
              "<table border=\"1\" class=\"dataframe\">\n",
              "  <thead>\n",
              "    <tr style=\"text-align: right;\">\n",
              "      <th></th>\n",
              "      <th>message</th>\n",
              "      <th>number</th>\n",
              "      <th>people</th>\n",
              "    </tr>\n",
              "  </thead>\n",
              "  <tbody>\n",
              "    <tr>\n",
              "      <th>0</th>\n",
              "      <td>success</td>\n",
              "      <td>6</td>\n",
              "      <td>{'craft': 'ISS', 'name': 'Oleg Artemyev'}</td>\n",
              "    </tr>\n",
              "    <tr>\n",
              "      <th>1</th>\n",
              "      <td>success</td>\n",
              "      <td>6</td>\n",
              "      <td>{'craft': 'ISS', 'name': 'Andrew Feustel'}</td>\n",
              "    </tr>\n",
              "    <tr>\n",
              "      <th>2</th>\n",
              "      <td>success</td>\n",
              "      <td>6</td>\n",
              "      <td>{'craft': 'ISS', 'name': 'Richard Arnold'}</td>\n",
              "    </tr>\n",
              "    <tr>\n",
              "      <th>3</th>\n",
              "      <td>success</td>\n",
              "      <td>6</td>\n",
              "      <td>{'craft': 'ISS', 'name': 'Sergey Prokopyev'}</td>\n",
              "    </tr>\n",
              "    <tr>\n",
              "      <th>4</th>\n",
              "      <td>success</td>\n",
              "      <td>6</td>\n",
              "      <td>{'craft': 'ISS', 'name': 'Alexander Gerst'}</td>\n",
              "    </tr>\n",
              "    <tr>\n",
              "      <th>5</th>\n",
              "      <td>success</td>\n",
              "      <td>6</td>\n",
              "      <td>{'craft': 'ISS', 'name': 'Serena Aunon-Chancel...</td>\n",
              "    </tr>\n",
              "  </tbody>\n",
              "</table>\n",
              "</div>"
            ],
            "text/plain": [
              "   message  number                                             people\n",
              "0  success       6          {'craft': 'ISS', 'name': 'Oleg Artemyev'}\n",
              "1  success       6         {'craft': 'ISS', 'name': 'Andrew Feustel'}\n",
              "2  success       6         {'craft': 'ISS', 'name': 'Richard Arnold'}\n",
              "3  success       6       {'craft': 'ISS', 'name': 'Sergey Prokopyev'}\n",
              "4  success       6        {'craft': 'ISS', 'name': 'Alexander Gerst'}\n",
              "5  success       6  {'craft': 'ISS', 'name': 'Serena Aunon-Chancel..."
            ]
          },
          "metadata": {}
        }
      ],
      "execution_count": 45,
      "metadata": {}
    },
    {
      "cell_type": "code",
      "source": [
        "#saving JSON into file\n",
        "with open(\"my_json.json\",\"w\") as f:\n",
        "    json.dump(my_json,f,indent=4)"
      ],
      "outputs": [],
      "execution_count": 53,
      "metadata": {}
    },
    {
      "cell_type": "code",
      "source": [
        "#reading JSON from a file\n",
        "with open('my_json.json',\"r\") as f:\n",
        "    data = json.load(f)"
      ],
      "outputs": [],
      "execution_count": 55,
      "metadata": {}
    },
    {
      "cell_type": "code",
      "source": [
        "pprint(data)"
      ],
      "outputs": [
        {
          "output_type": "stream",
          "name": "stdout",
          "text": [
            "{'message': 'success',\n",
            " 'number': 6,\n",
            " 'people': [{'craft': 'ISS', 'name': 'Oleg Artemyev'},\n",
            "            {'craft': 'ISS', 'name': 'Andrew Feustel'},\n",
            "            {'craft': 'ISS', 'name': 'Richard Arnold'},\n",
            "            {'craft': 'ISS', 'name': 'Sergey Prokopyev'},\n",
            "            {'craft': 'ISS', 'name': 'Alexander Gerst'},\n",
            "            {'craft': 'ISS', 'name': 'Serena Aunon-Chancellor'}]}\n"
          ]
        }
      ],
      "execution_count": 50,
      "metadata": {}
    },
    {
      "cell_type": "code",
      "source": [
        "#creating a string of dictionaires\n",
        "json_str =   '''\n",
        "{\"message\": \"success\",\n",
        "\"number\": 6,\n",
        "\"people\": [{\"craft\": \"ISS\", \"name\": \"Oleg Artemyev\"},\n",
        "            {\"craft\": \"ISS\", \"name\": \"Oleg Artemyev\"}]}'''"
      ],
      "outputs": [],
      "execution_count": 75,
      "metadata": {}
    },
    {
      "cell_type": "code",
      "source": [
        "str(my_json)"
      ],
      "outputs": [
        {
          "output_type": "execute_result",
          "execution_count": 74,
          "data": {
            "text/plain": [
              "\"{'message': 'success', 'people': [{'craft': 'ISS', 'name': 'Oleg Artemyev'}, {'craft': 'ISS', 'name': 'Andrew Feustel'}, {'craft': 'ISS', 'name': 'Richard Arnold'}, {'craft': 'ISS', 'name': 'Sergey Prokopyev'}, {'craft': 'ISS', 'name': 'Alexander Gerst'}, {'craft': 'ISS', 'name': 'Serena Aunon-Chancellor'}], 'number': 6}\""
            ]
          },
          "metadata": {}
        }
      ],
      "execution_count": 74,
      "metadata": {}
    },
    {
      "cell_type": "code",
      "source": [
        "print(json_str)"
      ],
      "outputs": [
        {
          "output_type": "stream",
          "name": "stdout",
          "text": [
            "\n\n",
            "{'message': 'success',\n",
            " 'number': 6,\n",
            " 'people': [{'craft': 'ISS', 'name': 'Oleg Artemyev'},\n",
            "            {'craft': 'ISS', 'name': 'Andrew Feustel'},\n",
            "            {'craft': 'ISS', 'name': 'Richard Arnold'},\n",
            "            {'craft': 'ISS', 'name': 'Sergey Prokopyev'},\n",
            "            {'craft': 'ISS', 'name': 'Alexander Gerst'},\n",
            "            {'craft': 'ISS', 'name': 'Serena Aunon-Chancellor'}]}\n",
            "\n"
          ]
        }
      ],
      "execution_count": 60,
      "metadata": {}
    },
    {
      "cell_type": "code",
      "source": [
        "#loading JSON from string\n",
        "new_json = json.loads(json_str)"
      ],
      "outputs": [],
      "execution_count": 77,
      "metadata": {}
    },
    {
      "cell_type": "code",
      "source": [
        "pprint(new_json)"
      ],
      "outputs": [
        {
          "output_type": "stream",
          "name": "stdout",
          "text": [
            "{'message': 'success',\n",
            " 'number': 6,\n",
            " 'people': [{'craft': 'ISS', 'name': 'Oleg Artemyev'},\n",
            "            {'craft': 'ISS', 'name': 'Oleg Artemyev'}]}\n"
          ]
        }
      ],
      "execution_count": 80,
      "metadata": {}
    },
    {
      "cell_type": "markdown",
      "source": [
        "### XML"
      ],
      "metadata": {}
    },
    {
      "cell_type": "code",
      "source": [
        "#sample XML document\n",
        "my_xml = \"\"\"\n",
        "<person class=\"Dilijan\">\n",
        "    <name>Hrant</name>\n",
        "    <surname>Davtyan</surname>\n",
        "</person>\n",
        "<person>\n",
        "    <name>Davit</name>\n",
        "    <surname>Abgaryan</surname>\n",
        "</person>\n",
        "\"\"\""
      ],
      "outputs": [],
      "execution_count": 163,
      "metadata": {}
    },
    {
      "cell_type": "code",
      "source": [
        "#the XML above would lokk like this if it was converted to JSON\n",
        "xml_json = \"\"\"\n",
        "{\"person\":\n",
        "     {\"name\":\"Hrant\",\n",
        "      \"surname\":\"Davtyan\"}},\n",
        "{\"person\":\n",
        "     {\"name\":\"Davit\",\n",
        "      \"surname\":\"Abgaryan\"}}\n",
        "\"\"\""
      ],
      "outputs": [],
      "execution_count": 83,
      "metadata": {}
    },
    {
      "cell_type": "code",
      "source": [
        "tree = html.document_fromstring(my_xml)\n",
        "type(tree)"
      ],
      "outputs": [
        {
          "output_type": "execute_result",
          "execution_count": 124,
          "data": {
            "text/plain": [
              "lxml.html.HtmlElement"
            ]
          },
          "metadata": {}
        }
      ],
      "execution_count": 124,
      "metadata": {}
    },
    {
      "cell_type": "code",
      "source": [
        "#similar to get_text() in BS\n",
        "tree.text_content().replace(\"\\n\",\"\").strip()"
      ],
      "outputs": [
        {
          "output_type": "execute_result",
          "execution_count": 128,
          "data": {
            "text/plain": [
              "'Hrant    Davtyan    Davit    Abgaryan'"
            ]
          },
          "metadata": {}
        }
      ],
      "execution_count": 128,
      "metadata": {}
    },
    {
      "cell_type": "code",
      "source": [
        "#similar to find_all in BS\n",
        "tree.xpath(\"//person/name\")"
      ],
      "outputs": [
        {
          "output_type": "execute_result",
          "execution_count": 129,
          "data": {
            "text/plain": [
              "[<Element name at 0x1d4d0e43f98>, <Element name at 0x1d4d0e43598>]"
            ]
          },
          "metadata": {}
        }
      ],
      "execution_count": 129,
      "metadata": {}
    },
    {
      "cell_type": "code",
      "source": [
        "my_names = [i.text_content() for i in tree.xpath(\"//person/name\")]"
      ],
      "outputs": [],
      "execution_count": 130,
      "metadata": {}
    },
    {
      "cell_type": "code",
      "source": [
        "print(my_names)"
      ],
      "outputs": [
        {
          "output_type": "stream",
          "name": "stdout",
          "text": [
            "['Hrant', 'Davit']\n"
          ]
        }
      ],
      "execution_count": 131,
      "metadata": {}
    },
    {
      "cell_type": "code",
      "source": [
        "#similar to select() in BS\n",
        "tree.cssselect(\"person\")"
      ],
      "outputs": [
        {
          "output_type": "execute_result",
          "execution_count": 135,
          "data": {
            "text/plain": [
              "[<Element person at 0x1d4d0e490e8>, <Element person at 0x1d4d0e498b8>]"
            ]
          },
          "metadata": {}
        }
      ],
      "execution_count": 135,
      "metadata": {}
    },
    {
      "cell_type": "code",
      "source": [
        "tree.xpath(\"//person[@class='Dilijan']\")[0].text_content()"
      ],
      "outputs": [
        {
          "output_type": "execute_result",
          "execution_count": 170,
          "data": {
            "text/plain": [
              "'\\n    Hrant\\n    Davtyan\\n'"
            ]
          },
          "metadata": {}
        }
      ],
      "execution_count": 170,
      "metadata": {}
    },
    {
      "cell_type": "code",
      "source": [
        "tree.xpath(\"//person/@class\")"
      ],
      "outputs": [
        {
          "output_type": "execute_result",
          "execution_count": 171,
          "data": {
            "text/plain": [
              "['Dilijan']"
            ]
          },
          "metadata": {}
        }
      ],
      "execution_count": 171,
      "metadata": {}
    },
    {
      "cell_type": "code",
      "source": [],
      "outputs": [],
      "execution_count": null,
      "metadata": {}
    }
  ],
  "metadata": {
    "kernelspec": {
      "display_name": "Python 3",
      "language": "python",
      "name": "python3"
    },
    "language_info": {
      "codemirror_mode": {
        "name": "ipython",
        "version": 3
      },
      "file_extension": ".py",
      "mimetype": "text/x-python",
      "name": "python",
      "nbconvert_exporter": "python",
      "pygments_lexer": "ipython3",
      "version": "3.6.4"
    },
    "nteract": {
      "version": "0.10.0"
    }
  },
  "nbformat": 4,
  "nbformat_minor": 2
}