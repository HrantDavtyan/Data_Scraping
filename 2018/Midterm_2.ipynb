{
 "cells": [
  {
   "cell_type": "markdown",
   "metadata": {},
   "source": [
    "# Midterm 2 - Solution Key"
   ]
  },
  {
   "cell_type": "code",
   "execution_count": 1,
   "metadata": {},
   "outputs": [],
   "source": [
    "import time\n",
    "import requests\n",
    "import wikipedia\n",
    "import numpy as np\n",
    "import pandas as pd\n",
    "from bs4 import BeautifulSoup\n",
    "from selenium import webdriver\n",
    "from selenium.webdriver.common.keys import Keys"
   ]
  },
  {
   "cell_type": "markdown",
   "metadata": {},
   "source": [
    "### Problem 1"
   ]
  },
  {
   "cell_type": "code",
   "execution_count": 2,
   "metadata": {},
   "outputs": [
    {
     "name": "stdout",
     "output_type": "stream",
     "text": [
      "1         Ashtarak\n",
      "2         Artashat\n",
      "3          Armavir\n",
      "4            Gavar\n",
      "5          Hrazdan\n",
      "6         Vanadzor\n",
      "7           Gyumri\n",
      "8            Kapan\n",
      "9           Ijevan\n",
      "10    Yeghegnadzor\n",
      "Name: 8, dtype: object\n"
     ]
    }
   ],
   "source": [
    "response = wikipedia.page(\"Administrative divisions of Armenia\")\n",
    "page = response.html()\n",
    "tables = pd.read_html(page)\n",
    "my_table = tables[2]\n",
    "capitals = my_table.iloc[:,-1][1:-1]\n",
    "print(capitals)"
   ]
  },
  {
   "cell_type": "markdown",
   "metadata": {},
   "source": [
    "### Problem 2"
   ]
  },
  {
   "cell_type": "code",
   "execution_count": 3,
   "metadata": {},
   "outputs": [],
   "source": [
    "base = \"https://maps.googleapis.com/maps/api/directions/json?origin=Yerevan,%20Armenia&destination={0},%20Armenia\"\n",
    "def get_distance(city):\n",
    "    url = base.format(city)\n",
    "    response = requests.get(url).json()\n",
    "    dist_text = response[\"routes\"][0][\"legs\"][0][\"distance\"][\"text\"]\n",
    "    dist = float(dist_text[:-3])\n",
    "    time.sleep(3)\n",
    "    return dist"
   ]
  },
  {
   "cell_type": "code",
   "execution_count": 5,
   "metadata": {},
   "outputs": [
    {
     "name": "stdout",
     "output_type": "stream",
     "text": [
      "{'Ashtarak': 22.3, 'Artashat': 31.9, 'Armavir': 44.6, 'Gavar': 94.4, 'Hrazdan': 54.6, 'Vanadzor': 117.0, 'Gyumri': 122.0, 'Kapan': 300.0, 'Ijevan': 133.0, 'Yeghegnadzor': 123.0}\n",
      "105.7\n",
      "Gavar\n"
     ]
    }
   ],
   "source": [
    "distances_dict = {i:get_distance(i) for i in capitals}\n",
    "print(distances_dict)\n",
    "median = np.median(list(distances_dict.values()))\n",
    "print(median)\n",
    "from_median = {key:int(abs(value-median)) for key,value in distances_dict.items()}\n",
    "print( min(from_median,key=from_median.get) )"
   ]
  },
  {
   "cell_type": "markdown",
   "metadata": {},
   "source": [
    "### Problem 3"
   ]
  },
  {
   "cell_type": "code",
   "execution_count": 6,
   "metadata": {},
   "outputs": [],
   "source": [
    "url = \"https://www.rogerebert.com/reviews\"\n",
    "browser = webdriver.Chrome()\n",
    "browser.get(url)\n",
    "some_button = browser.find_element_by_tag_name(\"html\")\n",
    "\n",
    "for i in range(10):\n",
    "    some_button.send_keys(Keys.END)\n",
    "    time.sleep(1)\n",
    "    \n",
    "page = browser.page_source\n",
    "browser.close()"
   ]
  },
  {
   "cell_type": "code",
   "execution_count": 7,
   "metadata": {},
   "outputs": [
    {
     "name": "stdout",
     "output_type": "stream",
     "text": [
      "200\n"
     ]
    }
   ],
   "source": [
    "page = BeautifulSoup(page,\"html.parser\")\n",
    "scraped_titles = [i.text for i in page.select(\"h5.title a\")]\n",
    "first_200 = scraped_titles[:200]\n",
    "print(len(first_200))"
   ]
  },
  {
   "cell_type": "markdown",
   "metadata": {},
   "source": [
    "### Problem 4"
   ]
  },
  {
   "cell_type": "code",
   "execution_count": 8,
   "metadata": {},
   "outputs": [],
   "source": [
    "url = \"https://ideas.repec.org/top/top.person.all.html\"\n",
    "tables = pd.read_html(url)\n",
    "my_table = tables[1]"
   ]
  },
  {
   "cell_type": "code",
   "execution_count": 9,
   "metadata": {},
   "outputs": [
    {
     "name": "stdout",
     "output_type": "stream",
     "text": [
      "1434.455\n",
      "      Rank                                             Author    Score\n",
      "1368  1369  Ian Peter Preston Department of Economics, Uni...  1462.33\n",
      "1348\n"
     ]
    }
   ],
   "source": [
    "median = my_table.Score.median()\n",
    "print( median )\n",
    "print( my_table[my_table.Author.str.contains(\"Ian Peter Preston\")] )\n",
    "print( len(my_table[my_table.Score < median]) )"
   ]
  },
  {
   "cell_type": "markdown",
   "metadata": {},
   "source": [
    "### Problem 5"
   ]
  },
  {
   "cell_type": "code",
   "execution_count": 10,
   "metadata": {},
   "outputs": [],
   "source": [
    "page = requests.get(\"https://www.shamshyan.com\").content\n",
    "page = BeautifulSoup(page,\"html.parser\")\n",
    "lrahos = [i.get_text() for i in page.select(\"div.news p.inline\")]"
   ]
  },
  {
   "cell_type": "markdown",
   "metadata": {},
   "source": [
    "### Problem 6"
   ]
  },
  {
   "cell_type": "code",
   "execution_count": 11,
   "metadata": {},
   "outputs": [
    {
     "data": {
      "text/plain": [
       "152"
      ]
     },
     "execution_count": 11,
     "metadata": {},
     "output_type": "execute_result"
    }
   ],
   "source": [
    "lrahos_str = \" \".join(lrahos)\n",
    "lrahos_splitted = lrahos_str.split(\" \")\n",
    "len([i for i in lrahos_splitted if i.istitle()])"
   ]
  }
 ],
 "metadata": {
  "kernelspec": {
   "display_name": "Python 3",
   "language": "python",
   "name": "python3"
  },
  "language_info": {
   "codemirror_mode": {
    "name": "ipython",
    "version": 3
   },
   "file_extension": ".py",
   "mimetype": "text/x-python",
   "name": "python",
   "nbconvert_exporter": "python",
   "pygments_lexer": "ipython3",
   "version": "3.6.3"
  }
 },
 "nbformat": 4,
 "nbformat_minor": 2
}
