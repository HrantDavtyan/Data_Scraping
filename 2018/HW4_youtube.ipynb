{
 "cells": [
  {
   "cell_type": "code",
   "execution_count": null,
   "metadata": {
    "collapsed": true
   },
   "outputs": [],
   "source": [
    "import re\n",
    "import csv\n",
    "import json\n",
    "import requests\n",
    "import pandas as pd\n",
    "from lxml import html\n",
    "from bs4 import BeautifulSoup\n",
    "from selenium import webdriver"
   ]
  },
  {
   "cell_type": "code",
   "execution_count": null,
   "metadata": {
    "collapsed": true
   },
   "outputs": [],
   "source": [
    "#function for bs4 and lxml\n",
    "def get_source(url):\n",
    "    response = requests.get(url)\n",
    "    page = response.content\n",
    "    soup = BeautifulSoup(page,\"html.parser\")\n",
    "    tree = html.document_fromstring(page)\n",
    "    return soup, tree\n",
    "\n",
    "#functions for bs4 only\n",
    "def get_divs(page,div_class):\n",
    "    divs = page.find_all(\"div\",class_=div_class)\n",
    "    return divs    \n",
    "\n",
    "def get_text(div,tag,class_name=True, regex=\"\"):\n",
    "    text = div.find(tag,class_=class_name,text=re.compile(regex)).get_text()\n",
    "    return text\n",
    "\n",
    "def get_url(div,tag,class_name=True):\n",
    "    text = div.find(tag,class_=class_name).get(\"href\")\n",
    "    return text"
   ]
  },
  {
   "cell_type": "code",
   "execution_count": null,
   "metadata": {
    "collapsed": true
   },
   "outputs": [],
   "source": [
    "url=\"https://www.youtube.com/feed/trending\"\n",
    "soup, tree = get_source(url)"
   ]
  },
  {
   "cell_type": "code",
   "execution_count": null,
   "metadata": {
    "collapsed": true
   },
   "outputs": [],
   "source": [
    "# bs4 approach\n",
    "div_class = \"yt-lockup-content\"\n",
    "divs = get_divs(page=soup, div_class=div_class)\n",
    "data_bs4 = []\n",
    "for i in divs:\n",
    "    data_bs4.append({\n",
    "        \"title\":get_text(div=i,tag=\"a\"),\n",
    "        \"username\":get_text(div=i,tag=\"a\",class_name=\"yt-uix-sessionlink spf-link \"),\n",
    "        \"link\":get_url(div=i,tag=\"a\"),\n",
    "        \"duration\":get_text(div=i,tag=\"span\",class_name=\"accessible-description\"),\n",
    "        \"views\":get_text(div=i,tag=\"li\",class_name=False,regex=\"view\")\n",
    "    })\n",
    "    \n",
    "df_bs4 = pd.DataFrame(data_bs4)"
   ]
  },
  {
   "cell_type": "code",
   "execution_count": null,
   "metadata": {
    "collapsed": true
   },
   "outputs": [],
   "source": [
    "#lxml approach\n",
    "data_xml = {\n",
    "        \"title\":tree.xpath(\"//h3/a/@title\"),\n",
    "        \"username\":tree.xpath(\"//a[@class='yt-uix-sessionlink       spf-link ']/text()\"),\n",
    "        \"link\":tree.xpath(\"//h3/a/@href\"),\n",
    "        \"duration\":tree.xpath(\"//h3/span/text()\"),\n",
    "        \"views\":tree.xpath(\"//li[contains(text(), 'views')]/text()\")\n",
    "    }\n",
    "\n",
    "df_xml = pd.DataFrame(data_xml)"
   ]
  },
  {
   "cell_type": "code",
   "execution_count": null,
   "metadata": {},
   "outputs": [],
   "source": [
    "#selenium approach\n",
    "browser = webdriver.Chrome()\n",
    "browser.get(url)\n",
    "\n",
    "data_sel = {\n",
    "        \"title\":[i.get_attribute(\"title\") for i in browser.find_elements_by_xpath(\"//h3/a\")],\n",
    "        \"username\":[i.text for i in browser.find_elements_by_xpath(\"//yt-formatted-string[@id='byline']\")],\n",
    "        \"link\":[i.get_attribute(\"href\") for i in browser.find_elements_by_xpath(\"//h3/a\")],\n",
    "        \"duration\":[i.text for i in browser.find_elements_by_xpath(\"//span[@class='style-scope ytd-thumbnail-overlay-time-status-renderer']\")],\n",
    "        \"views\":[i.text for i in browser.find_elements_by_xpath(\"//span[@class='style-scope ytd-video-meta-block'][contains(text(), 'views')]\")]\n",
    "    }\n",
    "\n",
    "browser.close()\n",
    "df_sel = pd.DataFrame(data_sel)"
   ]
  },
  {
   "cell_type": "code",
   "execution_count": null,
   "metadata": {
    "collapsed": true
   },
   "outputs": [],
   "source": [
    "def absolute_links(url):\n",
    "    start = \"https://www.youtube.com\"\n",
    "    if start not in url:\n",
    "        return start+url\n",
    "    \n",
    "def clean_duration(dur):\n",
    "    rep = \"- Duration:\"\n",
    "    if rep in dur:\n",
    "        return dur.replace(rep,\"\").strip()\n",
    "    \n",
    "def clean_views(view):\n",
    "    rep = \"views\"\n",
    "    if rep in view:\n",
    "        return view.replace(rep,\"\").strip()"
   ]
  },
  {
   "cell_type": "code",
   "execution_count": null,
   "metadata": {},
   "outputs": [],
   "source": [
    "dataframes = [df_bs4,df_xml,df_sel]\n",
    "\n",
    "for i in dataframes:\n",
    "    i[\"link\"] = i.link.apply(absolute_links)\n",
    "    i[\"duration\"] = i.duration.apply(clean_duration)\n",
    "    i[\"views\"] = i.views.apply(clean_views)\n",
    "\n",
    "for index,df in enumerate(dataframes):\n",
    "    df.to_csv(str(index)+\".csv\")\n",
    "    df.to_json(str(index)+\".json\")"
   ]
  }
 ],
 "metadata": {
  "kernelspec": {
   "display_name": "Python 3",
   "language": "python",
   "name": "python3"
  },
  "language_info": {
   "codemirror_mode": {
    "name": "ipython",
    "version": 3
   },
   "file_extension": ".py",
   "mimetype": "text/x-python",
   "name": "python",
   "nbconvert_exporter": "python",
   "pygments_lexer": "ipython3",
   "version": "3.6.3"
  }
 },
 "nbformat": 4,
 "nbformat_minor": 2
}
