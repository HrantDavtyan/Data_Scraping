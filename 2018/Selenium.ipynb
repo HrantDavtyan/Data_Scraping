{
  "cells": [
    {
      "cell_type": "markdown",
      "source": [
        "# Introduction to Selenium\n",
        "\nPages that require the user to take actions to provide data (especially when URL is unchanged) cannot be scraped using \"traditional methods\". Selenium can be helpful in those cases. This notebook provides Selenium code to scrape roadpolice.am"
      ],
      "metadata": {}
    },
    {
      "cell_type": "code",
      "source": [
        "from selenium import webdriver\n",
        "import time"
      ],
      "outputs": [],
      "execution_count": 21,
      "metadata": {}
    },
    {
      "cell_type": "code",
      "source": [
        "pin = \"1848dsvyzjtw\"\n",
        "url = \"https://offense.roadpolice.am/\""
      ],
      "outputs": [],
      "execution_count": 2,
      "metadata": {}
    },
    {
      "cell_type": "code",
      "source": [
        "browser = webdriver.Chrome()\n",
        "browser.get(url)\n",
        "pin_space = browser.find_element_by_id(\"pin\") #find pin input space\n",
        "pin_space.send_keys(pin) #input pin\n",
        "#pin_space.submit() #submit (press enter)\n",
        "browser.find_element_by_tag_name(\"button\").click() #or find the submit button and click\n",
        "time.sleep(5) #wait for offense page to load\n",
        "browser.find_element_by_link_text(\"Վերադառնալ\").click()  #go back"
      ],
      "outputs": [],
      "execution_count": 23,
      "metadata": {}
    }
  ],
  "metadata": {
    "kernelspec": {
      "display_name": "Python 3",
      "language": "python",
      "name": "python3"
    },
    "language_info": {
      "codemirror_mode": {
        "name": "ipython",
        "version": 3
      },
      "file_extension": ".py",
      "mimetype": "text/x-python",
      "name": "python",
      "nbconvert_exporter": "python",
      "pygments_lexer": "ipython3",
      "version": "3.6.4"
    },
    "nteract": {
      "version": "0.10.0"
    }
  },
  "nbformat": 4,
  "nbformat_minor": 2
}