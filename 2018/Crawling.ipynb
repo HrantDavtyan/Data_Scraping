{
 "cells": [
  {
   "cell_type": "markdown",
   "metadata": {},
   "source": [
    "# Data Scraping 2 - Crawling and NLP\n",
    "\n",
    "1. Scraping complex pages (navigation),\n",
    "    - findNext() / findAllNext() - finds next tag(s) with their content (text and subtags)\n",
    "    - findPrevious() / findAllPrevious() - finds previous tag(s) with their content (text and subtags)\n",
    "    - findNextSibling() / findNextSiblings() - finds next sibling tag(s) (not child or parent)\n",
    "    - findParent() / findParents() - finds Parent(s)\n",
    "    - findChild() / findChildren() - finds Child(ren)\n",
    "2. Scraping multiple pages,\n",
    "    - Method 1: understand link structure and create a list of all links\n",
    "    - Method 2: follow links under the Next page buttons or similar\n",
    "3. NLP with NLTK,\n",
    "    - nltk.FreqDist() - build word and frequency key value pairs\n",
    "    - plot(5, cumulative=False) - plot the most popular 5 words\n",
    "    - PorterStemmer()  - stem the word (leave only the root/base)\n",
    "    - stopwords.words('english') - get a list of English stopwords\n",
    "4. NLP with TextBlob.\n",
    "    - TextBlob() - convert the string object type\n",
    "    - Word() - convert the string object type (used for Word only, not sentences)\n",
    "    - sentiment - estimate sentiment polarity [-1,1] and subjectivity [0,1]\n",
    "    - sentences - tokenize into sentences\n",
    "    - words - tokenize into words\n",
    "    - definitions - provides the word's definitions\n",
    "    - tags - creates tuples of words and parts of speeches\n",
    "    - singularize() - convert a word to singular form\n",
    "    - pluralize() - convert a word to plural form\n",
    "    - lemmatize() - lemmatizes, i.e. returns the base form by usually removing endings\n",
    "    - spellcheck() - provides the probability of being correct, and other probable options, if available\n",
    "    - correct() - outputs the element from the above list with highest probability\n",
    "    - ngrams(n=) - develops n grams fromthe given TextBlob() sentence\n",
    "    - detect_language() - detect the language of the input string (TextBlob object)\n",
    "    - translate(from_lang=\"\",to=\"\") - translates the TextBlob object from a given language to another"
   ]
  },
  {
   "cell_type": "code",
   "execution_count": 1,
   "metadata": {
    "collapsed": true
   },
   "outputs": [],
   "source": [
    "#scraping\n",
    "import time\n",
    "import requests\n",
    "from pprint import pprint\n",
    "from bs4 import BeautifulSoup\n",
    "\n",
    "#nltk\n",
    "import nltk\n",
    "from nltk.corpus import stopwords, wordnet\n",
    "from nltk.tokenize import sent_tokenize, word_tokenize\n",
    "from nltk.stem import PorterStemmer, WordNetLemmatizer\n",
    "#nltk.download('popular', halt_on_error=False)\n",
    "\n",
    "#textblob\n",
    "from textblob import TextBlob, Word"
   ]
  },
  {
   "cell_type": "code",
   "execution_count": 2,
   "metadata": {
    "collapsed": true
   },
   "outputs": [],
   "source": [
    "def get_quotes(url):\n",
    "    response = requests.get(url)\n",
    "    page = response.content\n",
    "    page = BeautifulSoup(page,\"html.parser\")\n",
    "    hashtags = [i.get_text() for i in page.find_all(\"span\",class_='text')]\n",
    "    return hashtags"
   ]
  },
  {
   "cell_type": "code",
   "execution_count": 3,
   "metadata": {},
   "outputs": [],
   "source": [
    "#Method 1\n",
    "base_url = \"http://quotes.toscrape.com/page/\"\n",
    "urls = [base_url+str(i)+\"/\" for i in range(1,11)] #generate all page urls\n",
    "all_quotes = []\n",
    "for i in urls:\n",
    "    all_quotes.append(get_quotes(i))\n",
    "    time.sleep(5) #to make the crawler wait for 5 seconds"
   ]
  },
  {
   "cell_type": "code",
   "execution_count": 4,
   "metadata": {
    "collapsed": true
   },
   "outputs": [],
   "source": [
    "#Method 2\n",
    "base = \"http://quotes.toscrape.com\"\n",
    "all_quotes=[]\n",
    "url = base\n",
    "while True: #loop infinitely\n",
    "    response = requests.get(url)\n",
    "    page = response.content\n",
    "    page = BeautifulSoup(page,\"html.parser\")\n",
    "    quotes = [i.get_text() for i in page.find_all(\"span\",class_=\"text\")]\n",
    "    all_quotes.append(quotes)\n",
    "    our_li = page.find_all(\"li\",class_=\"next\")\n",
    "    if len(our_li)==0:\n",
    "        break #stop the loop if no next page button found\n",
    "    url = base+our_li[0].findChild(\"a\").get(\"href\") #use navigation to find Child\n",
    "    time.sleep(3)"
   ]
  },
  {
   "cell_type": "markdown",
   "metadata": {},
   "source": [
    "### NLP - Textblob"
   ]
  },
  {
   "cell_type": "code",
   "execution_count": 7,
   "metadata": {},
   "outputs": [],
   "source": [
    "quotes_list = get_quotes(base)\n",
    "quotes_blob = [TextBlob(i) for i in quotes_list]"
   ]
  },
  {
   "cell_type": "code",
   "execution_count": 8,
   "metadata": {},
   "outputs": [
    {
     "name": "stdout",
     "output_type": "stream",
     "text": [
      "“The world as we have created it is a process of our thinking. It cannot be changed without changing our thinking.”\n",
      "Sentiment(polarity=0.0, subjectivity=0.0)\n",
      "\n",
      "\n",
      "“It is our choices, Harry, that show what we truly are, far more than our abilities.”\n",
      "Sentiment(polarity=0.3, subjectivity=0.75)\n",
      "\n",
      "\n",
      "“There are only two ways to live your life. One is as though nothing is a miracle. The other is as though everything is a miracle.”\n",
      "Sentiment(polarity=0.0037878787878787845, subjectivity=0.625)\n",
      "\n",
      "\n",
      "“The person, be it gentleman or lady, who has not pleasure in a good novel, must be intolerably stupid.”\n",
      "Sentiment(polarity=-0.04999999999999999, subjectivity=0.8)\n",
      "\n",
      "\n",
      "“Imperfection is beauty, madness is genius and it's better to be absolutely ridiculous than absolutely boring.”\n",
      "Sentiment(polarity=-0.27777777777777773, subjectivity=0.8333333333333334)\n",
      "\n",
      "\n",
      "“Try not to become a man of success. Rather become a man of value.”\n",
      "Sentiment(polarity=0.3, subjectivity=0.0)\n",
      "\n",
      "\n",
      "“It is better to be hated for what you are than to be loved for what you are not.”\n",
      "Sentiment(polarity=0.09999999999999998, subjectivity=0.6666666666666666)\n",
      "\n",
      "\n",
      "“I have not failed. I've just found 10,000 ways that won't work.”\n",
      "Sentiment(polarity=0.25, subjectivity=0.3)\n",
      "\n",
      "\n",
      "“A woman is like a tea bag; you never know how strong it is until it's in hot water.”\n",
      "Sentiment(polarity=0.3416666666666667, subjectivity=0.7916666666666667)\n",
      "\n",
      "\n",
      "“A day without sunshine is like, you know, night.”\n",
      "Sentiment(polarity=0.0, subjectivity=0.0)\n",
      "\n",
      "\n"
     ]
    }
   ],
   "source": [
    "#sentence sentiment analysis (opinion polarity and subjectivity)\n",
    "for i in quotes_blob:\n",
    "    print(i)\n",
    "    print(i.sentiment)\n",
    "    print(\"\\n\") #to print a separator line in between quotes"
   ]
  },
  {
   "cell_type": "code",
   "execution_count": 9,
   "metadata": {},
   "outputs": [
    {
     "name": "stdout",
     "output_type": "stream",
     "text": [
      "“The world as we have created it is a process of our thinking. It cannot be changed without changing our thinking.” \n",
      "\n",
      "[Sentence(\"“The world as we have created it is a process of our thinking.\"), Sentence(\"It cannot be changed without changing our thinking.”\")] \n",
      "\n",
      "['“', 'The', 'world', 'as', 'we', 'have', 'created', 'it', 'is', 'a', 'process', 'of', 'our', 'thinking', 'It', 'can', 'not', 'be', 'changed', 'without', 'changing', 'our', 'thinking', '”'] \n",
      "\n"
     ]
    }
   ],
   "source": [
    "#tokenization\n",
    "first_quote = quotes_blob[0]\n",
    "print(first_quote,\"\\n\")\n",
    "print(first_quote.sentences,\"\\n\")\n",
    "print(first_quote.words,\"\\n\")"
   ]
  },
  {
   "cell_type": "code",
   "execution_count": 10,
   "metadata": {},
   "outputs": [
    {
     "name": "stdout",
     "output_type": "stream",
     "text": [
      "animal -> animals\n",
      "birds -> bird\n"
     ]
    }
   ],
   "source": [
    "#Inflection\n",
    "word1 = Word(\"bought\")\n",
    "word2 = Word(\"animal\")\n",
    "word3 = Word(\"birds\")\n",
    "\n",
    "print(word2, \"->\", word2.pluralize())\n",
    "print(word3, \"->\", word3.singularize())"
   ]
  },
  {
   "cell_type": "code",
   "execution_count": 11,
   "metadata": {},
   "outputs": [
    {
     "name": "stdout",
     "output_type": "stream",
     "text": [
      "bought -> buy\n",
      "animal -> animal\n",
      "birds -> bird\n"
     ]
    }
   ],
   "source": [
    "#lemmatization / v-verb, n-noun, a-adjective, r-adverb\n",
    "print(word1, \"->\", word1.lemmatize(\"v\"))\n",
    "print(word2, \"->\", word2.lemmatize(\"n\"))\n",
    "print(word3, \"->\", word3.lemmatize(\"n\"))"
   ]
  },
  {
   "cell_type": "code",
   "execution_count": 12,
   "metadata": {},
   "outputs": [
    {
     "name": "stdout",
     "output_type": "stream",
     "text": [
      "[('“', 'IN'), ('The', 'DT'), ('world', 'NN'), ('as', 'IN'), ('we', 'PRP'), ('have', 'VBP'), ('created', 'VBN'), ('it', 'PRP'), ('is', 'VBZ'), ('a', 'DT'), ('process', 'NN'), ('of', 'IN'), ('our', 'PRP$'), ('thinking', 'NN'), ('It', 'PRP'), ('can', 'MD'), ('not', 'RB'), ('be', 'VB'), ('changed', 'VBN'), ('without', 'IN'), ('changing', 'VBG'), ('our', 'PRP$'), ('thinking', 'NN'), ('”', 'NN')]\n"
     ]
    }
   ],
   "source": [
    "#tagging / NN - noun, JJ - adjective, IN - preposition, VB_ - verb\n",
    "print(first_quote.tags)"
   ]
  },
  {
   "cell_type": "code",
   "execution_count": 13,
   "metadata": {},
   "outputs": [
    {
     "name": "stdout",
     "output_type": "stream",
     "text": [
      "bought -> ['obtain by purchase; acquire by means of a financial transaction', 'make illegal payments to in exchange for favors or influence', 'be worth or be capable of buying', 'acquire by trade or sacrifice or exchange', 'accept as true'] \n",
      "\n",
      "animal -> ['a living organism characterized by voluntary movement', 'marked by the appetites and passions of the body'] \n",
      "\n",
      "birds -> ['warm-blooded egg-laying vertebrates characterized by feathers and forelimbs modified as wings', 'the flesh of a bird or fowl (wild or domestic) used as food', 'informal terms for a (young) woman', 'a cry or noise made to express displeasure or contempt', 'badminton equipment consisting of a ball of cork or rubber with a crown of feathers', 'watch and study birds in their natural habitat'] \n",
      "\n"
     ]
    }
   ],
   "source": [
    "#definitions\n",
    "for i in word1,word2,word3:\n",
    "    print(i,\"->\",i.definitions,\"\\n\")"
   ]
  },
  {
   "cell_type": "code",
   "execution_count": 14,
   "metadata": {},
   "outputs": [
    {
     "name": "stdout",
     "output_type": "stream",
     "text": [
      "[('bought', 0.9482758620689655), ('bout', 0.034482758620689655), ('bough', 0.017241379310344827)]\n",
      "\n",
      "\n",
      "bought\n"
     ]
    }
   ],
   "source": [
    "#spellcheck and correction\n",
    "print(Word(\"bougt\").spellcheck())\n",
    "print(\"\\n\")\n",
    "print(Word(\"bougt\").correct())"
   ]
  },
  {
   "cell_type": "code",
   "execution_count": 15,
   "metadata": {},
   "outputs": [
    {
     "name": "stdout",
     "output_type": "stream",
     "text": [
      "hy\n",
      "man\n"
     ]
    }
   ],
   "source": [
    "# langauge detection and translation\n",
    "word4 = Word(\"մարդ\")\n",
    "print(word4.detect_language())\n",
    "print(word4.translate(from_lang=\"hy\",to='en'))"
   ]
  },
  {
   "cell_type": "code",
   "execution_count": 16,
   "metadata": {},
   "outputs": [
    {
     "data": {
      "text/plain": [
       "True"
      ]
     },
     "execution_count": 16,
     "metadata": {},
     "output_type": "execute_result"
    }
   ],
   "source": [
    "#comparison\n",
    "word1>word2"
   ]
  },
  {
   "cell_type": "code",
   "execution_count": 17,
   "metadata": {},
   "outputs": [
    {
     "data": {
      "text/plain": [
       "[WordList(['“', 'The', 'world']),\n",
       " WordList(['The', 'world', 'as']),\n",
       " WordList(['world', 'as', 'we'])]"
      ]
     },
     "execution_count": 17,
     "metadata": {},
     "output_type": "execute_result"
    }
   ],
   "source": [
    "#3-grams\n",
    "first_quote.ngrams(n=3)[0:3]"
   ]
  },
  {
   "cell_type": "code",
   "execution_count": 18,
   "metadata": {},
   "outputs": [
    {
     "data": {
      "text/plain": [
       "Synset('bird.n.01')"
      ]
     },
     "execution_count": 18,
     "metadata": {},
     "output_type": "execute_result"
    }
   ],
   "source": [
    "#synonyms\n",
    "word3.synsets[0]"
   ]
  },
  {
   "cell_type": "markdown",
   "metadata": {},
   "source": [
    "### NLP - NLTK"
   ]
  },
  {
   "cell_type": "code",
   "execution_count": 19,
   "metadata": {},
   "outputs": [
    {
     "data": {
      "image/png": "[encoded data removed]",
      "text/plain": [
       "<matplotlib.figure.Figure at 0x293b978>"
      ]
     },
     "metadata": {},
     "output_type": "display_data"
    }
   ],
   "source": [
    "#get top 5 most popular words\n",
    "freq = nltk.FreqDist(first_quote.words)\n",
    "freq.plot(5, cumulative=False)"
   ]
  },
  {
   "cell_type": "code",
   "execution_count": 20,
   "metadata": {},
   "outputs": [
    {
     "name": "stdout",
     "output_type": "stream",
     "text": [
      "['“', 'the', 'world', 'as', 'we', 'have', 'creat', 'it', 'is', 'a', 'process', 'of', 'our', 'think', 'It', 'can', 'not', 'be', 'chang', 'without', 'chang', 'our', 'think', '”']\n"
     ]
    }
   ],
   "source": [
    "#stemming\n",
    "stemmer = PorterStemmer() \n",
    "word_roots = [stemmer.stem(i) for i in first_quote.words]\n",
    "print(word_roots)"
   ]
  },
  {
   "cell_type": "code",
   "execution_count": 21,
   "metadata": {},
   "outputs": [
    {
     "name": "stdout",
     "output_type": "stream",
     "text": [
      "['“', 'The', 'world', 'as', 'we', 'have', 'created', 'it', 'is', 'a', 'process', 'of', 'our', 'thinking', 'It', 'can', 'not', 'be', 'changed', 'without', 'changing', 'our', 'thinking', '”']\n",
      "\n",
      "\n",
      "['“', 'The', 'world', 'created', 'process', 'thinking', 'It', 'changed', 'without', 'changing', 'thinking', '”']\n"
     ]
    }
   ],
   "source": [
    "#stopwords and their removal\n",
    "sw = stopwords.words('english')\n",
    "first_quote_clean = [i for i in first_quote.words if i not in sw]\n",
    "print(first_quote.words)\n",
    "print(\"\\n\")\n",
    "print(first_quote_clean)"
   ]
  },
  {
   "cell_type": "code",
   "execution_count": 22,
   "metadata": {},
   "outputs": [
    {
     "name": "stdout",
     "output_type": "stream",
     "text": [
      "a sweet yellow liquid produced by bees\n",
      "[]\n"
     ]
    }
   ],
   "source": [
    "#synonyms, definitions, and examples\n",
    "syn = wordnet.synsets(\"honey\")\n",
    " \n",
    "print(syn[0].definition())\n",
    "print(syn[0].examples())"
   ]
  },
  {
   "cell_type": "markdown",
   "metadata": {},
   "source": [
    "### Case study - Tert.am newsfeed\n",
    "\n",
    "Our target is to scrape the newsfeed from the english version of the website and get the most frequent 10 words from there. For that reason, we will request and get the website page, find the paragraphs in newsfeed and extract text. Then the list of headline strings should be concatenated into a single string and chenged to TextBlob type. We will uncapitalize the whole string as well as delete any stopwords. In general, one should probably stem or lemmatize as well, to make sure words like \"go\" and \"going\" are considered the same (not done here). Afterwards, we will calculate frequency distribution of all the words in the text and plot top 10 of them."
   ]
  },
  {
   "cell_type": "code",
   "execution_count": 23,
   "metadata": {},
   "outputs": [
    {
     "data": {
      "image/png": "[encoded data removed]",
      "text/plain": [
       "<matplotlib.figure.Figure at 0xb0ac9b0>"
      ]
     },
     "metadata": {},
     "output_type": "display_data"
    }
   ],
   "source": [
    "url = \"http://www.tert.am/en\"\n",
    "response = requests.get(url)\n",
    "page = response.content\n",
    "page = BeautifulSoup(page,\"html.parser\")\n",
    "paragraphs = page.find_all(\"p\",class_=\"today-title\")\n",
    "\n",
    "headlines = [i.get_text() for i in paragraphs]\n",
    "\n",
    "headline =\"\"\n",
    "for i in headlines:\n",
    "    headline = headline + \" \" + i\n",
    "    \n",
    "blob = TextBlob(headline).lower()\n",
    "clean_headlines = [i for i in blob.words if i not in sw]\n",
    "\n",
    "freq = nltk.FreqDist(clean_headlines)\n",
    "freq.plot(10,cumulative=False)"
   ]
  }
 ],
 "metadata": {
  "kernelspec": {
   "display_name": "Python 3",
   "language": "python",
   "name": "python3"
  },
  "language_info": {
   "codemirror_mode": {
    "name": "ipython",
    "version": 3
   },
   "file_extension": ".py",
   "mimetype": "text/x-python",
   "name": "python",
   "nbconvert_exporter": "python",
   "pygments_lexer": "ipython3",
   "version": "3.6.3"
  }
 },
 "nbformat": 4,
 "nbformat_minor": 2
}
