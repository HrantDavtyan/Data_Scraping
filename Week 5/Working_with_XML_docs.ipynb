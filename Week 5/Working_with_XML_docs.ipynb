{
 "cells": [
  {
   "cell_type": "markdown",
   "metadata": {},
   "source": [
    "# Working with XML docs (with lxml)\n",
    "\n",
    "XML documents have a long history behind yet they are still very popular and are one of the main types of the response provided by most of the APIs (the other type is JSON). They have very similar structure to HTML documents in a sense that both have the *tag-based* structure. However, in XML the user is the one who defines the tag name (also, as in the ```<status>``` line below, one may provide an identifier like organization and a value for it, like AUA). Below, a sample XML document is developed."
   ]
  },
  {
   "cell_type": "code",
   "execution_count": 1,
   "metadata": {
    "collapsed": true
   },
   "outputs": [],
   "source": [
    "data = '''\n",
    "<xml_data>\n",
    "    <person>\n",
    "        <id>01</id>\n",
    "        <name>\n",
    "            <first>Hrant</first>\n",
    "            <last>Davtyan</last>\n",
    "        </name>\n",
    "        <status organization=\"AUA\">Instructor</status>\n",
    "    </person>\n",
    "    <person>\n",
    "        <id>02</id>\n",
    "        <name>\n",
    "            <first>Jack</first>\n",
    "            <last>Nicolson</last>\n",
    "        </name>\n",
    "        <status organization=\"Hollywood\">Actor</status>\n",
    "    </person>\n",
    "</xml_data>\n",
    "'''"
   ]
  },
  {
   "cell_type": "markdown",
   "metadata": {},
   "source": [
    "There are many options to work with a XML document including the built-in Python support. Yet, we will go for the **lxml** option and will import **etree** from it to get the XML tree from a string."
   ]
  },
  {
   "cell_type": "code",
   "execution_count": 2,
   "metadata": {
    "collapsed": true
   },
   "outputs": [],
   "source": [
    "from lxml import etree"
   ]
  },
  {
   "cell_type": "code",
   "execution_count": 3,
   "metadata": {
    "collapsed": false
   },
   "outputs": [],
   "source": [
    "tree = etree.fromstring(data)"
   ]
  },
  {
   "cell_type": "markdown",
   "metadata": {},
   "source": [
    "To find the text content of a tag one just needs to use the **find()** function and then the **text** method on it as follows:"
   ]
  },
  {
   "cell_type": "code",
   "execution_count": 4,
   "metadata": {
    "collapsed": false
   },
   "outputs": [
    {
     "data": {
      "text/plain": [
       "'\\n        '"
      ]
     },
     "execution_count": 4,
     "metadata": {},
     "output_type": "execute_result"
    }
   ],
   "source": [
    "tree.find('person').text"
   ]
  },
  {
   "cell_type": "markdown",
   "metadata": {},
   "source": [
    "Similar to BeautifulSoup, one can use a **findall()** function to return a list of all elements and get the text of one of them."
   ]
  },
  {
   "cell_type": "code",
   "execution_count": 5,
   "metadata": {
    "collapsed": false
   },
   "outputs": [
    {
     "data": {
      "text/plain": [
       "'Nicolson'"
      ]
     },
     "execution_count": 5,
     "metadata": {},
     "output_type": "execute_result"
    }
   ],
   "source": [
    "tree.findall(\"person/name/last\")[1].text"
   ]
  },
  {
   "cell_type": "code",
   "execution_count": 7,
   "metadata": {
    "collapsed": false
   },
   "outputs": [
    {
     "data": {
      "text/plain": [
       "'Instructor'"
      ]
     },
     "execution_count": 7,
     "metadata": {},
     "output_type": "execute_result"
    }
   ],
   "source": [
    "tree.find(\"person/status\").text"
   ]
  },
  {
   "cell_type": "markdown",
   "metadata": {},
   "source": [
    "To get a value of an attribute defined by the user the **get()** function should be used."
   ]
  },
  {
   "cell_type": "code",
   "execution_count": 9,
   "metadata": {
    "collapsed": false
   },
   "outputs": [
    {
     "data": {
      "text/plain": [
       "'AUA'"
      ]
     },
     "execution_count": 9,
     "metadata": {},
     "output_type": "execute_result"
    }
   ],
   "source": [
    "tree.find(\"person/status\").get(\"organization\")"
   ]
  },
  {
   "cell_type": "markdown",
   "metadata": {},
   "source": [
    "Now, we can print some text by applying a for loop over our tree (XML document)."
   ]
  },
  {
   "cell_type": "code",
   "execution_count": 10,
   "metadata": {
    "collapsed": false
   },
   "outputs": [
    {
     "name": "stdout",
     "output_type": "stream",
     "text": [
      "Full name: HrantDavtyan\n",
      "Position: Instructor at AUA\n",
      "\n",
      "Full name: JackNicolson\n",
      "Position: Actor at Hollywood\n",
      "\n"
     ]
    }
   ],
   "source": [
    "for i in tree:\n",
    "    print(\"Full name: \"+ i.find(\"name/first\").text + i.find(\"name/last\").text)\n",
    "    print(\"Position: \" + i.find(\"status\").text + \" at \" + i.find(\"status\").get(\"organization\")+\"\\n\")"
   ]
  }
 ],
 "metadata": {
  "anaconda-cloud": {},
  "kernelspec": {
   "display_name": "Python [default]",
   "language": "python",
   "name": "python2"
  },
  "language_info": {
   "codemirror_mode": {
    "name": "ipython",
    "version": 2
   },
   "file_extension": ".py",
   "mimetype": "text/x-python",
   "name": "python",
   "nbconvert_exporter": "python",
   "pygments_lexer": "ipython2",
   "version": "2.7.12"
  }
 },
 "nbformat": 4,
 "nbformat_minor": 2
}
