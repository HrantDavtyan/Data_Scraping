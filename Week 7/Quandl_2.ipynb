{
 "cells": [
  {
   "cell_type": "markdown",
   "metadata": {},
   "source": [
    "# Quandl 2: Analysis\n",
    "\n",
    "This notebook describes the following:\n",
    "1. Getting data from quandl,\n",
    "2. Applying some descriptive analytics,\n",
    "3. Applying time series analysis,\n",
    "4. Running a linear regression,\n",
    "5. Code: VAR,\n",
    "6. Code: Fixed effects,\n",
    "7. OLS with Pandas,\n",
    "8. Logistic regression.\n",
    "\n",
    "*Note: the notebook itself aims to introduce the \"analysis\" interface without concetrating on details of rigorous economic research.*\n",
    "\n",
    "Resources:\n",
    "- [Pandas computational functions](http://pandas.pydata.org/pandas-docs/version/0.9.0/computation.html)"
   ]
  },
  {
   "cell_type": "markdown",
   "metadata": {},
   "source": [
    "### 1. Getting data from quandl"
   ]
  },
  {
   "cell_type": "code",
   "execution_count": 1,
   "metadata": {
    "collapsed": true
   },
   "outputs": [],
   "source": [
    "import quandl"
   ]
  },
  {
   "cell_type": "code",
   "execution_count": 3,
   "metadata": {
    "collapsed": false
   },
   "outputs": [],
   "source": [
    "with open('quandl_key.txt','r') as f:\n",
    "    key = f.read()"
   ]
  },
  {
   "cell_type": "code",
   "execution_count": 147,
   "metadata": {
    "collapsed": true
   },
   "outputs": [],
   "source": [
    "data = quandl.get([\"FRED/GDP\",\"FRED/UNRATE\", \"FRED/FEDFUNDS\", \"FRED/CPIAUCSL\"],authtoken=key, collapse=\"annual\")"
   ]
  },
  {
   "cell_type": "code",
   "execution_count": 148,
   "metadata": {
    "collapsed": false
   },
   "outputs": [
    {
     "data": {
      "text/html": [
       "<div>\n",
       "<table border=\"1\" class=\"dataframe\">\n",
       "  <thead>\n",
       "    <tr style=\"text-align: right;\">\n",
       "      <th></th>\n",
       "      <th>FRED/GDP - Value</th>\n",
       "      <th>FRED/UNRATE - Value</th>\n",
       "      <th>FRED/FEDFUNDS - Value</th>\n",
       "      <th>FRED/CPIAUCSL - Value</th>\n",
       "    </tr>\n",
       "    <tr>\n",
       "      <th>Date</th>\n",
       "      <th></th>\n",
       "      <th></th>\n",
       "      <th></th>\n",
       "      <th></th>\n",
       "    </tr>\n",
       "  </thead>\n",
       "  <tbody>\n",
       "    <tr>\n",
       "      <th>1947-12-31</th>\n",
       "      <td>260.3</td>\n",
       "      <td>NaN</td>\n",
       "      <td>NaN</td>\n",
       "      <td>23.41</td>\n",
       "    </tr>\n",
       "    <tr>\n",
       "      <th>1948-12-31</th>\n",
       "      <td>280.7</td>\n",
       "      <td>4.0</td>\n",
       "      <td>NaN</td>\n",
       "      <td>24.05</td>\n",
       "    </tr>\n",
       "    <tr>\n",
       "      <th>1949-12-31</th>\n",
       "      <td>271.0</td>\n",
       "      <td>6.6</td>\n",
       "      <td>NaN</td>\n",
       "      <td>23.61</td>\n",
       "    </tr>\n",
       "    <tr>\n",
       "      <th>1950-12-31</th>\n",
       "      <td>320.3</td>\n",
       "      <td>4.3</td>\n",
       "      <td>NaN</td>\n",
       "      <td>24.98</td>\n",
       "    </tr>\n",
       "    <tr>\n",
       "      <th>1951-12-31</th>\n",
       "      <td>356.6</td>\n",
       "      <td>3.1</td>\n",
       "      <td>NaN</td>\n",
       "      <td>26.47</td>\n",
       "    </tr>\n",
       "  </tbody>\n",
       "</table>\n",
       "</div>"
      ],
      "text/plain": [
       "            FRED/GDP - Value  FRED/UNRATE - Value  FRED/FEDFUNDS - Value  \\\n",
       "Date                                                                       \n",
       "1947-12-31             260.3                  NaN                    NaN   \n",
       "1948-12-31             280.7                  4.0                    NaN   \n",
       "1949-12-31             271.0                  6.6                    NaN   \n",
       "1950-12-31             320.3                  4.3                    NaN   \n",
       "1951-12-31             356.6                  3.1                    NaN   \n",
       "\n",
       "            FRED/CPIAUCSL - Value  \n",
       "Date                               \n",
       "1947-12-31                  23.41  \n",
       "1948-12-31                  24.05  \n",
       "1949-12-31                  23.61  \n",
       "1950-12-31                  24.98  \n",
       "1951-12-31                  26.47  "
      ]
     },
     "execution_count": 148,
     "metadata": {},
     "output_type": "execute_result"
    }
   ],
   "source": [
    "data.head()"
   ]
  },
  {
   "cell_type": "code",
   "execution_count": 7,
   "metadata": {
    "collapsed": false
   },
   "outputs": [
    {
     "data": {
      "text/html": [
       "<div>\n",
       "<table border=\"1\" class=\"dataframe\">\n",
       "  <thead>\n",
       "    <tr style=\"text-align: right;\">\n",
       "      <th></th>\n",
       "      <th>FRED/GDP - Value</th>\n",
       "    </tr>\n",
       "    <tr>\n",
       "      <th>Date</th>\n",
       "      <th></th>\n",
       "    </tr>\n",
       "  </thead>\n",
       "  <tbody>\n",
       "    <tr>\n",
       "      <th>1947-12-31</th>\n",
       "      <td>260.3</td>\n",
       "    </tr>\n",
       "    <tr>\n",
       "      <th>1948-12-31</th>\n",
       "      <td>280.7</td>\n",
       "    </tr>\n",
       "    <tr>\n",
       "      <th>1949-12-31</th>\n",
       "      <td>271.0</td>\n",
       "    </tr>\n",
       "    <tr>\n",
       "      <th>1950-12-31</th>\n",
       "      <td>320.3</td>\n",
       "    </tr>\n",
       "    <tr>\n",
       "      <th>1951-12-31</th>\n",
       "      <td>356.6</td>\n",
       "    </tr>\n",
       "  </tbody>\n",
       "</table>\n",
       "</div>"
      ],
      "text/plain": [
       "            FRED/GDP - Value\n",
       "Date                        \n",
       "1947-12-31             260.3\n",
       "1948-12-31             280.7\n",
       "1949-12-31             271.0\n",
       "1950-12-31             320.3\n",
       "1951-12-31             356.6"
      ]
     },
     "execution_count": 7,
     "metadata": {},
     "output_type": "execute_result"
    }
   ],
   "source": [
    "data[[0]].head()"
   ]
  },
  {
   "cell_type": "markdown",
   "metadata": {},
   "source": [
    "### 2. Applying some descriptive analytics"
   ]
  },
  {
   "cell_type": "code",
   "execution_count": 59,
   "metadata": {
    "collapsed": false
   },
   "outputs": [
    {
     "name": "stdout",
     "output_type": "stream",
     "text": [
      "<class 'pandas.core.frame.DataFrame'>\n",
      "DatetimeIndex: 71 entries, 1947-12-31 to 2017-12-31\n",
      "Data columns (total 4 columns):\n",
      "FRED/GDP - Value         71 non-null float64\n",
      "FRED/UNRATE - Value      70 non-null float64\n",
      "FRED/FEDFUNDS - Value    64 non-null float64\n",
      "FRED/CPIAUCSL - Value    71 non-null float64\n",
      "dtypes: float64(4)\n",
      "memory usage: 2.8 KB\n"
     ]
    }
   ],
   "source": [
    "data.info()"
   ]
  },
  {
   "cell_type": "code",
   "execution_count": 61,
   "metadata": {
    "collapsed": false
   },
   "outputs": [
    {
     "data": {
      "text/html": [
       "<div>\n",
       "<table border=\"1\" class=\"dataframe\">\n",
       "  <thead>\n",
       "    <tr style=\"text-align: right;\">\n",
       "      <th></th>\n",
       "      <th>FRED/GDP - Value</th>\n",
       "      <th>FRED/UNRATE - Value</th>\n",
       "      <th>FRED/FEDFUNDS - Value</th>\n",
       "      <th>FRED/CPIAUCSL - Value</th>\n",
       "    </tr>\n",
       "  </thead>\n",
       "  <tbody>\n",
       "    <tr>\n",
       "      <th>count</th>\n",
       "      <td>71.000000</td>\n",
       "      <td>70.000000</td>\n",
       "      <td>64.000000</td>\n",
       "      <td>71.000000</td>\n",
       "    </tr>\n",
       "    <tr>\n",
       "      <th>mean</th>\n",
       "      <td>5874.000000</td>\n",
       "      <td>5.794286</td>\n",
       "      <td>4.817969</td>\n",
       "      <td>107.397915</td>\n",
       "    </tr>\n",
       "    <tr>\n",
       "      <th>std</th>\n",
       "      <td>5932.320223</td>\n",
       "      <td>1.620510</td>\n",
       "      <td>3.672046</td>\n",
       "      <td>75.778956</td>\n",
       "    </tr>\n",
       "    <tr>\n",
       "      <th>min</th>\n",
       "      <td>260.300000</td>\n",
       "      <td>2.700000</td>\n",
       "      <td>0.070000</td>\n",
       "      <td>23.410000</td>\n",
       "    </tr>\n",
       "    <tr>\n",
       "      <th>25%</th>\n",
       "      <td>735.750000</td>\n",
       "      <td>4.700000</td>\n",
       "      <td>2.287500</td>\n",
       "      <td>31.550000</td>\n",
       "    </tr>\n",
       "    <tr>\n",
       "      <th>50%</th>\n",
       "      <td>3407.800000</td>\n",
       "      <td>5.550000</td>\n",
       "      <td>4.470000</td>\n",
       "      <td>97.700000</td>\n",
       "    </tr>\n",
       "    <tr>\n",
       "      <th>75%</th>\n",
       "      <td>10199.200000</td>\n",
       "      <td>6.600000</td>\n",
       "      <td>6.612500</td>\n",
       "      <td>171.700000</td>\n",
       "    </tr>\n",
       "    <tr>\n",
       "      <th>max</th>\n",
       "      <td>19027.100000</td>\n",
       "      <td>10.800000</td>\n",
       "      <td>18.900000</td>\n",
       "      <td>243.846000</td>\n",
       "    </tr>\n",
       "  </tbody>\n",
       "</table>\n",
       "</div>"
      ],
      "text/plain": [
       "       FRED/GDP - Value  FRED/UNRATE - Value  FRED/FEDFUNDS - Value  \\\n",
       "count         71.000000            70.000000              64.000000   \n",
       "mean        5874.000000             5.794286               4.817969   \n",
       "std         5932.320223             1.620510               3.672046   \n",
       "min          260.300000             2.700000               0.070000   \n",
       "25%          735.750000             4.700000               2.287500   \n",
       "50%         3407.800000             5.550000               4.470000   \n",
       "75%        10199.200000             6.600000               6.612500   \n",
       "max        19027.100000            10.800000              18.900000   \n",
       "\n",
       "       FRED/CPIAUCSL - Value  \n",
       "count              71.000000  \n",
       "mean              107.397915  \n",
       "std                75.778956  \n",
       "min                23.410000  \n",
       "25%                31.550000  \n",
       "50%                97.700000  \n",
       "75%               171.700000  \n",
       "max               243.846000  "
      ]
     },
     "execution_count": 61,
     "metadata": {},
     "output_type": "execute_result"
    }
   ],
   "source": [
    "data.describe()"
   ]
  },
  {
   "cell_type": "code",
   "execution_count": 9,
   "metadata": {
    "collapsed": false
   },
   "outputs": [
    {
     "data": {
      "text/html": [
       "<div>\n",
       "<table border=\"1\" class=\"dataframe\">\n",
       "  <thead>\n",
       "    <tr style=\"text-align: right;\">\n",
       "      <th></th>\n",
       "      <th>FRED/GDP - Value</th>\n",
       "      <th>FRED/UNRATE - Value</th>\n",
       "      <th>FRED/FEDFUNDS - Value</th>\n",
       "      <th>FRED/CPIAUCSL - Value</th>\n",
       "    </tr>\n",
       "  </thead>\n",
       "  <tbody>\n",
       "    <tr>\n",
       "      <th>FRED/GDP - Value</th>\n",
       "      <td>1.000000</td>\n",
       "      <td>0.179185</td>\n",
       "      <td>-0.476201</td>\n",
       "      <td>0.981338</td>\n",
       "    </tr>\n",
       "    <tr>\n",
       "      <th>FRED/UNRATE - Value</th>\n",
       "      <td>0.179185</td>\n",
       "      <td>1.000000</td>\n",
       "      <td>0.055904</td>\n",
       "      <td>0.252364</td>\n",
       "    </tr>\n",
       "    <tr>\n",
       "      <th>FRED/FEDFUNDS - Value</th>\n",
       "      <td>-0.476201</td>\n",
       "      <td>0.055904</td>\n",
       "      <td>1.000000</td>\n",
       "      <td>-0.377063</td>\n",
       "    </tr>\n",
       "    <tr>\n",
       "      <th>FRED/CPIAUCSL - Value</th>\n",
       "      <td>0.981338</td>\n",
       "      <td>0.252364</td>\n",
       "      <td>-0.377063</td>\n",
       "      <td>1.000000</td>\n",
       "    </tr>\n",
       "  </tbody>\n",
       "</table>\n",
       "</div>"
      ],
      "text/plain": [
       "                       FRED/GDP - Value  FRED/UNRATE - Value  \\\n",
       "FRED/GDP - Value               1.000000             0.179185   \n",
       "FRED/UNRATE - Value            0.179185             1.000000   \n",
       "FRED/FEDFUNDS - Value         -0.476201             0.055904   \n",
       "FRED/CPIAUCSL - Value          0.981338             0.252364   \n",
       "\n",
       "                       FRED/FEDFUNDS - Value  FRED/CPIAUCSL - Value  \n",
       "FRED/GDP - Value                   -0.476201               0.981338  \n",
       "FRED/UNRATE - Value                 0.055904               0.252364  \n",
       "FRED/FEDFUNDS - Value               1.000000              -0.377063  \n",
       "FRED/CPIAUCSL - Value              -0.377063               1.000000  "
      ]
     },
     "execution_count": 9,
     "metadata": {},
     "output_type": "execute_result"
    }
   ],
   "source": [
    "data.corr()"
   ]
  },
  {
   "cell_type": "code",
   "execution_count": 10,
   "metadata": {
    "collapsed": false
   },
   "outputs": [
    {
     "data": {
      "text/html": [
       "<div>\n",
       "<table border=\"1\" class=\"dataframe\">\n",
       "  <thead>\n",
       "    <tr style=\"text-align: right;\">\n",
       "      <th></th>\n",
       "      <th>FRED/GDP - Value</th>\n",
       "      <th>FRED/UNRATE - Value</th>\n",
       "      <th>FRED/FEDFUNDS - Value</th>\n",
       "      <th>FRED/CPIAUCSL - Value</th>\n",
       "    </tr>\n",
       "  </thead>\n",
       "  <tbody>\n",
       "    <tr>\n",
       "      <th>FRED/GDP - Value</th>\n",
       "      <td>3.519242e+07</td>\n",
       "      <td>1723.718381</td>\n",
       "      <td>-10389.773552</td>\n",
       "      <td>441155.722619</td>\n",
       "    </tr>\n",
       "    <tr>\n",
       "      <th>FRED/UNRATE - Value</th>\n",
       "      <td>1.723718e+03</td>\n",
       "      <td>2.626054</td>\n",
       "      <td>0.322154</td>\n",
       "      <td>30.935200</td>\n",
       "    </tr>\n",
       "    <tr>\n",
       "      <th>FRED/FEDFUNDS - Value</th>\n",
       "      <td>-1.038977e+04</td>\n",
       "      <td>0.322154</td>\n",
       "      <td>13.483921</td>\n",
       "      <td>-103.118090</td>\n",
       "    </tr>\n",
       "    <tr>\n",
       "      <th>FRED/CPIAUCSL - Value</th>\n",
       "      <td>4.411557e+05</td>\n",
       "      <td>30.935200</td>\n",
       "      <td>-103.118090</td>\n",
       "      <td>5742.450208</td>\n",
       "    </tr>\n",
       "  </tbody>\n",
       "</table>\n",
       "</div>"
      ],
      "text/plain": [
       "                       FRED/GDP - Value  FRED/UNRATE - Value  \\\n",
       "FRED/GDP - Value           3.519242e+07          1723.718381   \n",
       "FRED/UNRATE - Value        1.723718e+03             2.626054   \n",
       "FRED/FEDFUNDS - Value     -1.038977e+04             0.322154   \n",
       "FRED/CPIAUCSL - Value      4.411557e+05            30.935200   \n",
       "\n",
       "                       FRED/FEDFUNDS - Value  FRED/CPIAUCSL - Value  \n",
       "FRED/GDP - Value               -10389.773552          441155.722619  \n",
       "FRED/UNRATE - Value                 0.322154              30.935200  \n",
       "FRED/FEDFUNDS - Value              13.483921            -103.118090  \n",
       "FRED/CPIAUCSL - Value            -103.118090            5742.450208  "
      ]
     },
     "execution_count": 10,
     "metadata": {},
     "output_type": "execute_result"
    }
   ],
   "source": [
    "data.cov()"
   ]
  },
  {
   "cell_type": "code",
   "execution_count": 11,
   "metadata": {
    "collapsed": true
   },
   "outputs": [],
   "source": [
    "import seaborn as sns\n",
    "import matplotlib.pyplot as plt\n",
    "%matplotlib inline"
   ]
  },
  {
   "cell_type": "code",
   "execution_count": 13,
   "metadata": {
    "collapsed": false
   },
   "outputs": [
    {
     "data": {
      "text/plain": [
       "<matplotlib.axes._subplots.AxesSubplot at 0xe7e19e8>"
      ]
     },
     "execution_count": 13,
     "metadata": {},
     "output_type": "execute_result"
    },
    {
     "data": {
      "image/png": "[encoded data removed]",
      "text/plain": [
       "<matplotlib.figure.Figure at 0xea7ce80>"
      ]
     },
     "metadata": {},
     "output_type": "display_data"
    }
   ],
   "source": [
    "sns.heatmap(data.corr())"
   ]
  },
  {
   "cell_type": "markdown",
   "metadata": {},
   "source": [
    "### 3. Applying time series analysis"
   ]
  },
  {
   "cell_type": "code",
   "execution_count": 70,
   "metadata": {
    "collapsed": true
   },
   "outputs": [],
   "source": [
    "from statsmodels.tsa.arima_model import ARIMA"
   ]
  },
  {
   "cell_type": "code",
   "execution_count": 77,
   "metadata": {
    "collapsed": false
   },
   "outputs": [
    {
     "data": {
      "text/plain": [
       "[<matplotlib.lines.Line2D at 0x11a88b70>]"
      ]
     },
     "execution_count": 77,
     "metadata": {},
     "output_type": "execute_result"
    },
    {
     "data": {
      "image/png": "[encoded data removed]",
      "text/plain": [
       "<matplotlib.figure.Figure at 0x11ab4320>"
      ]
     },
     "metadata": {},
     "output_type": "display_data"
    }
   ],
   "source": [
    "from statsmodels.tsa.stattools import acf, pacf #ACF and PACF, which are later explained\n",
    "acf = acf(data[[0]])\n",
    "pacf = pacf(data[[0]])\n",
    "plt.plot(acf) # q: number of MA components\n",
    "plt.plot(pacf,'r') # p: number of AR components"
   ]
  },
  {
   "cell_type": "code",
   "execution_count": 88,
   "metadata": {
    "collapsed": false
   },
   "outputs": [],
   "source": [
    "from statsmodels.tsa.stattools import adfuller"
   ]
  },
  {
   "cell_type": "code",
   "execution_count": 96,
   "metadata": {
    "collapsed": false
   },
   "outputs": [
    {
     "name": "stdout",
     "output_type": "stream",
     "text": [
      "0.712949320292\n"
     ]
    }
   ],
   "source": [
    "stationarity_test = adfuller(data[\"FRED/GDP - Value\"])\n",
    "print(stationarity_test[1])"
   ]
  },
  {
   "cell_type": "code",
   "execution_count": 82,
   "metadata": {
    "collapsed": true
   },
   "outputs": [],
   "source": [
    "model = ARIMA(data[[0]], order=(1, 1, 0)) #AR(p), I(d), MA(q)"
   ]
  },
  {
   "cell_type": "code",
   "execution_count": 83,
   "metadata": {
    "collapsed": false
   },
   "outputs": [],
   "source": [
    "results = model.fit()"
   ]
  },
  {
   "cell_type": "code",
   "execution_count": 84,
   "metadata": {
    "collapsed": false
   },
   "outputs": [
    {
     "data": {
      "text/plain": [
       "[<matplotlib.lines.Line2D at 0x120e8908>]"
      ]
     },
     "execution_count": 84,
     "metadata": {},
     "output_type": "execute_result"
    },
    {
     "data": {
      "image/png": "[encoded data removed]",
      "text/plain": [
       "<matplotlib.figure.Figure at 0x11daf128>"
      ]
     },
     "metadata": {},
     "output_type": "display_data"
    }
   ],
   "source": [
    "plt.plot(data[[0]].diff()) # plot the original data graph\n",
    "plt.plot(results.fittedvalues, 'r') # plot the fitted graph "
   ]
  },
  {
   "cell_type": "code",
   "execution_count": 35,
   "metadata": {
    "collapsed": true
   },
   "outputs": [],
   "source": [
    "from statsmodels.tsa.arima_model import ARIMAResults"
   ]
  },
  {
   "cell_type": "code",
   "execution_count": 85,
   "metadata": {
    "collapsed": false
   },
   "outputs": [
    {
     "data": {
      "text/html": [
       "<table class=\"simpletable\">\n",
       "<caption>ARIMA Model Results</caption>\n",
       "<tr>\n",
       "  <th>Dep. Variable:</th> <td>D.FRED/GDP - Value</td> <th>  No. Observations:  </th>    <td>70</td>   \n",
       "</tr>\n",
       "<tr>\n",
       "  <th>Model:</th>           <td>ARIMA(1, 1, 0)</td>   <th>  Log Likelihood     </th> <td>-452.316</td>\n",
       "</tr>\n",
       "<tr>\n",
       "  <th>Method:</th>              <td>css-mle</td>      <th>  S.D. of innovations</th>  <td>153.929</td>\n",
       "</tr>\n",
       "<tr>\n",
       "  <th>Date:</th>           <td>Mon, 03 Jul 2017</td>  <th>  AIC                </th>  <td>910.631</td>\n",
       "</tr>\n",
       "<tr>\n",
       "  <th>Time:</th>               <td>20:37:03</td>      <th>  BIC                </th>  <td>917.377</td>\n",
       "</tr>\n",
       "<tr>\n",
       "  <th>Sample:</th>            <td>12-31-1948</td>     <th>  HQIC               </th>  <td>913.311</td>\n",
       "</tr>\n",
       "<tr>\n",
       "  <th></th>                  <td>- 12-31-2017</td>    <th>                     </th>     <td> </td>   \n",
       "</tr>\n",
       "</table>\n",
       "<table class=\"simpletable\">\n",
       "<tr>\n",
       "              <td></td>                <th>coef</th>     <th>std err</th>      <th>z</th>      <th>P>|z|</th> <th>[95.0% Conf. Int.]</th> \n",
       "</tr>\n",
       "<tr>\n",
       "  <th>const</th>                    <td>  253.0893</td> <td>   74.370</td> <td>    3.403</td> <td> 0.001</td> <td>  107.327   398.852</td>\n",
       "</tr>\n",
       "<tr>\n",
       "  <th>ar.L1.D.FRED/GDP - Value</th> <td>    0.7625</td> <td>    0.076</td> <td>   10.099</td> <td> 0.000</td> <td>    0.615     0.911</td>\n",
       "</tr>\n",
       "</table>\n",
       "<table class=\"simpletable\">\n",
       "<caption>Roots</caption>\n",
       "<tr>\n",
       "    <td></td>   <th>           Real</th> <th>         Imaginary</th> <th>         Modulus</th> <th>        Frequency</th>\n",
       "</tr>\n",
       "<tr>\n",
       "  <th>AR.1</th>               1.3114                    +0.0000j                    1.3114                    0.0000     \n",
       "</tr>\n",
       "</table>"
      ],
      "text/plain": [
       "<class 'statsmodels.iolib.summary.Summary'>\n",
       "\"\"\"\n",
       "                             ARIMA Model Results                              \n",
       "==============================================================================\n",
       "Dep. Variable:     D.FRED/GDP - Value   No. Observations:                   70\n",
       "Model:                 ARIMA(1, 1, 0)   Log Likelihood                -452.316\n",
       "Method:                       css-mle   S.D. of innovations            153.929\n",
       "Date:                Mon, 03 Jul 2017   AIC                            910.631\n",
       "Time:                        20:37:03   BIC                            917.377\n",
       "Sample:                    12-31-1948   HQIC                           913.311\n",
       "                         - 12-31-2017                                         \n",
       "============================================================================================\n",
       "                               coef    std err          z      P>|z|      [95.0% Conf. Int.]\n",
       "--------------------------------------------------------------------------------------------\n",
       "const                      253.0893     74.370      3.403      0.001       107.327   398.852\n",
       "ar.L1.D.FRED/GDP - Value     0.7625      0.076     10.099      0.000         0.615     0.911\n",
       "                                    Roots                                    \n",
       "=============================================================================\n",
       "                 Real           Imaginary           Modulus         Frequency\n",
       "-----------------------------------------------------------------------------\n",
       "AR.1            1.3114           +0.0000j            1.3114            0.0000\n",
       "-----------------------------------------------------------------------------\n",
       "\"\"\""
      ]
     },
     "execution_count": 85,
     "metadata": {},
     "output_type": "execute_result"
    }
   ],
   "source": [
    "results.summary()"
   ]
  },
  {
   "cell_type": "markdown",
   "metadata": {},
   "source": [
    "### 4. Running a linear regressions"
   ]
  },
  {
   "cell_type": "code",
   "execution_count": 57,
   "metadata": {
    "collapsed": true
   },
   "outputs": [],
   "source": [
    "from statsmodels.formula.api import ols"
   ]
  },
  {
   "cell_type": "code",
   "execution_count": 54,
   "metadata": {
    "collapsed": false
   },
   "outputs": [],
   "source": [
    "model_ols = ols(formula=\"data[[0]] ~ data[[1]]+data[[2]]+data[[3]]\", data=data)"
   ]
  },
  {
   "cell_type": "code",
   "execution_count": 55,
   "metadata": {
    "collapsed": true
   },
   "outputs": [],
   "source": [
    "results_ols = model_ols.fit()"
   ]
  },
  {
   "cell_type": "code",
   "execution_count": 56,
   "metadata": {
    "collapsed": false
   },
   "outputs": [
    {
     "data": {
      "text/html": [
       "<table class=\"simpletable\">\n",
       "<caption>OLS Regression Results</caption>\n",
       "<tr>\n",
       "  <th>Dep. Variable:</th>        <td>data[[0]]</td>    <th>  R-squared:         </th> <td>   0.977</td>\n",
       "</tr>\n",
       "<tr>\n",
       "  <th>Model:</th>                   <td>OLS</td>       <th>  Adj. R-squared:    </th> <td>   0.976</td>\n",
       "</tr>\n",
       "<tr>\n",
       "  <th>Method:</th>             <td>Least Squares</td>  <th>  F-statistic:       </th> <td>   865.8</td>\n",
       "</tr>\n",
       "<tr>\n",
       "  <th>Date:</th>             <td>Mon, 03 Jul 2017</td> <th>  Prob (F-statistic):</th> <td>2.52e-49</td>\n",
       "</tr>\n",
       "<tr>\n",
       "  <th>Time:</th>                 <td>20:11:55</td>     <th>  Log-Likelihood:    </th> <td> -525.15</td>\n",
       "</tr>\n",
       "<tr>\n",
       "  <th>No. Observations:</th>      <td>    64</td>      <th>  AIC:               </th> <td>   1058.</td>\n",
       "</tr>\n",
       "<tr>\n",
       "  <th>Df Residuals:</th>          <td>    60</td>      <th>  BIC:               </th> <td>   1067.</td>\n",
       "</tr>\n",
       "<tr>\n",
       "  <th>Df Model:</th>              <td>     3</td>      <th>                     </th>     <td> </td>   \n",
       "</tr>\n",
       "<tr>\n",
       "  <th>Covariance Type:</th>      <td>nonrobust</td>    <th>                     </th>     <td> </td>   \n",
       "</tr>\n",
       "</table>\n",
       "<table class=\"simpletable\">\n",
       "<tr>\n",
       "      <td></td>         <th>coef</th>     <th>std err</th>      <th>t</th>      <th>P>|t|</th> <th>[95.0% Conf. Int.]</th> \n",
       "</tr>\n",
       "<tr>\n",
       "  <th>Intercept</th> <td> -177.1130</td> <td>  498.665</td> <td>   -0.355</td> <td> 0.724</td> <td>-1174.591   820.365</td>\n",
       "</tr>\n",
       "<tr>\n",
       "  <th>data[[1]]</th> <td> -204.7884</td> <td>   75.228</td> <td>   -2.722</td> <td> 0.008</td> <td> -355.266   -54.310</td>\n",
       "</tr>\n",
       "<tr>\n",
       "  <th>data[[2]]</th> <td> -188.5093</td> <td>   34.191</td> <td>   -5.513</td> <td> 0.000</td> <td> -256.902  -120.117</td>\n",
       "</tr>\n",
       "<tr>\n",
       "  <th>data[[3]]</th> <td>   75.4664</td> <td>    1.709</td> <td>   44.162</td> <td> 0.000</td> <td>   72.048    78.885</td>\n",
       "</tr>\n",
       "</table>\n",
       "<table class=\"simpletable\">\n",
       "<tr>\n",
       "  <th>Omnibus:</th>       <td> 0.983</td> <th>  Durbin-Watson:     </th> <td>   0.136</td>\n",
       "</tr>\n",
       "<tr>\n",
       "  <th>Prob(Omnibus):</th> <td> 0.612</td> <th>  Jarque-Bera (JB):  </th> <td>   1.060</td>\n",
       "</tr>\n",
       "<tr>\n",
       "  <th>Skew:</th>          <td>-0.227</td> <th>  Prob(JB):          </th> <td>   0.589</td>\n",
       "</tr>\n",
       "<tr>\n",
       "  <th>Kurtosis:</th>      <td> 2.563</td> <th>  Cond. No.          </th> <td>    606.</td>\n",
       "</tr>\n",
       "</table>"
      ],
      "text/plain": [
       "<class 'statsmodels.iolib.summary.Summary'>\n",
       "\"\"\"\n",
       "                            OLS Regression Results                            \n",
       "==============================================================================\n",
       "Dep. Variable:              data[[0]]   R-squared:                       0.977\n",
       "Model:                            OLS   Adj. R-squared:                  0.976\n",
       "Method:                 Least Squares   F-statistic:                     865.8\n",
       "Date:                Mon, 03 Jul 2017   Prob (F-statistic):           2.52e-49\n",
       "Time:                        20:11:55   Log-Likelihood:                -525.15\n",
       "No. Observations:                  64   AIC:                             1058.\n",
       "Df Residuals:                      60   BIC:                             1067.\n",
       "Df Model:                           3                                         \n",
       "Covariance Type:            nonrobust                                         \n",
       "==============================================================================\n",
       "                 coef    std err          t      P>|t|      [95.0% Conf. Int.]\n",
       "------------------------------------------------------------------------------\n",
       "Intercept   -177.1130    498.665     -0.355      0.724     -1174.591   820.365\n",
       "data[[1]]   -204.7884     75.228     -2.722      0.008      -355.266   -54.310\n",
       "data[[2]]   -188.5093     34.191     -5.513      0.000      -256.902  -120.117\n",
       "data[[3]]     75.4664      1.709     44.162      0.000        72.048    78.885\n",
       "==============================================================================\n",
       "Omnibus:                        0.983   Durbin-Watson:                   0.136\n",
       "Prob(Omnibus):                  0.612   Jarque-Bera (JB):                1.060\n",
       "Skew:                          -0.227   Prob(JB):                        0.589\n",
       "Kurtosis:                       2.563   Cond. No.                         606.\n",
       "==============================================================================\n",
       "\n",
       "Warnings:\n",
       "[1] Standard Errors assume that the covariance matrix of the errors is correctly specified.\n",
       "\"\"\""
      ]
     },
     "execution_count": 56,
     "metadata": {},
     "output_type": "execute_result"
    }
   ],
   "source": [
    "results_ols.summary()"
   ]
  },
  {
   "cell_type": "code",
   "execution_count": 67,
   "metadata": {
    "collapsed": false
   },
   "outputs": [
    {
     "data": {
      "text/plain": [
       "array([[<matplotlib.axes._subplots.AxesSubplot object at 0x0000000010A3E7F0>]], dtype=object)"
      ]
     },
     "execution_count": 67,
     "metadata": {},
     "output_type": "execute_result"
    },
    {
     "data": {
      "image/png": "[encoded data removed]",
      "text/plain": [
       "<matplotlib.figure.Figure at 0x10b15ac8>"
      ]
     },
     "metadata": {},
     "output_type": "display_data"
    }
   ],
   "source": [
    "data[[0]].hist(bins=5)"
   ]
  },
  {
   "cell_type": "code",
   "execution_count": 68,
   "metadata": {
    "collapsed": false
   },
   "outputs": [
    {
     "data": {
      "text/plain": [
       "array([[<matplotlib.axes._subplots.AxesSubplot object at 0x0000000010EA05C0>]], dtype=object)"
      ]
     },
     "execution_count": 68,
     "metadata": {},
     "output_type": "execute_result"
    },
    {
     "data": {
      "image/png": "[encoded data removed]",
      "text/plain": [
       "<matplotlib.figure.Figure at 0x10f25748>"
      ]
     },
     "metadata": {},
     "output_type": "display_data"
    }
   ],
   "source": [
    "data[[0]].diff().hist()"
   ]
  },
  {
   "cell_type": "code",
   "execution_count": 69,
   "metadata": {
    "collapsed": false
   },
   "outputs": [
    {
     "data": {
      "text/plain": [
       "array([[<matplotlib.axes._subplots.AxesSubplot object at 0x00000000110100F0>]], dtype=object)"
      ]
     },
     "execution_count": 69,
     "metadata": {},
     "output_type": "execute_result"
    },
    {
     "data": {
      "image/png": "[encoded data removed]",
      "text/plain": [
       "<matplotlib.figure.Figure at 0x111ca9e8>"
      ]
     },
     "metadata": {},
     "output_type": "display_data"
    }
   ],
   "source": [
    "import numpy as np\n",
    "np.log(data[[0]]).hist()"
   ]
  },
  {
   "cell_type": "code",
   "execution_count": 98,
   "metadata": {
    "collapsed": false
   },
   "outputs": [
    {
     "data": {
      "text/plain": [
       "<matplotlib.axes._subplots.AxesSubplot at 0x122dcda0>"
      ]
     },
     "execution_count": 98,
     "metadata": {},
     "output_type": "execute_result"
    },
    {
     "data": {
      "image/png": "[encoded data removed]",
      "text/plain": [
       "<matplotlib.figure.Figure at 0x122dc4a8>"
      ]
     },
     "metadata": {},
     "output_type": "display_data"
    }
   ],
   "source": [
    "results_ols.resid.hist()"
   ]
  },
  {
   "cell_type": "code",
   "execution_count": 99,
   "metadata": {
    "collapsed": false
   },
   "outputs": [
    {
     "data": {
      "text/plain": [
       "<matplotlib.axes._subplots.AxesSubplot at 0x1243ef98>"
      ]
     },
     "execution_count": 99,
     "metadata": {},
     "output_type": "execute_result"
    },
    {
     "data": {
      "image/png": "[encoded data removed]",
      "text/plain": [
       "<matplotlib.figure.Figure at 0x1254f208>"
      ]
     },
     "metadata": {},
     "output_type": "display_data"
    }
   ],
   "source": [
    "sns.distplot(results_ols.resid)"
   ]
  },
  {
   "cell_type": "markdown",
   "metadata": {},
   "source": [
    "### 5. VAR"
   ]
  },
  {
   "cell_type": "code",
   "execution_count": null,
   "metadata": {
    "collapsed": true
   },
   "outputs": [],
   "source": [
    "from statsmodels.tsa.api import VAR\n",
    "model_var = VAR(mdata[[0]])\n",
    "results_var = model_var.fit()\n",
    "results_var.summary()"
   ]
  },
  {
   "cell_type": "markdown",
   "metadata": {},
   "source": [
    "### 6. Panel data"
   ]
  },
  {
   "cell_type": "code",
   "execution_count": null,
   "metadata": {
    "collapsed": true
   },
   "outputs": [],
   "source": [
    "from pandas.stats.plm import PanelOLS\n",
    "reg  = PanelOLS(y=data[[0]],x=data[[1]],time_effects=True)\n",
    "reg"
   ]
  },
  {
   "cell_type": "markdown",
   "metadata": {},
   "source": [
    "### 7. OLS with Pandas"
   ]
  },
  {
   "cell_type": "code",
   "execution_count": 127,
   "metadata": {
    "collapsed": false
   },
   "outputs": [
    {
     "data": {
      "text/plain": [
       "\n",
       "-------------------------Summary of Regression Analysis-------------------------\n",
       "\n",
       "Formula: Y ~ <x> + <intercept>\n",
       "\n",
       "Number of Observations:         70\n",
       "Number of Degrees of Freedom:   2\n",
       "\n",
       "R-squared:         0.0321\n",
       "Adj R-squared:     0.0179\n",
       "\n",
       "Rmse:           5882.9726\n",
       "\n",
       "F-stat (1, 68):     2.2557, p-value:     0.1378\n",
       "\n",
       "Degrees of Freedom: model 1, resid 68\n",
       "\n",
       "-----------------------Summary of Estimated Coefficients------------------------\n",
       "      Variable       Coef    Std Err     t-stat    p-value    CI 2.5%   CI 97.5%\n",
       "--------------------------------------------------------------------------------\n",
       "             x   656.3911   437.0393       1.50     0.1378  -200.2059  1512.9881\n",
       "     intercept  2150.8781  2628.1394       0.82     0.4160 -3000.2752  7302.0314\n",
       "---------------------------------End of Summary---------------------------------"
      ]
     },
     "execution_count": 127,
     "metadata": {},
     "output_type": "execute_result"
    }
   ],
   "source": [
    "from pandas.stats.ols import OLS\n",
    "linear  = OLS(y=data[\"FRED/GDP - Value\"],x=data[\"FRED/UNRATE - Value\"])\n",
    "linear"
   ]
  },
  {
   "cell_type": "markdown",
   "metadata": {},
   "source": [
    "### 8. Logistic regression"
   ]
  },
  {
   "cell_type": "code",
   "execution_count": 131,
   "metadata": {
    "collapsed": false
   },
   "outputs": [
    {
     "data": {
      "text/plain": [
       "FRED/GDP - Value    0.063803\n",
       "dtype: float64"
      ]
     },
     "execution_count": 131,
     "metadata": {},
     "output_type": "execute_result"
    }
   ],
   "source": [
    "data[[0]].pct_change().mean()"
   ]
  },
  {
   "cell_type": "code",
   "execution_count": 132,
   "metadata": {
    "collapsed": true
   },
   "outputs": [],
   "source": [
    "import numpy as np"
   ]
  },
  {
   "cell_type": "code",
   "execution_count": 149,
   "metadata": {
    "collapsed": true
   },
   "outputs": [],
   "source": [
    "data[\"GDP_status\"] = np.where(data[[0]].pct_change()>data[[0]].pct_change().mean(),1,0)"
   ]
  },
  {
   "cell_type": "code",
   "execution_count": 150,
   "metadata": {
    "collapsed": false
   },
   "outputs": [
    {
     "data": {
      "text/html": [
       "<div>\n",
       "<table border=\"1\" class=\"dataframe\">\n",
       "  <thead>\n",
       "    <tr style=\"text-align: right;\">\n",
       "      <th></th>\n",
       "      <th>FRED/GDP - Value</th>\n",
       "      <th>FRED/UNRATE - Value</th>\n",
       "      <th>FRED/FEDFUNDS - Value</th>\n",
       "      <th>FRED/CPIAUCSL - Value</th>\n",
       "      <th>GDP_status</th>\n",
       "    </tr>\n",
       "    <tr>\n",
       "      <th>Date</th>\n",
       "      <th></th>\n",
       "      <th></th>\n",
       "      <th></th>\n",
       "      <th></th>\n",
       "      <th></th>\n",
       "    </tr>\n",
       "  </thead>\n",
       "  <tbody>\n",
       "    <tr>\n",
       "      <th>1947-12-31</th>\n",
       "      <td>260.3</td>\n",
       "      <td>NaN</td>\n",
       "      <td>NaN</td>\n",
       "      <td>23.41</td>\n",
       "      <td>0</td>\n",
       "    </tr>\n",
       "    <tr>\n",
       "      <th>1948-12-31</th>\n",
       "      <td>280.7</td>\n",
       "      <td>4.0</td>\n",
       "      <td>NaN</td>\n",
       "      <td>24.05</td>\n",
       "      <td>1</td>\n",
       "    </tr>\n",
       "    <tr>\n",
       "      <th>1949-12-31</th>\n",
       "      <td>271.0</td>\n",
       "      <td>6.6</td>\n",
       "      <td>NaN</td>\n",
       "      <td>23.61</td>\n",
       "      <td>0</td>\n",
       "    </tr>\n",
       "    <tr>\n",
       "      <th>1950-12-31</th>\n",
       "      <td>320.3</td>\n",
       "      <td>4.3</td>\n",
       "      <td>NaN</td>\n",
       "      <td>24.98</td>\n",
       "      <td>1</td>\n",
       "    </tr>\n",
       "    <tr>\n",
       "      <th>1951-12-31</th>\n",
       "      <td>356.6</td>\n",
       "      <td>3.1</td>\n",
       "      <td>NaN</td>\n",
       "      <td>26.47</td>\n",
       "      <td>1</td>\n",
       "    </tr>\n",
       "  </tbody>\n",
       "</table>\n",
       "</div>"
      ],
      "text/plain": [
       "            FRED/GDP - Value  FRED/UNRATE - Value  FRED/FEDFUNDS - Value  \\\n",
       "Date                                                                       \n",
       "1947-12-31             260.3                  NaN                    NaN   \n",
       "1948-12-31             280.7                  4.0                    NaN   \n",
       "1949-12-31             271.0                  6.6                    NaN   \n",
       "1950-12-31             320.3                  4.3                    NaN   \n",
       "1951-12-31             356.6                  3.1                    NaN   \n",
       "\n",
       "            FRED/CPIAUCSL - Value  GDP_status  \n",
       "Date                                           \n",
       "1947-12-31                  23.41           0  \n",
       "1948-12-31                  24.05           1  \n",
       "1949-12-31                  23.61           0  \n",
       "1950-12-31                  24.98           1  \n",
       "1951-12-31                  26.47           1  "
      ]
     },
     "execution_count": 150,
     "metadata": {},
     "output_type": "execute_result"
    }
   ],
   "source": [
    "data.head()"
   ]
  },
  {
   "cell_type": "code",
   "execution_count": 161,
   "metadata": {
    "collapsed": false,
    "scrolled": true
   },
   "outputs": [],
   "source": [
    "data[\"FRED/UNRATE - Value\"]= data[\"FRED/UNRATE - Value\"].fillna(data[\"FRED/UNRATE - Value\"].mean())"
   ]
  },
  {
   "cell_type": "code",
   "execution_count": 162,
   "metadata": {
    "collapsed": false
   },
   "outputs": [
    {
     "name": "stdout",
     "output_type": "stream",
     "text": [
      "Optimization terminated successfully.\n",
      "         Current function value: 0.646569\n",
      "         Iterations 4\n"
     ]
    },
    {
     "data": {
      "text/html": [
       "<table class=\"simpletable\">\n",
       "<caption>Logit Regression Results</caption>\n",
       "<tr>\n",
       "  <th>Dep. Variable:</th>    <td>GDP_status</td>    <th>  No. Observations:  </th>  <td>    71</td> \n",
       "</tr>\n",
       "<tr>\n",
       "  <th>Model:</th>               <td>Logit</td>      <th>  Df Residuals:      </th>  <td>    70</td> \n",
       "</tr>\n",
       "<tr>\n",
       "  <th>Method:</th>               <td>MLE</td>       <th>  Df Model:          </th>  <td>     0</td> \n",
       "</tr>\n",
       "<tr>\n",
       "  <th>Date:</th>          <td>Mon, 03 Jul 2017</td> <th>  Pseudo R-squ.:     </th>  <td>0.06385</td>\n",
       "</tr>\n",
       "<tr>\n",
       "  <th>Time:</th>              <td>22:24:52</td>     <th>  Log-Likelihood:    </th> <td> -45.906</td>\n",
       "</tr>\n",
       "<tr>\n",
       "  <th>converged:</th>           <td>True</td>       <th>  LL-Null:           </th> <td> -49.037</td>\n",
       "</tr>\n",
       "<tr>\n",
       "  <th> </th>                      <td> </td>        <th>  LLR p-value:       </th>  <td>   nan</td> \n",
       "</tr>\n",
       "</table>\n",
       "<table class=\"simpletable\">\n",
       "<tr>\n",
       "            <td></td>               <th>coef</th>     <th>std err</th>      <th>z</th>      <th>P>|z|</th> <th>[95.0% Conf. Int.]</th> \n",
       "</tr>\n",
       "<tr>\n",
       "  <th>FRED/CPIAUCSL - Value</th> <td>   -0.0049</td> <td>    0.002</td> <td>   -2.438</td> <td> 0.015</td> <td>   -0.009    -0.001</td>\n",
       "</tr>\n",
       "</table>"
      ],
      "text/plain": [
       "<class 'statsmodels.iolib.summary.Summary'>\n",
       "\"\"\"\n",
       "                           Logit Regression Results                           \n",
       "==============================================================================\n",
       "Dep. Variable:             GDP_status   No. Observations:                   71\n",
       "Model:                          Logit   Df Residuals:                       70\n",
       "Method:                           MLE   Df Model:                            0\n",
       "Date:                Mon, 03 Jul 2017   Pseudo R-squ.:                 0.06385\n",
       "Time:                        22:24:52   Log-Likelihood:                -45.906\n",
       "converged:                       True   LL-Null:                       -49.037\n",
       "                                        LLR p-value:                       nan\n",
       "=========================================================================================\n",
       "                            coef    std err          z      P>|z|      [95.0% Conf. Int.]\n",
       "-----------------------------------------------------------------------------------------\n",
       "FRED/CPIAUCSL - Value    -0.0049      0.002     -2.438      0.015        -0.009    -0.001\n",
       "=========================================================================================\n",
       "\"\"\""
      ]
     },
     "execution_count": 162,
     "metadata": {},
     "output_type": "execute_result"
    }
   ],
   "source": [
    "from statsmodels.api import Logit\n",
    "logit = Logit(data['GDP_status'], data[\"FRED/CPIAUCSL - Value\"])\n",
    "results_logit = logit.fit()\n",
    "results_logit.summary()"
   ]
  }
 ],
 "metadata": {
  "anaconda-cloud": {},
  "kernelspec": {
   "display_name": "Python [default]",
   "language": "python",
   "name": "python2"
  },
  "language_info": {
   "codemirror_mode": {
    "name": "ipython",
    "version": 2
   },
   "file_extension": ".py",
   "mimetype": "text/x-python",
   "name": "python",
   "nbconvert_exporter": "python",
   "pygments_lexer": "ipython2",
   "version": "2.7.12"
  }
 },
 "nbformat": 4,
 "nbformat_minor": 2
}
