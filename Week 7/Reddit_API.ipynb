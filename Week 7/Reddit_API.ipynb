{
 "cells": [
  {
   "cell_type": "markdown",
   "metadata": {},
   "source": [
    "# Reddit API\n",
    "\n",
    "This notebook was planned to get comments data from some user on Reddit. Yet, it is not able to proceed with request without providing an agent name (as the default wrapper is overwhelmed). So we defined it and put it into a dictionary called headers as an argument to requests.get function. The Reddit API JSON response can be publicly accessed as presented on the 2nd code line."
   ]
  },
  {
   "cell_type": "code",
   "execution_count": 1,
   "metadata": {
    "collapsed": true
   },
   "outputs": [],
   "source": [
    "import requests"
   ]
  },
  {
   "cell_type": "code",
   "execution_count": 2,
   "metadata": {
    "collapsed": false
   },
   "outputs": [],
   "source": [
    "data = requests.get(r'http://www.reddit.com/user/narek/comments/.json',headers = {'User-agent': 'Educational bot'})"
   ]
  },
  {
   "cell_type": "code",
   "execution_count": 4,
   "metadata": {
    "collapsed": true
   },
   "outputs": [],
   "source": [
    "data = data.json()"
   ]
  },
  {
   "cell_type": "code",
   "execution_count": 5,
   "metadata": {
    "collapsed": false
   },
   "outputs": [
    {
     "name": "stdout",
     "output_type": "stream",
     "text": [
      "{u'data': {u'after': None,\n",
      "           u'before': None,\n",
      "           u'children': [{u'data': {u'approved_by': None,\n",
      "                                    u'archived': True,\n",
      "                                    u'author': u'narek',\n",
      "                                    u'author_flair_css_class': None,\n",
      "                                    u'author_flair_text': None,\n",
      "                                    u'banned_by': None,\n",
      "                                    u'body': u'messi',\n",
      "                                    u'body_html': u'&lt;div class=\"md\"&gt;&lt;p&gt;messi&lt;/p&gt;\\n&lt;/div&gt;',\n",
      "                                    u'can_gild': True,\n",
      "                                    u'controversiality': 0,\n",
      "                                    u'created': 1268439679.0,\n",
      "                                    u'created_utc': 1268410879.0,\n",
      "                                    u'distinguished': None,\n",
      "                                    u'downs': 0,\n",
      "                                    u'edited': False,\n",
      "                                    u'gilded': 0,\n",
      "                                    u'id': u'c0m2phy',\n",
      "                                    u'likes': None,\n",
      "                                    u'link_author': u'jhirorasta',\n",
      "                                    u'link_id': u't3_b1ng1',\n",
      "                                    u'link_permalink': u'https://www.reddit.com/r/reddit.com/comments/b1ng1/share_your_favourite_travel_photos_with_lonely/',\n",
      "                                    u'link_title': u'Share your favourite travel photos with Lonely Planet and win over $170,000 in prizes! | home',\n",
      "                                    u'link_url': u'http://www.lonelyplanet.com/win/?affil=100google',\n",
      "                                    u'mod_reports': [],\n",
      "                                    u'name': u't1_c0m2phy',\n",
      "                                    u'num_comments': 3,\n",
      "                                    u'num_reports': None,\n",
      "                                    u'over_18': False,\n",
      "                                    u'parent_id': u't3_b1ng1',\n",
      "                                    u'quarantine': False,\n",
      "                                    u'removal_reason': None,\n",
      "                                    u'replies': u'',\n",
      "                                    u'report_reasons': None,\n",
      "                                    u'saved': False,\n",
      "                                    u'score': 1,\n",
      "                                    u'score_hidden': False,\n",
      "                                    u'stickied': False,\n",
      "                                    u'subreddit': u'reddit.com',\n",
      "                                    u'subreddit_id': u't5_6',\n",
      "                                    u'subreddit_name_prefixed': u'r/reddit.com',\n",
      "                                    u'subreddit_type': u'archived',\n",
      "                                    u'ups': 1,\n",
      "                                    u'user_reports': []},\n",
      "                          u'kind': u't1'}],\n",
      "           u'modhash': u''},\n",
      " u'kind': u'Listing'}\n"
     ]
    }
   ],
   "source": [
    "from pprint import pprint\n",
    "pprint(data)"
   ]
  },
  {
   "cell_type": "code",
   "execution_count": 6,
   "metadata": {
    "collapsed": false
   },
   "outputs": [
    {
     "name": "stdout",
     "output_type": "stream",
     "text": [
      "c0m2phy   narek messi\n",
      "\n"
     ]
    }
   ],
   "source": [
    "for child in data['data']['children']:\n",
    "    print child['data']['id'], \" \", child['data']['author'],child['data']['body']\n",
    "    print"
   ]
  }
 ],
 "metadata": {
  "anaconda-cloud": {},
  "kernelspec": {
   "display_name": "Python [conda root]",
   "language": "python",
   "name": "conda-root-py"
  },
  "language_info": {
   "codemirror_mode": {
    "name": "ipython",
    "version": 2
   },
   "file_extension": ".py",
   "mimetype": "text/x-python",
   "name": "python",
   "nbconvert_exporter": "python",
   "pygments_lexer": "ipython2",
   "version": "2.7.12"
  }
 },
 "nbformat": 4,
 "nbformat_minor": 2
}
