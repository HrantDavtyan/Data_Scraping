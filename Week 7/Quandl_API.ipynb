{
 "cells": [
  {
   "cell_type": "markdown",
   "metadata": {},
   "source": [
    "# Quandl API - authorized access\n",
    "\n",
    "Quandl provides a powerful API for economics and finance specilists. It is a one place for all solution for those who are interested both in publiclky available macroeconomic, financial and other data and for those who are ready to pay for Bloomberg-and-Reuters-like company data. The API can be accessed even from Excel. It has libraries for several programming languages including R and Python. The package for Python is called **Quandl** and and can be installed using pip as usuallly:\n",
    "```\n",
    "pip install Quandl\n",
    "```\n",
    "\n",
    "It is worth mentioning that Quandl also provides unauthorized access to several databases in CSV, JSON and XML formats. As an example, one may consider getting GDP ([Gross Domestic Product](http://www.investopedia.com/ask/answers/199.asp)) data from FRED ([Federal Researve Economic Data](https://fred.stlouisfed.org/)) using the following links:\n",
    "* JSON file - https://www.quandl.com/api/v3/datasets/FRED/GDP.json\n",
    "* XML file - https://www.quandl.com/api/v3/datasets/FRED/GDP.xml\n",
    "* CSV file - https://www.quandl.com/api/v3/datasets/FRED/GDP.csv\n",
    "\n",
    "*Note: the only difference between this links is the last component: file dimension.\n",
    "\n",
    "Yet, using authorized access to **Quandl** trough the abovementioned library provides some user-frnedly features, includign the fact that by default most data is received into already well-known Pandas dataframes (thus, we can use the **head()** function, drop or fill missing values, plot etc.)."
   ]
  },
  {
   "cell_type": "code",
   "execution_count": 3,
   "metadata": {
    "collapsed": false
   },
   "outputs": [],
   "source": [
    "import quandl"
   ]
  },
  {
   "cell_type": "markdown",
   "metadata": {},
   "source": [
    "Let's now get the same data trough the library and using our API key for authorized access."
   ]
  },
  {
   "cell_type": "code",
   "execution_count": 8,
   "metadata": {
    "collapsed": true
   },
   "outputs": [],
   "source": [
    "US_GDP_data = quandl.get(\"FRED/GDP\",authtoken = 'somesecrettokenhere')"
   ]
  },
  {
   "cell_type": "code",
   "execution_count": 9,
   "metadata": {
    "collapsed": false
   },
   "outputs": [
    {
     "data": {
      "text/html": [
       "<div>\n",
       "<table border=\"1\" class=\"dataframe\">\n",
       "  <thead>\n",
       "    <tr style=\"text-align: right;\">\n",
       "      <th></th>\n",
       "      <th>Value</th>\n",
       "    </tr>\n",
       "    <tr>\n",
       "      <th>Date</th>\n",
       "      <th></th>\n",
       "    </tr>\n",
       "  </thead>\n",
       "  <tbody>\n",
       "    <tr>\n",
       "      <th>1947-01-01</th>\n",
       "      <td>243.1</td>\n",
       "    </tr>\n",
       "    <tr>\n",
       "      <th>1947-04-01</th>\n",
       "      <td>246.3</td>\n",
       "    </tr>\n",
       "    <tr>\n",
       "      <th>1947-07-01</th>\n",
       "      <td>250.1</td>\n",
       "    </tr>\n",
       "    <tr>\n",
       "      <th>1947-10-01</th>\n",
       "      <td>260.3</td>\n",
       "    </tr>\n",
       "    <tr>\n",
       "      <th>1948-01-01</th>\n",
       "      <td>266.2</td>\n",
       "    </tr>\n",
       "  </tbody>\n",
       "</table>\n",
       "</div>"
      ],
      "text/plain": [
       "            Value\n",
       "Date             \n",
       "1947-01-01  243.1\n",
       "1947-04-01  246.3\n",
       "1947-07-01  250.1\n",
       "1947-10-01  260.3\n",
       "1948-01-01  266.2"
      ]
     },
     "execution_count": 9,
     "metadata": {},
     "output_type": "execute_result"
    }
   ],
   "source": [
    "US_GDP_data.head()"
   ]
  },
  {
   "cell_type": "markdown",
   "metadata": {},
   "source": [
    "As you can see, the dates were directly saved as an index (row name) which simplifies our life: we can choose whatever period we want by indexing it. Still, the **get()** function can receive more arguments including the **trim_start** and **trim_end** to provide data of specific period."
   ]
  },
  {
   "cell_type": "code",
   "execution_count": 11,
   "metadata": {
    "collapsed": false
   },
   "outputs": [
    {
     "data": {
      "text/html": [
       "<div>\n",
       "<table border=\"1\" class=\"dataframe\">\n",
       "  <thead>\n",
       "    <tr style=\"text-align: right;\">\n",
       "      <th></th>\n",
       "      <th>Value</th>\n",
       "    </tr>\n",
       "    <tr>\n",
       "      <th>Date</th>\n",
       "      <th></th>\n",
       "    </tr>\n",
       "  </thead>\n",
       "  <tbody>\n",
       "    <tr>\n",
       "      <th>2016-01-01</th>\n",
       "      <td>18281.6</td>\n",
       "    </tr>\n",
       "    <tr>\n",
       "      <th>2016-04-01</th>\n",
       "      <td>18450.1</td>\n",
       "    </tr>\n",
       "    <tr>\n",
       "      <th>2016-07-01</th>\n",
       "      <td>18675.3</td>\n",
       "    </tr>\n",
       "    <tr>\n",
       "      <th>2016-10-01</th>\n",
       "      <td>18869.4</td>\n",
       "    </tr>\n",
       "  </tbody>\n",
       "</table>\n",
       "</div>"
      ],
      "text/plain": [
       "              Value\n",
       "Date               \n",
       "2016-01-01  18281.6\n",
       "2016-04-01  18450.1\n",
       "2016-07-01  18675.3\n",
       "2016-10-01  18869.4"
      ]
     },
     "execution_count": 11,
     "metadata": {},
     "output_type": "execute_result"
    }
   ],
   "source": [
    "US_GDP_data_2016 = quandl.get(\"FRED/GDP\",authtoken = 'somesecrettokenhere',\n",
    "                             trim_start=\"2016-1-1\", trim_end=\"2016-12-31\")\n",
    "US_GDP_data_2016.head()"
   ]
  },
  {
   "cell_type": "markdown",
   "metadata": {},
   "source": [
    "One may specify even the frequency: e.g. annual, monthly, quarterly (of course, if the data is available at that level)."
   ]
  },
  {
   "cell_type": "code",
   "execution_count": 12,
   "metadata": {
    "collapsed": false
   },
   "outputs": [
    {
     "data": {
      "text/html": [
       "<div>\n",
       "<table border=\"1\" class=\"dataframe\">\n",
       "  <thead>\n",
       "    <tr style=\"text-align: right;\">\n",
       "      <th></th>\n",
       "      <th>Value</th>\n",
       "    </tr>\n",
       "    <tr>\n",
       "      <th>Date</th>\n",
       "      <th></th>\n",
       "    </tr>\n",
       "  </thead>\n",
       "  <tbody>\n",
       "    <tr>\n",
       "      <th>2000-12-31</th>\n",
       "      <td>10472.3</td>\n",
       "    </tr>\n",
       "    <tr>\n",
       "      <th>2001-12-31</th>\n",
       "      <td>10701.3</td>\n",
       "    </tr>\n",
       "    <tr>\n",
       "      <th>2002-12-31</th>\n",
       "      <td>11103.8</td>\n",
       "    </tr>\n",
       "    <tr>\n",
       "      <th>2003-12-31</th>\n",
       "      <td>11816.8</td>\n",
       "    </tr>\n",
       "    <tr>\n",
       "      <th>2004-12-31</th>\n",
       "      <td>12562.2</td>\n",
       "    </tr>\n",
       "  </tbody>\n",
       "</table>\n",
       "</div>"
      ],
      "text/plain": [
       "              Value\n",
       "Date               \n",
       "2000-12-31  10472.3\n",
       "2001-12-31  10701.3\n",
       "2002-12-31  11103.8\n",
       "2003-12-31  11816.8\n",
       "2004-12-31  12562.2"
      ]
     },
     "execution_count": 12,
     "metadata": {},
     "output_type": "execute_result"
    }
   ],
   "source": [
    "US_GDP_data_2000s = quandl.get(\"FRED/GDP\",authtoken = 'somesecrettokenhere',\n",
    "                             trim_start=\"2000-1-1\", collapse='annual')\n",
    "US_GDP_data_2000s.head()"
   ]
  },
  {
   "cell_type": "markdown",
   "metadata": {},
   "source": [
    "Another advantage of using the authorized access is that one cat get a data for the same period on different indicators into the the same dataframe. Let's get the GDP, [Unemployment rate](http://www.investopedia.com/terms/u/unemploymentrate.asp), [Interest rate](http://www.investopedia.com/terms/i/interestrate.asp) and CPI ([Consumer Price Index](http://www.investopedia.com/terms/c/cpiu.asp)) for Urban customers data from the [FRED database on Quandl](https://www.quandl.com/data/FRED-Federal-Reserve-Economic-Data)."
   ]
  },
  {
   "cell_type": "code",
   "execution_count": 13,
   "metadata": {
    "collapsed": false
   },
   "outputs": [],
   "source": [
    "data = quandl.get([\"FRED/GDP\",\"FRED/UNRATE\", \"FRED/FEDFUNDS\", \"FRED/CPIAUCSL\"],\n",
    "                  authtoken = 'somesecrettokenhere',\n",
    "                  trim_start=\"2000-1-1\", trim_end=\"2016-12-31\", collapse = 'annual')"
   ]
  },
  {
   "cell_type": "code",
   "execution_count": 15,
   "metadata": {
    "collapsed": false
   },
   "outputs": [],
   "source": [
    "data.columns = ['GDP','Unemployment', 'Interest_rate', 'CPI_Urban']"
   ]
  },
  {
   "cell_type": "code",
   "execution_count": 16,
   "metadata": {
    "collapsed": false
   },
   "outputs": [
    {
     "data": {
      "text/html": [
       "<div>\n",
       "<table border=\"1\" class=\"dataframe\">\n",
       "  <thead>\n",
       "    <tr style=\"text-align: right;\">\n",
       "      <th></th>\n",
       "      <th>GDP</th>\n",
       "      <th>Unemployment</th>\n",
       "      <th>Interest_rate</th>\n",
       "      <th>CPI_Urban</th>\n",
       "    </tr>\n",
       "    <tr>\n",
       "      <th>Date</th>\n",
       "      <th></th>\n",
       "      <th></th>\n",
       "      <th></th>\n",
       "      <th></th>\n",
       "    </tr>\n",
       "  </thead>\n",
       "  <tbody>\n",
       "    <tr>\n",
       "      <th>2000-12-31</th>\n",
       "      <td>10472.3</td>\n",
       "      <td>3.9</td>\n",
       "      <td>6.40</td>\n",
       "      <td>174.6</td>\n",
       "    </tr>\n",
       "    <tr>\n",
       "      <th>2001-12-31</th>\n",
       "      <td>10701.3</td>\n",
       "      <td>5.7</td>\n",
       "      <td>1.82</td>\n",
       "      <td>177.4</td>\n",
       "    </tr>\n",
       "    <tr>\n",
       "      <th>2002-12-31</th>\n",
       "      <td>11103.8</td>\n",
       "      <td>6.0</td>\n",
       "      <td>1.24</td>\n",
       "      <td>181.8</td>\n",
       "    </tr>\n",
       "    <tr>\n",
       "      <th>2003-12-31</th>\n",
       "      <td>11816.8</td>\n",
       "      <td>5.7</td>\n",
       "      <td>0.98</td>\n",
       "      <td>185.5</td>\n",
       "    </tr>\n",
       "    <tr>\n",
       "      <th>2004-12-31</th>\n",
       "      <td>12562.2</td>\n",
       "      <td>5.4</td>\n",
       "      <td>2.16</td>\n",
       "      <td>191.7</td>\n",
       "    </tr>\n",
       "  </tbody>\n",
       "</table>\n",
       "</div>"
      ],
      "text/plain": [
       "                GDP  Unemployment  Interest_rate  CPI_Urban\n",
       "Date                                                       \n",
       "2000-12-31  10472.3           3.9           6.40      174.6\n",
       "2001-12-31  10701.3           5.7           1.82      177.4\n",
       "2002-12-31  11103.8           6.0           1.24      181.8\n",
       "2003-12-31  11816.8           5.7           0.98      185.5\n",
       "2004-12-31  12562.2           5.4           2.16      191.7"
      ]
     },
     "execution_count": 16,
     "metadata": {},
     "output_type": "execute_result"
    }
   ],
   "source": [
    "data.head()"
   ]
  },
  {
   "cell_type": "markdown",
   "metadata": {},
   "source": [
    "We can have a bit of statistical analysis here. Let's check the correlation between those 4 variables by generating a correlation matrix. That can again easily be done using a **corr()** function from Pandas that is available for DataFrames."
   ]
  },
  {
   "cell_type": "code",
   "execution_count": 17,
   "metadata": {
    "collapsed": false
   },
   "outputs": [
    {
     "data": {
      "text/html": [
       "<div>\n",
       "<table border=\"1\" class=\"dataframe\">\n",
       "  <thead>\n",
       "    <tr style=\"text-align: right;\">\n",
       "      <th></th>\n",
       "      <th>GDP</th>\n",
       "      <th>Unemployment</th>\n",
       "      <th>Interest_rate</th>\n",
       "      <th>CPI_Urban</th>\n",
       "    </tr>\n",
       "  </thead>\n",
       "  <tbody>\n",
       "    <tr>\n",
       "      <th>GDP</th>\n",
       "      <td>1.000000</td>\n",
       "      <td>0.184495</td>\n",
       "      <td>-0.533621</td>\n",
       "      <td>0.987589</td>\n",
       "    </tr>\n",
       "    <tr>\n",
       "      <th>Unemployment</th>\n",
       "      <td>0.184495</td>\n",
       "      <td>1.000000</td>\n",
       "      <td>-0.655245</td>\n",
       "      <td>0.321762</td>\n",
       "    </tr>\n",
       "    <tr>\n",
       "      <th>Interest_rate</th>\n",
       "      <td>-0.533621</td>\n",
       "      <td>-0.655245</td>\n",
       "      <td>1.000000</td>\n",
       "      <td>-0.592876</td>\n",
       "    </tr>\n",
       "    <tr>\n",
       "      <th>CPI_Urban</th>\n",
       "      <td>0.987589</td>\n",
       "      <td>0.321762</td>\n",
       "      <td>-0.592876</td>\n",
       "      <td>1.000000</td>\n",
       "    </tr>\n",
       "  </tbody>\n",
       "</table>\n",
       "</div>"
      ],
      "text/plain": [
       "                    GDP  Unemployment  Interest_rate  CPI_Urban\n",
       "GDP            1.000000      0.184495      -0.533621   0.987589\n",
       "Unemployment   0.184495      1.000000      -0.655245   0.321762\n",
       "Interest_rate -0.533621     -0.655245       1.000000  -0.592876\n",
       "CPI_Urban      0.987589      0.321762      -0.592876   1.000000"
      ]
     },
     "execution_count": 17,
     "metadata": {},
     "output_type": "execute_result"
    }
   ],
   "source": [
    "data.corr()"
   ]
  },
  {
   "cell_type": "markdown",
   "metadata": {},
   "source": [
    "It can be inferred that the increase in Interest rate is accompained by decrease in everything else (negative correlation). The strongest among them is the correlation with Unemployment rate: increase in interest rates is accompained by decrease un unemployment and hence increase in employment rates.\n",
    "\n",
    ">*Note: take attention to the term **accompained** that was used in the paragraph above. One cannot claim that interest rates drive the increasse or decrease, as the correlation does not imply causation.*\n",
    "\n",
    "The overall strongest correlation is the one between urban CPI and GDP (a bit less than full 100% correlation). Conclusions are left upon the reader.\n",
    "\n",
    "We can use **matplotlib.pyplot** to plot the GDP trend line."
   ]
  },
  {
   "cell_type": "code",
   "execution_count": 21,
   "metadata": {
    "collapsed": false
   },
   "outputs": [
    {
     "data": {
      "image/png": "[encoded data removed]",
      "text/plain": [
       "<matplotlib.figure.Figure at 0xb0c5f60>"
      ]
     },
     "metadata": {},
     "output_type": "display_data"
    }
   ],
   "source": [
    "import matplotlib.pyplot as plt\n",
    "%matplotlib inline\n",
    "\n",
    "data[\"GDP\"].plot()\n",
    "plt.show()"
   ]
  }
 ],
 "metadata": {
  "anaconda-cloud": {},
  "kernelspec": {
   "display_name": "Python [default]",
   "language": "python",
   "name": "python2"
  },
  "language_info": {
   "codemirror_mode": {
    "name": "ipython",
    "version": 2
   },
   "file_extension": ".py",
   "mimetype": "text/x-python",
   "name": "python",
   "nbconvert_exporter": "python",
   "pygments_lexer": "ipython2",
   "version": "2.7.12"
  }
 },
 "nbformat": 4,
 "nbformat_minor": 2
}
